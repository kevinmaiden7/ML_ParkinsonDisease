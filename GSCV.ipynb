{
 "cells": [
  {
   "cell_type": "markdown",
   "metadata": {},
   "source": [
    "## Machine Learning Project on UCI Parkinsons Telemonitoring Data Set"
   ]
  },
  {
   "cell_type": "markdown",
   "metadata": {},
   "source": [
    "Importación de librerías"
   ]
  },
  {
   "cell_type": "code",
   "execution_count": null,
   "metadata": {},
   "outputs": [],
   "source": [
    "#!pip install qgrid"
   ]
  },
  {
   "cell_type": "code",
   "execution_count": 1,
   "metadata": {},
   "outputs": [],
   "source": [
    "from __future__ import division\n",
    "\n",
    "%matplotlib inline\n",
    "import numpy as np\n",
    "import matplotlib.pyplot as plt\n",
    "import numpy.matlib as matlib\n",
    "\n",
    "from numpy import random\n",
    "import math\n",
    "\n",
    "import pandas as pd\n",
    "import qgrid\n",
    "\n",
    "import scipy as sc\n",
    "from scipy.spatial import distance\n",
    "from scipy import stats\n",
    "\n",
    "#algunas advertencias que queremos evitar\n",
    "import warnings\n",
    "warnings.filterwarnings(\"always\")"
   ]
  },
  {
   "cell_type": "markdown",
   "metadata": {},
   "source": [
    "Cargamos la base de datos"
   ]
  },
  {
   "cell_type": "code",
   "execution_count": 2,
   "metadata": {},
   "outputs": [],
   "source": [
    "#Cargamos la bd que está en un archivo .data y ahora la podemos manejar de forma matricial\n",
    "db = np.loadtxt('DB/parkinsons_updrs.data', delimiter=',', skiprows=1)  # Assuming ',' delimiter\n",
    "\n",
    "#X: Toma todas las filas (muestras) y las columnas 6-21 (características)\n",
    "X = db[:,6:22]\n",
    "#Y: Toma todas las filas y la columna 4, corresponde a la salida de la regresión\n",
    "Y = db[:,4]\n",
    "#G: Toma todas las filas y la columna 0, corresponde a la asociación en grupos del dataset\n",
    "G = db[:,0]"
   ]
  },
  {
   "cell_type": "code",
   "execution_count": 3,
   "metadata": {},
   "outputs": [
    {
     "name": "stdout",
     "output_type": "stream",
     "text": [
      "(5875, 16)\n",
      "(5875,)\n",
      "(5875,)\n"
     ]
    }
   ],
   "source": [
    "print(X.shape)\n",
    "print(Y.shape)\n",
    "print(G.shape)"
   ]
  },
  {
   "cell_type": "markdown",
   "metadata": {},
   "source": [
    "#### Regresión Lineal Múltiple"
   ]
  },
  {
   "cell_type": "code",
   "execution_count": 71,
   "metadata": {},
   "outputs": [
    {
     "name": "stderr",
     "output_type": "stream",
     "text": [
      "C:\\Users\\Kevin\\Anaconda3\\lib\\site-packages\\sklearn\\model_selection\\_search.py:814: DeprecationWarning: The default of the `iid` parameter will change from True to False in version 0.22 and will be removed in 0.24. This will change numeric results when test-set sizes are unequal.\n",
      "  DeprecationWarning)\n"
     ]
    }
   ],
   "source": [
    "from sklearn.model_selection import GroupShuffleSplit\n",
    "from sklearn.preprocessing import PolynomialFeatures\n",
    "from sklearn.linear_model import LinearRegression\n",
    "from sklearn.pipeline import Pipeline\n",
    "from sklearn import preprocessing\n",
    "from sklearn.model_selection import GridSearchCV\n",
    "from sklearn.metrics import make_scorer, mean_absolute_error, r2_score\n",
    "\n",
    "# Normalizamos los datos\n",
    "scaler = preprocessing.StandardScaler().fit(X)\n",
    "X_norm = scaler.transform(X)\n",
    "\n",
    "random.seed(19680801)\n",
    "\n",
    "iterations = 10\n",
    "gss = GroupShuffleSplit(n_splits=iterations, train_size=.7)\n",
    "index = gss.split(X, Y, G)\n",
    "\n",
    "# modelo\n",
    "model = Pipeline([('poly', PolynomialFeatures()), ('linear', LinearRegression(fit_intercept=False))])\n",
    "#print(model.get_params().keys())\n",
    "\n",
    "parameters = {'poly__degree': [1,2,3]}\n",
    "\n",
    "# métricas de error\n",
    "mae = make_scorer(mean_absolute_error)\n",
    "r2 = make_scorer(r2_score)\n",
    "\n",
    "scores =  {'mae':mae,'r2':r2}\n",
    "\n",
    "# Run the grid search\n",
    "grid_obj = GridSearchCV(model, parameters, scoring=scores, cv=index, return_train_score=True, refit=False)\n",
    "grid_obj = grid_obj.fit(X_norm, Y)"
   ]
  },
  {
   "cell_type": "code",
   "execution_count": 72,
   "metadata": {},
   "outputs": [
    {
     "data": {
      "text/html": [
       "<div>\n",
       "<style scoped>\n",
       "    .dataframe tbody tr th:only-of-type {\n",
       "        vertical-align: middle;\n",
       "    }\n",
       "\n",
       "    .dataframe tbody tr th {\n",
       "        vertical-align: top;\n",
       "    }\n",
       "\n",
       "    .dataframe thead th {\n",
       "        text-align: right;\n",
       "    }\n",
       "</style>\n",
       "<table border=\"1\" class=\"dataframe\">\n",
       "  <thead>\n",
       "    <tr style=\"text-align: right;\">\n",
       "      <th></th>\n",
       "      <th>params</th>\n",
       "      <th>mean_train_mae</th>\n",
       "      <th>std_train_mae</th>\n",
       "      <th>mean_train_r2</th>\n",
       "      <th>std_train_r2</th>\n",
       "      <th>mean_test_mae</th>\n",
       "      <th>std_test_mae</th>\n",
       "      <th>mean_test_r2</th>\n",
       "      <th>std_test_r2</th>\n",
       "    </tr>\n",
       "  </thead>\n",
       "  <tbody>\n",
       "    <tr>\n",
       "      <td>0</td>\n",
       "      <td>{'poly__degree': 1}</td>\n",
       "      <td>6.351467</td>\n",
       "      <td>0.137507</td>\n",
       "      <td>0.137742</td>\n",
       "      <td>0.036423</td>\n",
       "      <td>7.111647</td>\n",
       "      <td>0.257081</td>\n",
       "      <td>-0.190200</td>\n",
       "      <td>0.159749</td>\n",
       "    </tr>\n",
       "    <tr>\n",
       "      <td>1</td>\n",
       "      <td>{'poly__degree': 2}</td>\n",
       "      <td>5.461242</td>\n",
       "      <td>0.140235</td>\n",
       "      <td>0.316153</td>\n",
       "      <td>0.035992</td>\n",
       "      <td>8.235385</td>\n",
       "      <td>1.381189</td>\n",
       "      <td>-2.500878</td>\n",
       "      <td>4.340854</td>\n",
       "    </tr>\n",
       "    <tr>\n",
       "      <td>2</td>\n",
       "      <td>{'poly__degree': 3}</td>\n",
       "      <td>4.150686</td>\n",
       "      <td>0.150169</td>\n",
       "      <td>0.560703</td>\n",
       "      <td>0.031053</td>\n",
       "      <td>42.009883</td>\n",
       "      <td>51.075430</td>\n",
       "      <td>-16383.067737</td>\n",
       "      <td>38457.803648</td>\n",
       "    </tr>\n",
       "  </tbody>\n",
       "</table>\n",
       "</div>"
      ],
      "text/plain": [
       "                params  mean_train_mae  std_train_mae  mean_train_r2  \\\n",
       "0  {'poly__degree': 1}        6.351467       0.137507       0.137742   \n",
       "1  {'poly__degree': 2}        5.461242       0.140235       0.316153   \n",
       "2  {'poly__degree': 3}        4.150686       0.150169       0.560703   \n",
       "\n",
       "   std_train_r2  mean_test_mae  std_test_mae  mean_test_r2   std_test_r2  \n",
       "0      0.036423       7.111647      0.257081     -0.190200      0.159749  \n",
       "1      0.035992       8.235385      1.381189     -2.500878      4.340854  \n",
       "2      0.031053      42.009883     51.075430 -16383.067737  38457.803648  "
      ]
     },
     "execution_count": 72,
     "metadata": {},
     "output_type": "execute_result"
    }
   ],
   "source": [
    "outcomes = pd.DataFrame(grid_obj.cv_results_)\n",
    "outcomes = outcomes[['params', 'mean_train_mae', 'std_train_mae', 'mean_train_r2', 'std_train_r2',\n",
    "            'mean_test_mae', 'std_test_mae', 'mean_test_r2', 'std_test_r2']]\n",
    "outcomes"
   ]
  }
 ],
 "metadata": {
  "kernelspec": {
   "display_name": "Python 3",
   "language": "python",
   "name": "python3"
  },
  "language_info": {
   "codemirror_mode": {
    "name": "ipython",
    "version": 3
   },
   "file_extension": ".py",
   "mimetype": "text/x-python",
   "name": "python",
   "nbconvert_exporter": "python",
   "pygments_lexer": "ipython3",
   "version": "3.7.4"
  }
 },
 "nbformat": 4,
 "nbformat_minor": 2
}
