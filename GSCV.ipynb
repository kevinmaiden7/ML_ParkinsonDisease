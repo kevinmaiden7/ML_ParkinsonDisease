{
 "cells": [
  {
   "cell_type": "markdown",
   "metadata": {},
   "source": [
    "## Machine Learning Project on UCI Parkinsons Telemonitoring Data Set"
   ]
  },
  {
   "cell_type": "markdown",
   "metadata": {},
   "source": [
    "Importación de librerías"
   ]
  },
  {
   "cell_type": "code",
   "execution_count": null,
   "metadata": {},
   "outputs": [],
   "source": [
    "#!pip install qgrid"
   ]
  },
  {
   "cell_type": "code",
   "execution_count": 1,
   "metadata": {},
   "outputs": [],
   "source": [
    "from __future__ import division\n",
    "\n",
    "%matplotlib inline\n",
    "import numpy as np\n",
    "import matplotlib.pyplot as plt\n",
    "import numpy.matlib as matlib\n",
    "\n",
    "from numpy import random\n",
    "from numpy import round\n",
    "import math\n",
    "\n",
    "import pandas as pd\n",
    "import qgrid\n",
    "\n",
    "import scipy as sc\n",
    "from scipy.spatial import distance\n",
    "from scipy import stats\n",
    "\n",
    "#algunas advertencias que queremos evitar\n",
    "import warnings\n",
    "warnings.filterwarnings(\"always\")"
   ]
  },
  {
   "cell_type": "markdown",
   "metadata": {},
   "source": [
    "Cargamos la base de datos"
   ]
  },
  {
   "cell_type": "code",
   "execution_count": 2,
   "metadata": {},
   "outputs": [],
   "source": [
    "#Cargamos la bd que está en un archivo .data y ahora la podemos manejar de forma matricial\n",
    "db = np.loadtxt('DB/parkinsons_updrs.data', delimiter=',', skiprows=1)  # Assuming ',' delimiter\n",
    "\n",
    "#X: Toma todas las filas (muestras) y las columnas 6-21 (características)\n",
    "X = db[:,6:22]\n",
    "#Y: Toma todas las filas y la columna 4, corresponde a la salida de la regresión\n",
    "Y = db[:,4]\n",
    "#G: Toma todas las filas y la columna 0, corresponde a la asociación en grupos del dataset\n",
    "G = db[:,0]"
   ]
  },
  {
   "cell_type": "code",
   "execution_count": 3,
   "metadata": {},
   "outputs": [
    {
     "name": "stdout",
     "output_type": "stream",
     "text": [
      "(5875, 16)\n",
      "(5875,)\n",
      "(5875,)\n"
     ]
    }
   ],
   "source": [
    "print(X.shape)\n",
    "print(Y.shape)\n",
    "print(G.shape)"
   ]
  },
  {
   "cell_type": "markdown",
   "metadata": {},
   "source": [
    "Medidas de error"
   ]
  },
  {
   "cell_type": "code",
   "execution_count": 4,
   "metadata": {},
   "outputs": [],
   "source": [
    "#Mean Absolute Percentage Error\n",
    "def MAPE(Y, Y_est):\n",
    "    N = np.size(Y)\n",
    "    mape = np.sum(abs((Y_est.reshape(N,1) - Y.reshape(N,1))/Y.reshape(N,1)))/N\n",
    "    return mape"
   ]
  },
  {
   "cell_type": "markdown",
   "metadata": {},
   "source": [
    "#### Regresión Lineal Múltiple"
   ]
  },
  {
   "cell_type": "code",
   "execution_count": 5,
   "metadata": {},
   "outputs": [
    {
     "name": "stderr",
     "output_type": "stream",
     "text": [
      "C:\\Users\\Kevin\\Anaconda3\\lib\\importlib\\_bootstrap.py:219: RuntimeWarning: numpy.ufunc size changed, may indicate binary incompatibility. Expected 192 from C header, got 216 from PyObject\n",
      "  return f(*args, **kwds)\n",
      "C:\\Users\\Kevin\\Anaconda3\\lib\\importlib\\_bootstrap.py:219: RuntimeWarning: numpy.ufunc size changed, may indicate binary incompatibility. Expected 192 from C header, got 216 from PyObject\n",
      "  return f(*args, **kwds)\n",
      "C:\\Users\\Kevin\\Anaconda3\\lib\\importlib\\_bootstrap.py:219: RuntimeWarning: numpy.ufunc size changed, may indicate binary incompatibility. Expected 192 from C header, got 216 from PyObject\n",
      "  return f(*args, **kwds)\n",
      "C:\\Users\\Kevin\\Anaconda3\\lib\\importlib\\_bootstrap.py:219: RuntimeWarning: numpy.ufunc size changed, may indicate binary incompatibility. Expected 192 from C header, got 216 from PyObject\n",
      "  return f(*args, **kwds)\n",
      "C:\\Users\\Kevin\\Anaconda3\\lib\\importlib\\_bootstrap.py:219: RuntimeWarning: numpy.ufunc size changed, may indicate binary incompatibility. Expected 192 from C header, got 216 from PyObject\n",
      "  return f(*args, **kwds)\n",
      "C:\\Users\\Kevin\\Anaconda3\\lib\\importlib\\_bootstrap.py:219: RuntimeWarning: numpy.ufunc size changed, may indicate binary incompatibility. Expected 192 from C header, got 216 from PyObject\n",
      "  return f(*args, **kwds)\n",
      "C:\\Users\\Kevin\\Anaconda3\\lib\\importlib\\_bootstrap.py:219: RuntimeWarning: numpy.ufunc size changed, may indicate binary incompatibility. Expected 192 from C header, got 216 from PyObject\n",
      "  return f(*args, **kwds)\n",
      "C:\\Users\\Kevin\\Anaconda3\\lib\\importlib\\_bootstrap.py:219: RuntimeWarning: numpy.ufunc size changed, may indicate binary incompatibility. Expected 192 from C header, got 216 from PyObject\n",
      "  return f(*args, **kwds)\n",
      "C:\\Users\\Kevin\\Anaconda3\\lib\\importlib\\_bootstrap.py:219: RuntimeWarning: numpy.ufunc size changed, may indicate binary incompatibility. Expected 192 from C header, got 216 from PyObject\n",
      "  return f(*args, **kwds)\n",
      "C:\\Users\\Kevin\\Anaconda3\\lib\\importlib\\_bootstrap.py:219: RuntimeWarning: numpy.ufunc size changed, may indicate binary incompatibility. Expected 192 from C header, got 216 from PyObject\n",
      "  return f(*args, **kwds)\n",
      "C:\\Users\\Kevin\\Anaconda3\\lib\\importlib\\_bootstrap.py:219: RuntimeWarning: numpy.ufunc size changed, may indicate binary incompatibility. Expected 192 from C header, got 216 from PyObject\n",
      "  return f(*args, **kwds)\n",
      "C:\\Users\\Kevin\\Anaconda3\\lib\\importlib\\_bootstrap.py:219: RuntimeWarning: numpy.ufunc size changed, may indicate binary incompatibility. Expected 192 from C header, got 216 from PyObject\n",
      "  return f(*args, **kwds)\n",
      "C:\\Users\\Kevin\\Anaconda3\\lib\\importlib\\_bootstrap.py:219: RuntimeWarning: numpy.ufunc size changed, may indicate binary incompatibility. Expected 192 from C header, got 216 from PyObject\n",
      "  return f(*args, **kwds)\n",
      "C:\\Users\\Kevin\\Anaconda3\\lib\\importlib\\_bootstrap.py:219: RuntimeWarning: numpy.ufunc size changed, may indicate binary incompatibility. Expected 192 from C header, got 216 from PyObject\n",
      "  return f(*args, **kwds)\n",
      "C:\\Users\\Kevin\\Anaconda3\\lib\\importlib\\_bootstrap.py:219: RuntimeWarning: numpy.ufunc size changed, may indicate binary incompatibility. Expected 192 from C header, got 216 from PyObject\n",
      "  return f(*args, **kwds)\n",
      "C:\\Users\\Kevin\\Anaconda3\\lib\\importlib\\_bootstrap.py:219: RuntimeWarning: numpy.ufunc size changed, may indicate binary incompatibility. Expected 192 from C header, got 216 from PyObject\n",
      "  return f(*args, **kwds)\n"
     ]
    },
    {
     "name": "stdout",
     "output_type": "stream",
     "text": [
      "Fitting 10 folds for each of 4 candidates, totalling 40 fits\n",
      "[CV] poly__degree=1 ..................................................\n"
     ]
    },
    {
     "name": "stderr",
     "output_type": "stream",
     "text": [
      "[Parallel(n_jobs=1)]: Using backend SequentialBackend with 1 concurrent workers.\n"
     ]
    },
    {
     "name": "stdout",
     "output_type": "stream",
     "text": [
      "[CV]  poly__degree=1, mae=(train=6.440, test=6.850), mape=(train=0.359, test=0.534), rmse=(train=7.469, test=8.228), total=   0.9s\n",
      "[CV] poly__degree=1 ..................................................\n",
      "[CV]  poly__degree=1, mae=(train=6.252, test=7.558), mape=(train=0.397, test=0.440), rmse=(train=7.557, test=8.628), total=   0.0s\n",
      "[CV] poly__degree=1 ..................................................\n",
      "[CV]  poly__degree=1, mae=(train=6.298, test=7.007), mape=(train=0.401, test=0.374), rmse=(train=7.502, test=8.492), total=   0.0s\n",
      "[CV] poly__degree=1 ..................................................\n",
      "[CV]  poly__degree=1, mae=(train=6.411, test=6.881), mape=(train=0.407, test=0.374), rmse=(train=7.749, test=8.118), total=   0.0s\n",
      "[CV] poly__degree=1 ..................................................\n",
      "[CV]  poly__degree=1, mae=(train=6.209, test=7.395), mape=(train=0.408, test=0.288), rmse=(train=7.378, test=9.008), total=   0.0s\n",
      "[CV] poly__degree=1 ..................................................\n",
      "[CV]  poly__degree=1, mae=(train=6.384, test=6.994), mape=(train=0.380, test=0.437), rmse=(train=7.297, test=8.900), total=   0.0s\n",
      "[CV] poly__degree=1 ..................................................\n",
      "[CV]  poly__degree=1, mae=(train=6.595, test=6.849), mape=(train=0.372, test=0.557), rmse=(train=7.732, test=7.895), total=   0.0s\n",
      "[CV] poly__degree=1 ..................................................\n",
      "[CV]  poly__degree=1, mae=(train=6.173, test=7.300), mape=(train=0.366, test=0.461), rmse=(train=7.367, test=9.001), total=   0.0s\n",
      "[CV] poly__degree=1 ..................................................\n",
      "[CV]  poly__degree=1, mae=(train=6.216, test=7.412), mape=(train=0.401, test=0.328), rmse=(train=7.476, test=9.333), total=   0.0s\n",
      "[CV] poly__degree=1 ..................................................\n",
      "[CV]  poly__degree=1, mae=(train=6.537, test=6.894), mape=(train=0.397, test=0.450), rmse=(train=7.722, test=8.173), total=   0.0s\n",
      "[CV] poly__degree=2 ..................................................\n"
     ]
    },
    {
     "name": "stderr",
     "output_type": "stream",
     "text": [
      "[Parallel(n_jobs=1)]: Done   1 out of   1 | elapsed:    0.8s remaining:    0.0s\n",
      "[Parallel(n_jobs=1)]: Done   2 out of   2 | elapsed:    0.8s remaining:    0.0s\n",
      "[Parallel(n_jobs=1)]: Done   3 out of   3 | elapsed:    0.8s remaining:    0.0s\n",
      "[Parallel(n_jobs=1)]: Done   4 out of   4 | elapsed:    0.8s remaining:    0.0s\n",
      "[Parallel(n_jobs=1)]: Done   5 out of   5 | elapsed:    0.8s remaining:    0.0s\n",
      "[Parallel(n_jobs=1)]: Done   6 out of   6 | elapsed:    0.8s remaining:    0.0s\n",
      "[Parallel(n_jobs=1)]: Done   7 out of   7 | elapsed:    0.8s remaining:    0.0s\n",
      "[Parallel(n_jobs=1)]: Done   8 out of   8 | elapsed:    0.8s remaining:    0.0s\n",
      "[Parallel(n_jobs=1)]: Done   9 out of   9 | elapsed:    0.8s remaining:    0.0s\n",
      "[Parallel(n_jobs=1)]: Done  10 out of  10 | elapsed:    0.8s remaining:    0.0s\n"
     ]
    },
    {
     "name": "stdout",
     "output_type": "stream",
     "text": [
      "[CV]  poly__degree=2, mae=(train=5.300, test=7.707), mape=(train=0.295, test=0.581), rmse=(train=6.431, test=9.229), total=   0.3s\n",
      "[CV] poly__degree=2 ..................................................\n",
      "[CV]  poly__degree=2, mae=(train=5.485, test=7.566), mape=(train=0.352, test=0.421), rmse=(train=6.791, test=8.963), total=   0.1s\n",
      "[CV] poly__degree=2 ..................................................\n",
      "[CV]  poly__degree=2, mae=(train=5.477, test=8.016), mape=(train=0.358, test=0.406), rmse=(train=6.761, test=13.349), total=   0.1s"
     ]
    },
    {
     "name": "stderr",
     "output_type": "stream",
     "text": [
      "[Parallel(n_jobs=1)]: Done  11 out of  11 | elapsed:    1.1s remaining:    0.0s\n"
     ]
    },
    {
     "name": "stdout",
     "output_type": "stream",
     "text": [
      "\n",
      "[CV] poly__degree=2 ..................................................\n",
      "[CV]  poly__degree=2, mae=(train=5.553, test=7.735), mape=(train=0.356, test=0.411), rmse=(train=6.936, test=9.524), total=   0.1s\n",
      "[CV] poly__degree=2 ..................................................\n",
      "[CV]  poly__degree=2, mae=(train=5.302, test=7.745), mape=(train=0.354, test=0.302), rmse=(train=6.573, test=9.708), total=   0.0s\n",
      "[CV] poly__degree=2 ..................................................\n",
      "[CV]  poly__degree=2, mae=(train=5.400, test=7.564), mape=(train=0.320, test=0.472), rmse=(train=6.514, test=9.869), total=   0.0s\n",
      "[CV] poly__degree=2 ..................................................\n",
      "[CV]  poly__degree=2, mae=(train=5.709, test=7.156), mape=(train=0.320, test=0.559), rmse=(train=6.927, test=8.505), total=   0.1s\n",
      "[CV] poly__degree=2 ..................................................\n",
      "[CV]  poly__degree=2, mae=(train=5.249, test=12.145), mape=(train=0.316, test=0.679), rmse=(train=6.444, test=31.397), total=   0.1s\n",
      "[CV] poly__degree=2 ..................................................\n",
      "[CV]  poly__degree=2, mae=(train=5.607, test=9.091), mape=(train=0.363, test=0.388), rmse=(train=6.858, test=20.311), total=   0.0s\n",
      "[CV] poly__degree=2 ..................................................\n",
      "[CV]  poly__degree=2, mae=(train=5.530, test=7.677), mape=(train=0.336, test=0.479), rmse=(train=6.774, test=9.045), total=   0.0s\n",
      "[CV] poly__degree=3 ..................................................\n",
      "[CV]  poly__degree=3, mae=(train=3.864, test=13.235), mape=(train=0.217, test=0.904), rmse=(train=5.012, test=66.002), total=   1.1s\n",
      "[CV] poly__degree=3 ..................................................\n",
      "[CV]  poly__degree=3, mae=(train=4.209, test=11.188), mape=(train=0.273, test=0.607), rmse=(train=5.436, test=38.552), total=   1.1s\n",
      "[CV] poly__degree=3 ..................................................\n",
      "[CV]  poly__degree=3, mae=(train=4.172, test=19.768), mape=(train=0.272, test=0.882), rmse=(train=5.497, test=257.920), total=   1.0s\n",
      "[CV] poly__degree=3 ..................................................\n",
      "[CV]  poly__degree=3, mae=(train=4.087, test=16.857), mape=(train=0.263, test=0.833), rmse=(train=5.398, test=68.069), total=   0.8s\n",
      "[CV] poly__degree=3 ..................................................\n",
      "[CV]  poly__degree=3, mae=(train=4.134, test=14.598), mape=(train=0.280, test=0.614), rmse=(train=5.354, test=72.007), total=   0.8s\n",
      "[CV] poly__degree=3 ..................................................\n",
      "[CV]  poly__degree=3, mae=(train=4.124, test=13.989), mape=(train=0.242, test=0.976), rmse=(train=5.278, test=99.604), total=   0.8s\n",
      "[CV] poly__degree=3 ..................................................\n",
      "[CV]  poly__degree=3, mae=(train=4.279, test=12.829), mape=(train=0.239, test=1.042), rmse=(train=5.508, test=88.932), total=   1.1s\n",
      "[CV] poly__degree=3 ..................................................\n",
      "[CV]  poly__degree=3, mae=(train=3.950, test=115.616), mape=(train=0.237, test=4.977), rmse=(train=5.078, test=881.145), total=   0.8s\n",
      "[CV] poly__degree=3 ..................................................\n",
      "[CV]  poly__degree=3, mae=(train=4.381, test=167.736), mape=(train=0.283, test=6.392), rmse=(train=5.586, test=2832.457), total=   1.1s\n",
      "[CV] poly__degree=3 ..................................................\n",
      "[CV]  poly__degree=3, mae=(train=4.308, test=38.965), mape=(train=0.262, test=1.526), rmse=(train=5.540, test=1111.452), total=   0.9s\n",
      "[CV] poly__degree=4 ..................................................\n",
      "[CV]  poly__degree=4, mae=(train=0.000, test=67391.948), mape=(train=0.000, test=8576.737), rmse=(train=0.000, test=2752830.361), total=  49.7s\n",
      "[CV] poly__degree=4 ..................................................\n",
      "[CV]  poly__degree=4, mae=(train=0.000, test=53547.364), mape=(train=0.000, test=6797.751), rmse=(train=0.001, test=2160022.285), total=  46.4s\n",
      "[CV] poly__degree=4 ..................................................\n",
      "[CV]  poly__degree=4, mae=(train=0.000, test=83359.190), mape=(train=0.000, test=2908.077), rmse=(train=0.000, test=2241270.866), total=  44.8s\n",
      "[CV] poly__degree=4 ..................................................\n",
      "[CV]  poly__degree=4, mae=(train=0.000, test=6860.533), mape=(train=0.000, test=330.680), rmse=(train=0.000, test=99400.374), total=  49.7s\n",
      "[CV] poly__degree=4 ..................................................\n",
      "[CV]  poly__degree=4, mae=(train=0.000, test=5295.474), mape=(train=0.000, test=250.872), rmse=(train=0.001, test=64953.838), total=  47.5s\n",
      "[CV] poly__degree=4 ..................................................\n",
      "[CV]  poly__degree=4, mae=(train=0.000, test=15422.439), mape=(train=0.000, test=1510.550), rmse=(train=0.001, test=414532.039), total=  46.9s\n",
      "[CV] poly__degree=4 ..................................................\n",
      "[CV]  poly__degree=4, mae=(train=0.001, test=8253.031), mape=(train=0.000, test=907.141), rmse=(train=0.001, test=238315.103), total=  50.2s\n",
      "[CV] poly__degree=4 ..................................................\n",
      "[CV]  poly__degree=4, mae=(train=0.000, test=380842.147), mape=(train=0.000, test=16727.142), rmse=(train=0.000, test=3282496.561), total=  51.4s\n",
      "[CV] poly__degree=4 ..................................................\n",
      "[CV]  poly__degree=4, mae=(train=0.000, test=198401.533), mape=(train=0.000, test=8354.081), rmse=(train=0.000, test=1851312.706), total=  48.3s\n",
      "[CV] poly__degree=4 ..................................................\n",
      "[CV]  poly__degree=4, mae=(train=0.000, test=147682.888), mape=(train=0.000, test=4895.948), rmse=(train=0.000, test=3961930.286), total=  47.6s\n"
     ]
    },
    {
     "name": "stderr",
     "output_type": "stream",
     "text": [
      "[Parallel(n_jobs=1)]: Done  40 out of  40 | elapsed:  8.3min finished\n"
     ]
    }
   ],
   "source": [
    "# MAE, MAPE, RMSE\n",
    "\n",
    "from sklearn.model_selection import GroupShuffleSplit\n",
    "from sklearn.preprocessing import PolynomialFeatures\n",
    "from sklearn.linear_model import LinearRegression\n",
    "from sklearn.pipeline import Pipeline\n",
    "from sklearn import preprocessing\n",
    "from sklearn.model_selection import GridSearchCV\n",
    "from sklearn.metrics import make_scorer, mean_absolute_error, r2_score, mean_squared_error\n",
    "\n",
    "# Normalizamos los datos\n",
    "scaler = preprocessing.StandardScaler().fit(X)\n",
    "X_norm = scaler.transform(X)\n",
    "\n",
    "random.seed(19680801)\n",
    "\n",
    "iterations = 10\n",
    "gss = GroupShuffleSplit(n_splits=iterations, train_size=.7)\n",
    "index = gss.split(X, Y, G)\n",
    "\n",
    "# modelo\n",
    "model = Pipeline([('poly', PolynomialFeatures()), ('linear', LinearRegression(fit_intercept=False))])\n",
    "#print(model.get_params().keys())\n",
    "\n",
    "parameters = {'poly__degree': [1,2,3,4]}\n",
    "\n",
    "# métricas de error\n",
    "# greater_is_better=True by default\n",
    "mae = make_scorer(mean_absolute_error)\n",
    "mape = make_scorer(MAPE)\n",
    "rmse = make_scorer(mean_squared_error, squared=False)\n",
    "\n",
    "scores = {'mae':mae,'mape':mape,'rmse':rmse}\n",
    "\n",
    "# Run the grid search\n",
    "grid_obj = GridSearchCV(model, parameters, scoring=scores, cv=index, return_train_score=True, refit=False, verbose=12)\n",
    "grid_obj = grid_obj.fit(X_norm, Y)"
   ]
  },
  {
   "cell_type": "code",
   "execution_count": 7,
   "metadata": {},
   "outputs": [
    {
     "data": {
      "text/html": [
       "<div>\n",
       "<style scoped>\n",
       "    .dataframe tbody tr th:only-of-type {\n",
       "        vertical-align: middle;\n",
       "    }\n",
       "\n",
       "    .dataframe tbody tr th {\n",
       "        vertical-align: top;\n",
       "    }\n",
       "\n",
       "    .dataframe thead th {\n",
       "        text-align: right;\n",
       "    }\n",
       "</style>\n",
       "<table border=\"1\" class=\"dataframe\">\n",
       "  <thead>\n",
       "    <tr style=\"text-align: right;\">\n",
       "      <th></th>\n",
       "      <th>params</th>\n",
       "      <th>mean_train_mae</th>\n",
       "      <th>mean_train_mape</th>\n",
       "      <th>mean_train_rmse</th>\n",
       "      <th>mean_test_mae</th>\n",
       "      <th>std_test_mae</th>\n",
       "      <th>mean_test_mape</th>\n",
       "      <th>std_test_mape</th>\n",
       "      <th>mean_test_rmse</th>\n",
       "      <th>std_test_rmse</th>\n",
       "    </tr>\n",
       "  </thead>\n",
       "  <tbody>\n",
       "    <tr>\n",
       "      <td>0</td>\n",
       "      <td>{'poly__degree': 1}</td>\n",
       "      <td>6.351467</td>\n",
       "      <td>0.388877</td>\n",
       "      <td>7.524888</td>\n",
       "      <td>7.113906</td>\n",
       "      <td>0.258448</td>\n",
       "      <td>0.424229</td>\n",
       "      <td>0.080470</td>\n",
       "      <td>8.577520e+00</td>\n",
       "      <td>4.485203e-01</td>\n",
       "    </tr>\n",
       "    <tr>\n",
       "      <td>1</td>\n",
       "      <td>{'poly__degree': 2}</td>\n",
       "      <td>5.461242</td>\n",
       "      <td>0.337000</td>\n",
       "      <td>6.700819</td>\n",
       "      <td>8.240104</td>\n",
       "      <td>1.386231</td>\n",
       "      <td>0.469788</td>\n",
       "      <td>0.104367</td>\n",
       "      <td>1.299009e+01</td>\n",
       "      <td>7.007837e+00</td>\n",
       "    </tr>\n",
       "    <tr>\n",
       "      <td>2</td>\n",
       "      <td>{'poly__degree': 3}</td>\n",
       "      <td>4.150659</td>\n",
       "      <td>0.256689</td>\n",
       "      <td>5.368819</td>\n",
       "      <td>42.478136</td>\n",
       "      <td>51.502975</td>\n",
       "      <td>1.875324</td>\n",
       "      <td>1.945833</td>\n",
       "      <td>5.516141e+02</td>\n",
       "      <td>8.421277e+02</td>\n",
       "    </tr>\n",
       "    <tr>\n",
       "      <td>3</td>\n",
       "      <td>{'poly__degree': 4}</td>\n",
       "      <td>0.000259</td>\n",
       "      <td>0.000016</td>\n",
       "      <td>0.000496</td>\n",
       "      <td>96705.654730</td>\n",
       "      <td>112886.283714</td>\n",
       "      <td>5125.898067</td>\n",
       "      <td>4922.536522</td>\n",
       "      <td>1.706706e+06</td>\n",
       "      <td>1.352049e+06</td>\n",
       "    </tr>\n",
       "  </tbody>\n",
       "</table>\n",
       "</div>"
      ],
      "text/plain": [
       "                params  mean_train_mae  mean_train_mape  mean_train_rmse  \\\n",
       "0  {'poly__degree': 1}        6.351467         0.388877         7.524888   \n",
       "1  {'poly__degree': 2}        5.461242         0.337000         6.700819   \n",
       "2  {'poly__degree': 3}        4.150659         0.256689         5.368819   \n",
       "3  {'poly__degree': 4}        0.000259         0.000016         0.000496   \n",
       "\n",
       "   mean_test_mae   std_test_mae  mean_test_mape  std_test_mape  \\\n",
       "0       7.113906       0.258448        0.424229       0.080470   \n",
       "1       8.240104       1.386231        0.469788       0.104367   \n",
       "2      42.478136      51.502975        1.875324       1.945833   \n",
       "3   96705.654730  112886.283714     5125.898067    4922.536522   \n",
       "\n",
       "   mean_test_rmse  std_test_rmse  \n",
       "0    8.577520e+00   4.485203e-01  \n",
       "1    1.299009e+01   7.007837e+00  \n",
       "2    5.516141e+02   8.421277e+02  \n",
       "3    1.706706e+06   1.352049e+06  "
      ]
     },
     "execution_count": 7,
     "metadata": {},
     "output_type": "execute_result"
    }
   ],
   "source": [
    "outcomes = pd.DataFrame(grid_obj.cv_results_)\n",
    "outcomes = outcomes[['params', 'mean_train_mae', 'mean_train_mape', 'mean_train_rmse',\n",
    "            'mean_test_mae', 'std_test_mae', 'mean_test_mape', 'std_test_mape', 'mean_test_rmse', 'std_test_rmse']]\n",
    "outcomes"
   ]
  },
  {
   "cell_type": "markdown",
   "metadata": {},
   "source": [
    "#### Ventana de Parzen"
   ]
  },
  {
   "cell_type": "code",
   "execution_count": 14,
   "metadata": {},
   "outputs": [],
   "source": [
    "def kernel_gaussiano(x):\n",
    "    return (np.exp((-0.5)*x**2))\n",
    "\n",
    "def Nadaraya_Watson(X_train, Y_train, X_val, h): # h equivale al ancho de la ventana o kernel\n",
    "    Nval = len(X_val)\n",
    "    Ntrain = len(X_train)\n",
    "    Y_val = np.zeros(Nval)\n",
    "    \n",
    "    for i in range(Nval):\n",
    "        muestra = X_val[i,:]\n",
    "        numerador = 0\n",
    "        denominador = 0\n",
    "        for j in range(Ntrain):\n",
    "            distancia = distance.euclidean(muestra, X_train[j])/h\n",
    "            peso = kernel_gaussiano(distancia)\n",
    "            numerador += peso * Y_train[j]\n",
    "            denominador += peso\n",
    "        Y_val[i] = numerador/denominador\n",
    "    #Se retorna un vector que contiene las predicciones para cada una de las muestras en X_val, en el mismo orden.      \n",
    "    return Y_val"
   ]
  },
  {
   "cell_type": "code",
   "execution_count": 15,
   "metadata": {},
   "outputs": [],
   "source": [
    "# MAE, MAPE\n",
    "\n",
    "from sklearn.model_selection import GroupShuffleSplit\n",
    "from sklearn import preprocessing\n",
    "from sklearn.metrics import mean_absolute_error\n",
    "\n",
    "def executePARZEN_NW(h):\n",
    "    \n",
    "    iterations = 10\n",
    "    errorMAE = np.zeros(iterations)\n",
    "    errorMAPE = np.zeros(iterations)\n",
    "    \n",
    "    random.seed(19680801)\n",
    "    gss = GroupShuffleSplit(n_splits=iterations, train_size=.7)\n",
    "    j=0\n",
    "    for train_idx, test_idx in gss.split(X, Y, G):\n",
    "        Xtrain = X[train_idx,:]\n",
    "        Ytrain = Y[train_idx]\n",
    "        Xtest = X[test_idx,:]\n",
    "        Ytest = Y[test_idx]\n",
    "\n",
    "        #Normalizamos los datos\n",
    "        media = np.mean(Xtrain)\n",
    "        desvia = np.std(Xtrain)\n",
    "        Xtrain = sc.stats.stats.zscore(Xtrain)\n",
    "        Xtest = (Xtest - np.matlib.repmat(media, Xtest.shape[0], 1))/np.matlib.repmat(desvia, Xtest.shape[0], 1)\n",
    "\n",
    "        Yest = Nadaraya_Watson(Xtrain, Ytrain, Xtest, h)\n",
    "\n",
    "        #Evaluamos las predicciones del modelo con los datos de test\n",
    "        errorMAE[j] = mean_absolute_error(Ytest, Yest)\n",
    "        errorMAPE[j] = MAPE(Ytest, Yest)\n",
    "        j += 1\n",
    "\n",
    "    mae = np.mean(errorMAE)\n",
    "    std_mae = np.std(errorMAE)\n",
    "    mape = np.mean(errorMAPE)\n",
    "    std_mape = np.std(errorMAPE)\n",
    "    \n",
    "    return(round(mae,4), round(std_mae,4), round(mape,4), round(std_mape,4))\n"
   ]
  },
  {
   "cell_type": "code",
   "execution_count": 16,
   "metadata": {},
   "outputs": [
    {
     "name": "stderr",
     "output_type": "stream",
     "text": [
      "C:\\Users\\Kevin\\Anaconda3\\lib\\site-packages\\qgrid\\grid.py:827: DeprecationWarning: QgridWidget._df_changed is deprecated in traitlets 4.1: use @observe and @unobserve instead.\n",
      "  def _df_changed(self):\n"
     ]
    },
    {
     "data": {
      "application/vnd.jupyter.widget-view+json": {
       "model_id": "66beb54dbe4440ca9651b7b01f6b9f54",
       "version_major": 2,
       "version_minor": 0
      },
      "text/plain": [
       "QgridWidget(grid_options={'fullWidthRows': True, 'syncColumnCellResize': True, 'forceFitColumns': True, 'defau…"
      ]
     },
     "metadata": {},
     "output_type": "display_data"
    }
   ],
   "source": [
    "df_types = pd.DataFrame({\n",
    "    'Ancho del kernel' : pd.Series(['0.5', '1', '2', '5','10'])})\n",
    "df_types[\"MAE\"] = \"\"\n",
    "df_types[\"std_MAE\"] = \"\"\n",
    "df_types[\"MAPE\"] = \"\"\n",
    "df_types[\"std_MAPE\"] = \"\"\n",
    "df_types.set_index(['Ancho del kernel'], inplace=True)\n",
    "\n",
    "valoresH = np.array([0.5,1,2,5,10])\n",
    "for i in range(np.size(valoresH)):\n",
    "    mae, std_mae, mape, std_mape  = executePARZEN_NW(valoresH[i])\n",
    "    df_types[\"MAE\"][i] = mae\n",
    "    df_types[\"std_MAE\"][i] = std_mae\n",
    "    df_types[\"MAPE\"][i] = mape\n",
    "    df_types[\"std_MAPE\"][i] = std_mape\n",
    "    \n",
    "#df_types.sort_index(inplace=True)\n",
    "qgrid_widget = qgrid.show_grid(df_types, show_toolbar=False)\n",
    "qgrid_widget"
   ]
  },
  {
   "cell_type": "code",
   "execution_count": 17,
   "metadata": {},
   "outputs": [
    {
     "data": {
      "text/html": [
       "<div>\n",
       "<style scoped>\n",
       "    .dataframe tbody tr th:only-of-type {\n",
       "        vertical-align: middle;\n",
       "    }\n",
       "\n",
       "    .dataframe tbody tr th {\n",
       "        vertical-align: top;\n",
       "    }\n",
       "\n",
       "    .dataframe thead th {\n",
       "        text-align: right;\n",
       "    }\n",
       "</style>\n",
       "<table border=\"1\" class=\"dataframe\">\n",
       "  <thead>\n",
       "    <tr style=\"text-align: right;\">\n",
       "      <th></th>\n",
       "      <th>MAE</th>\n",
       "      <th>std_MAE</th>\n",
       "      <th>MAPE</th>\n",
       "      <th>std_MAPE</th>\n",
       "    </tr>\n",
       "    <tr>\n",
       "      <th>Ancho del kernel</th>\n",
       "      <th></th>\n",
       "      <th></th>\n",
       "      <th></th>\n",
       "      <th></th>\n",
       "    </tr>\n",
       "  </thead>\n",
       "  <tbody>\n",
       "    <tr>\n",
       "      <td>0.5</td>\n",
       "      <td>10.1831</td>\n",
       "      <td>1.5811</td>\n",
       "      <td>0.4315</td>\n",
       "      <td>0.0465</td>\n",
       "    </tr>\n",
       "    <tr>\n",
       "      <td>1</td>\n",
       "      <td>7.4617</td>\n",
       "      <td>0.9121</td>\n",
       "      <td>0.3913</td>\n",
       "      <td>0.0556</td>\n",
       "    </tr>\n",
       "    <tr>\n",
       "      <td>2</td>\n",
       "      <td>7.0454</td>\n",
       "      <td>0.6787</td>\n",
       "      <td>0.4158</td>\n",
       "      <td>0.0846</td>\n",
       "    </tr>\n",
       "    <tr>\n",
       "      <td>5</td>\n",
       "      <td>6.9934</td>\n",
       "      <td>0.6175</td>\n",
       "      <td>0.4256</td>\n",
       "      <td>0.0902</td>\n",
       "    </tr>\n",
       "    <tr>\n",
       "      <td>10</td>\n",
       "      <td>6.9817</td>\n",
       "      <td>0.5982</td>\n",
       "      <td>0.4278</td>\n",
       "      <td>0.0914</td>\n",
       "    </tr>\n",
       "  </tbody>\n",
       "</table>\n",
       "</div>"
      ],
      "text/plain": [
       "                      MAE std_MAE    MAPE std_MAPE\n",
       "Ancho del kernel                                  \n",
       "0.5               10.1831  1.5811  0.4315   0.0465\n",
       "1                  7.4617  0.9121  0.3913   0.0556\n",
       "2                  7.0454  0.6787  0.4158   0.0846\n",
       "5                  6.9934  0.6175  0.4256   0.0902\n",
       "10                 6.9817  0.5982  0.4278   0.0914"
      ]
     },
     "execution_count": 17,
     "metadata": {},
     "output_type": "execute_result"
    }
   ],
   "source": [
    "qgrid_widget.get_changed_df()"
   ]
  },
  {
   "cell_type": "markdown",
   "metadata": {},
   "source": [
    "#### Redes Neuronales Artificiales"
   ]
  },
  {
   "cell_type": "code",
   "execution_count": 8,
   "metadata": {},
   "outputs": [
    {
     "name": "stdout",
     "output_type": "stream",
     "text": [
      "Fitting 10 folds for each of 18 candidates, totalling 180 fits\n",
      "[CV] hidden_layer_sizes=8, max_iter=1000 .............................\n"
     ]
    },
    {
     "name": "stderr",
     "output_type": "stream",
     "text": [
      "[Parallel(n_jobs=1)]: Using backend SequentialBackend with 1 concurrent workers.\n",
      "C:\\Users\\Kevin\\Anaconda3\\lib\\site-packages\\sklearn\\neural_network\\_multilayer_perceptron.py:571: ConvergenceWarning: Stochastic Optimizer: Maximum iterations (1000) reached and the optimization hasn't converged yet.\n",
      "  % self.max_iter, ConvergenceWarning)\n",
      "[Parallel(n_jobs=1)]: Done   1 out of   1 | elapsed:    7.6s remaining:    0.0s\n"
     ]
    },
    {
     "name": "stdout",
     "output_type": "stream",
     "text": [
      "[CV]  hidden_layer_sizes=8, max_iter=1000, mae=(train=5.161, test=7.891), mape=(train=0.286, test=0.602), rmse=(train=6.362, test=9.356), total=   7.6s\n",
      "[CV] hidden_layer_sizes=8, max_iter=1000 .............................\n"
     ]
    },
    {
     "name": "stderr",
     "output_type": "stream",
     "text": [
      "C:\\Users\\Kevin\\Anaconda3\\lib\\site-packages\\sklearn\\neural_network\\_multilayer_perceptron.py:571: ConvergenceWarning: Stochastic Optimizer: Maximum iterations (1000) reached and the optimization hasn't converged yet.\n",
      "  % self.max_iter, ConvergenceWarning)\n",
      "[Parallel(n_jobs=1)]: Done   2 out of   2 | elapsed:   16.2s remaining:    0.0s\n"
     ]
    },
    {
     "name": "stdout",
     "output_type": "stream",
     "text": [
      "[CV]  hidden_layer_sizes=8, max_iter=1000, mae=(train=5.555, test=7.111), mape=(train=0.355, test=0.379), rmse=(train=6.854, test=8.371), total=   8.7s\n",
      "[CV] hidden_layer_sizes=8, max_iter=1000 .............................\n",
      "[CV]  hidden_layer_sizes=8, max_iter=1000, mae=(train=5.263, test=8.302), mape=(train=0.342, test=0.427), rmse=(train=6.693, test=9.941), total=   9.2s\n",
      "[CV] hidden_layer_sizes=8, max_iter=1000 .............................\n"
     ]
    },
    {
     "name": "stderr",
     "output_type": "stream",
     "text": [
      "[Parallel(n_jobs=1)]: Done   3 out of   3 | elapsed:   25.5s remaining:    0.0s\n",
      "C:\\Users\\Kevin\\Anaconda3\\lib\\site-packages\\sklearn\\neural_network\\_multilayer_perceptron.py:571: ConvergenceWarning: Stochastic Optimizer: Maximum iterations (1000) reached and the optimization hasn't converged yet.\n",
      "  % self.max_iter, ConvergenceWarning)\n",
      "[Parallel(n_jobs=1)]: Done   4 out of   4 | elapsed:   35.8s remaining:    0.0s\n"
     ]
    },
    {
     "name": "stdout",
     "output_type": "stream",
     "text": [
      "[CV]  hidden_layer_sizes=8, max_iter=1000, mae=(train=5.517, test=7.251), mape=(train=0.356, test=0.400), rmse=(train=6.996, test=8.737), total=  10.3s\n",
      "[CV] hidden_layer_sizes=8, max_iter=1000 .............................\n",
      "[CV]  hidden_layer_sizes=8, max_iter=1000, mae=(train=5.335, test=7.990), mape=(train=0.356, test=0.312), rmse=(train=6.660, test=9.754), total=   7.1s\n",
      "[CV] hidden_layer_sizes=8, max_iter=1000 .............................\n"
     ]
    },
    {
     "name": "stderr",
     "output_type": "stream",
     "text": [
      "[Parallel(n_jobs=1)]: Done   5 out of   5 | elapsed:   43.0s remaining:    0.0s\n",
      "C:\\Users\\Kevin\\Anaconda3\\lib\\site-packages\\sklearn\\neural_network\\_multilayer_perceptron.py:571: ConvergenceWarning: Stochastic Optimizer: Maximum iterations (1000) reached and the optimization hasn't converged yet.\n",
      "  % self.max_iter, ConvergenceWarning)\n",
      "[Parallel(n_jobs=1)]: Done   6 out of   6 | elapsed:   52.7s remaining:    0.0s\n"
     ]
    },
    {
     "name": "stdout",
     "output_type": "stream",
     "text": [
      "[CV]  hidden_layer_sizes=8, max_iter=1000, mae=(train=5.450, test=7.483), mape=(train=0.323, test=0.474), rmse=(train=6.631, test=9.360), total=   9.7s\n",
      "[CV] hidden_layer_sizes=8, max_iter=1000 .............................\n"
     ]
    },
    {
     "name": "stderr",
     "output_type": "stream",
     "text": [
      "C:\\Users\\Kevin\\Anaconda3\\lib\\site-packages\\sklearn\\neural_network\\_multilayer_perceptron.py:571: ConvergenceWarning: Stochastic Optimizer: Maximum iterations (1000) reached and the optimization hasn't converged yet.\n",
      "  % self.max_iter, ConvergenceWarning)\n",
      "[Parallel(n_jobs=1)]: Done   7 out of   7 | elapsed:  1.0min remaining:    0.0s\n"
     ]
    },
    {
     "name": "stdout",
     "output_type": "stream",
     "text": [
      "[CV]  hidden_layer_sizes=8, max_iter=1000, mae=(train=5.604, test=6.634), mape=(train=0.312, test=0.542), rmse=(train=6.836, test=8.103), total=   7.6s\n",
      "[CV] hidden_layer_sizes=8, max_iter=1000 .............................\n"
     ]
    },
    {
     "name": "stderr",
     "output_type": "stream",
     "text": [
      "C:\\Users\\Kevin\\Anaconda3\\lib\\site-packages\\sklearn\\neural_network\\_multilayer_perceptron.py:571: ConvergenceWarning: Stochastic Optimizer: Maximum iterations (1000) reached and the optimization hasn't converged yet.\n",
      "  % self.max_iter, ConvergenceWarning)\n",
      "[Parallel(n_jobs=1)]: Done   8 out of   8 | elapsed:  1.1min remaining:    0.0s\n"
     ]
    },
    {
     "name": "stdout",
     "output_type": "stream",
     "text": [
      "[CV]  hidden_layer_sizes=8, max_iter=1000, mae=(train=5.134, test=8.459), mape=(train=0.308, test=0.542), rmse=(train=6.397, test=10.066), total=   8.4s\n",
      "[CV] hidden_layer_sizes=8, max_iter=1000 .............................\n",
      "[CV]  hidden_layer_sizes=8, max_iter=1000, mae=(train=5.713, test=7.102), mape=(train=0.369, test=0.303), rmse=(train=6.971, test=8.829), total=  11.2s\n",
      "[CV] hidden_layer_sizes=8, max_iter=1000 .............................\n"
     ]
    },
    {
     "name": "stderr",
     "output_type": "stream",
     "text": [
      "[Parallel(n_jobs=1)]: Done   9 out of   9 | elapsed:  1.3min remaining:    0.0s\n",
      "C:\\Users\\Kevin\\Anaconda3\\lib\\site-packages\\sklearn\\neural_network\\_multilayer_perceptron.py:571: ConvergenceWarning: Stochastic Optimizer: Maximum iterations (1000) reached and the optimization hasn't converged yet.\n",
      "  % self.max_iter, ConvergenceWarning)\n",
      "[Parallel(n_jobs=1)]: Done  10 out of  10 | elapsed:  1.5min remaining:    0.0s\n"
     ]
    },
    {
     "name": "stdout",
     "output_type": "stream",
     "text": [
      "[CV]  hidden_layer_sizes=8, max_iter=1000, mae=(train=5.291, test=7.883), mape=(train=0.325, test=0.499), rmse=(train=6.685, test=9.388), total=   7.8s\n",
      "[CV] hidden_layer_sizes=8, max_iter=1500 .............................\n",
      "[CV]  hidden_layer_sizes=8, max_iter=1500, mae=(train=5.253, test=7.987), mape=(train=0.289, test=0.611), rmse=(train=6.455, test=9.524), total=   7.5s\n",
      "[CV] hidden_layer_sizes=8, max_iter=1500 .............................\n"
     ]
    },
    {
     "name": "stderr",
     "output_type": "stream",
     "text": [
      "[Parallel(n_jobs=1)]: Done  11 out of  11 | elapsed:  1.6min remaining:    0.0s\n",
      "C:\\Users\\Kevin\\Anaconda3\\lib\\site-packages\\sklearn\\neural_network\\_multilayer_perceptron.py:571: ConvergenceWarning: Stochastic Optimizer: Maximum iterations (1500) reached and the optimization hasn't converged yet.\n",
      "  % self.max_iter, ConvergenceWarning)\n"
     ]
    },
    {
     "name": "stdout",
     "output_type": "stream",
     "text": [
      "[CV]  hidden_layer_sizes=8, max_iter=1500, mae=(train=5.304, test=7.507), mape=(train=0.346, test=0.401), rmse=(train=6.617, test=8.769), total=  11.0s\n",
      "[CV] hidden_layer_sizes=8, max_iter=1500 .............................\n",
      "[CV]  hidden_layer_sizes=8, max_iter=1500, mae=(train=5.211, test=8.177), mape=(train=0.340, test=0.427), rmse=(train=6.669, test=9.719), total=   5.8s\n",
      "[CV] hidden_layer_sizes=8, max_iter=1500 .............................\n",
      "[CV]  hidden_layer_sizes=8, max_iter=1500, mae=(train=5.501, test=7.285), mape=(train=0.356, test=0.404), rmse=(train=6.973, test=8.855), total=   9.6s\n",
      "[CV] hidden_layer_sizes=8, max_iter=1500 .............................\n",
      "[CV]  hidden_layer_sizes=8, max_iter=1500, mae=(train=5.369, test=7.881), mape=(train=0.357, test=0.308), rmse=(train=6.677, test=9.667), total=   6.5s\n",
      "[CV] hidden_layer_sizes=8, max_iter=1500 .............................\n"
     ]
    },
    {
     "name": "stderr",
     "output_type": "stream",
     "text": [
      "C:\\Users\\Kevin\\Anaconda3\\lib\\site-packages\\sklearn\\neural_network\\_multilayer_perceptron.py:571: ConvergenceWarning: Stochastic Optimizer: Maximum iterations (1500) reached and the optimization hasn't converged yet.\n",
      "  % self.max_iter, ConvergenceWarning)\n"
     ]
    },
    {
     "name": "stdout",
     "output_type": "stream",
     "text": [
      "[CV]  hidden_layer_sizes=8, max_iter=1500, mae=(train=5.419, test=7.569), mape=(train=0.318, test=0.477), rmse=(train=6.576, test=9.418), total=  10.4s\n",
      "[CV] hidden_layer_sizes=8, max_iter=1500 .............................\n",
      "[CV]  hidden_layer_sizes=8, max_iter=1500, mae=(train=5.554, test=6.674), mape=(train=0.309, test=0.542), rmse=(train=6.807, test=8.122), total=  10.1s\n",
      "[CV] hidden_layer_sizes=8, max_iter=1500 .............................\n"
     ]
    },
    {
     "name": "stderr",
     "output_type": "stream",
     "text": [
      "C:\\Users\\Kevin\\Anaconda3\\lib\\site-packages\\sklearn\\neural_network\\_multilayer_perceptron.py:571: ConvergenceWarning: Stochastic Optimizer: Maximum iterations (1500) reached and the optimization hasn't converged yet.\n",
      "  % self.max_iter, ConvergenceWarning)\n"
     ]
    },
    {
     "name": "stdout",
     "output_type": "stream",
     "text": [
      "[CV]  hidden_layer_sizes=8, max_iter=1500, mae=(train=4.993, test=8.675), mape=(train=0.299, test=0.555), rmse=(train=6.254, test=10.349), total=  11.1s\n",
      "[CV] hidden_layer_sizes=8, max_iter=1500 .............................\n"
     ]
    },
    {
     "name": "stderr",
     "output_type": "stream",
     "text": [
      "C:\\Users\\Kevin\\Anaconda3\\lib\\site-packages\\sklearn\\neural_network\\_multilayer_perceptron.py:571: ConvergenceWarning: Stochastic Optimizer: Maximum iterations (1500) reached and the optimization hasn't converged yet.\n",
      "  % self.max_iter, ConvergenceWarning)\n"
     ]
    },
    {
     "name": "stdout",
     "output_type": "stream",
     "text": [
      "[CV]  hidden_layer_sizes=8, max_iter=1500, mae=(train=5.565, test=6.847), mape=(train=0.358, test=0.290), rmse=(train=6.788, test=8.580), total=  10.9s\n",
      "[CV] hidden_layer_sizes=8, max_iter=1500 .............................\n",
      "[CV]  hidden_layer_sizes=8, max_iter=1500, mae=(train=5.375, test=7.764), mape=(train=0.328, test=0.491), rmse=(train=6.762, test=9.270), total=   5.9s\n",
      "[CV] hidden_layer_sizes=16, max_iter=1000 ............................\n"
     ]
    },
    {
     "name": "stderr",
     "output_type": "stream",
     "text": [
      "C:\\Users\\Kevin\\Anaconda3\\lib\\site-packages\\sklearn\\neural_network\\_multilayer_perceptron.py:571: ConvergenceWarning: Stochastic Optimizer: Maximum iterations (1000) reached and the optimization hasn't converged yet.\n",
      "  % self.max_iter, ConvergenceWarning)\n"
     ]
    },
    {
     "name": "stdout",
     "output_type": "stream",
     "text": [
      "[CV]  hidden_layer_sizes=16, max_iter=1000, mae=(train=4.880, test=7.979), mape=(train=0.270, test=0.614), rmse=(train=6.091, test=9.622), total=  10.9s\n",
      "[CV] hidden_layer_sizes=16, max_iter=1000 ............................\n"
     ]
    },
    {
     "name": "stderr",
     "output_type": "stream",
     "text": [
      "C:\\Users\\Kevin\\Anaconda3\\lib\\site-packages\\sklearn\\neural_network\\_multilayer_perceptron.py:571: ConvergenceWarning: Stochastic Optimizer: Maximum iterations (1000) reached and the optimization hasn't converged yet.\n",
      "  % self.max_iter, ConvergenceWarning)\n"
     ]
    },
    {
     "name": "stdout",
     "output_type": "stream",
     "text": [
      "[CV]  hidden_layer_sizes=16, max_iter=1000, mae=(train=5.355, test=7.234), mape=(train=0.347, test=0.391), rmse=(train=6.677, test=8.563), total=  12.3s\n",
      "[CV] hidden_layer_sizes=16, max_iter=1000 ............................\n",
      "[CV]  hidden_layer_sizes=16, max_iter=1000, mae=(train=5.100, test=8.440), mape=(train=0.334, test=0.432), rmse=(train=6.526, test=10.002), total=  10.3s\n",
      "[CV] hidden_layer_sizes=16, max_iter=1000 ............................\n"
     ]
    },
    {
     "name": "stderr",
     "output_type": "stream",
     "text": [
      "C:\\Users\\Kevin\\Anaconda3\\lib\\site-packages\\sklearn\\neural_network\\_multilayer_perceptron.py:571: ConvergenceWarning: Stochastic Optimizer: Maximum iterations (1000) reached and the optimization hasn't converged yet.\n",
      "  % self.max_iter, ConvergenceWarning)\n"
     ]
    },
    {
     "name": "stdout",
     "output_type": "stream",
     "text": [
      "[CV]  hidden_layer_sizes=16, max_iter=1000, mae=(train=5.255, test=7.634), mape=(train=0.340, test=0.410), rmse=(train=6.685, test=9.262), total=  11.8s\n",
      "[CV] hidden_layer_sizes=16, max_iter=1000 ............................\n"
     ]
    },
    {
     "name": "stderr",
     "output_type": "stream",
     "text": [
      "C:\\Users\\Kevin\\Anaconda3\\lib\\site-packages\\sklearn\\neural_network\\_multilayer_perceptron.py:571: ConvergenceWarning: Stochastic Optimizer: Maximum iterations (1000) reached and the optimization hasn't converged yet.\n",
      "  % self.max_iter, ConvergenceWarning)\n"
     ]
    },
    {
     "name": "stdout",
     "output_type": "stream",
     "text": [
      "[CV]  hidden_layer_sizes=16, max_iter=1000, mae=(train=5.099, test=7.762), mape=(train=0.341, test=0.302), rmse=(train=6.396, test=9.531), total=  12.3s\n",
      "[CV] hidden_layer_sizes=16, max_iter=1000 ............................\n"
     ]
    },
    {
     "name": "stderr",
     "output_type": "stream",
     "text": [
      "C:\\Users\\Kevin\\Anaconda3\\lib\\site-packages\\sklearn\\neural_network\\_multilayer_perceptron.py:571: ConvergenceWarning: Stochastic Optimizer: Maximum iterations (1000) reached and the optimization hasn't converged yet.\n",
      "  % self.max_iter, ConvergenceWarning)\n"
     ]
    },
    {
     "name": "stdout",
     "output_type": "stream",
     "text": [
      "[CV]  hidden_layer_sizes=16, max_iter=1000, mae=(train=5.044, test=7.805), mape=(train=0.297, test=0.493), rmse=(train=6.227, test=9.697), total=  12.1s\n",
      "[CV] hidden_layer_sizes=16, max_iter=1000 ............................\n"
     ]
    },
    {
     "name": "stderr",
     "output_type": "stream",
     "text": [
      "C:\\Users\\Kevin\\Anaconda3\\lib\\site-packages\\sklearn\\neural_network\\_multilayer_perceptron.py:571: ConvergenceWarning: Stochastic Optimizer: Maximum iterations (1000) reached and the optimization hasn't converged yet.\n",
      "  % self.max_iter, ConvergenceWarning)\n"
     ]
    },
    {
     "name": "stdout",
     "output_type": "stream",
     "text": [
      "[CV]  hidden_layer_sizes=16, max_iter=1000, mae=(train=5.170, test=6.714), mape=(train=0.291, test=0.549), rmse=(train=6.466, test=8.237), total=  13.1s\n",
      "[CV] hidden_layer_sizes=16, max_iter=1000 ............................\n"
     ]
    },
    {
     "name": "stderr",
     "output_type": "stream",
     "text": [
      "C:\\Users\\Kevin\\Anaconda3\\lib\\site-packages\\sklearn\\neural_network\\_multilayer_perceptron.py:571: ConvergenceWarning: Stochastic Optimizer: Maximum iterations (1000) reached and the optimization hasn't converged yet.\n",
      "  % self.max_iter, ConvergenceWarning)\n"
     ]
    },
    {
     "name": "stdout",
     "output_type": "stream",
     "text": [
      "[CV]  hidden_layer_sizes=16, max_iter=1000, mae=(train=4.889, test=8.473), mape=(train=0.294, test=0.544), rmse=(train=6.136, test=10.085), total=  12.8s\n",
      "[CV] hidden_layer_sizes=16, max_iter=1000 ............................\n"
     ]
    },
    {
     "name": "stderr",
     "output_type": "stream",
     "text": [
      "C:\\Users\\Kevin\\Anaconda3\\lib\\site-packages\\sklearn\\neural_network\\_multilayer_perceptron.py:571: ConvergenceWarning: Stochastic Optimizer: Maximum iterations (1000) reached and the optimization hasn't converged yet.\n",
      "  % self.max_iter, ConvergenceWarning)\n"
     ]
    },
    {
     "name": "stdout",
     "output_type": "stream",
     "text": [
      "[CV]  hidden_layer_sizes=16, max_iter=1000, mae=(train=5.455, test=7.086), mape=(train=0.351, test=0.300), rmse=(train=6.720, test=8.759), total=  13.1s\n",
      "[CV] hidden_layer_sizes=16, max_iter=1000 ............................\n"
     ]
    },
    {
     "name": "stderr",
     "output_type": "stream",
     "text": [
      "C:\\Users\\Kevin\\Anaconda3\\lib\\site-packages\\sklearn\\neural_network\\_multilayer_perceptron.py:571: ConvergenceWarning: Stochastic Optimizer: Maximum iterations (1000) reached and the optimization hasn't converged yet.\n",
      "  % self.max_iter, ConvergenceWarning)\n"
     ]
    },
    {
     "name": "stdout",
     "output_type": "stream",
     "text": [
      "[CV]  hidden_layer_sizes=16, max_iter=1000, mae=(train=4.930, test=7.854), mape=(train=0.303, test=0.495), rmse=(train=6.276, test=9.391), total=  14.3s\n",
      "[CV] hidden_layer_sizes=16, max_iter=1500 ............................\n"
     ]
    },
    {
     "name": "stderr",
     "output_type": "stream",
     "text": [
      "C:\\Users\\Kevin\\Anaconda3\\lib\\site-packages\\sklearn\\neural_network\\_multilayer_perceptron.py:571: ConvergenceWarning: Stochastic Optimizer: Maximum iterations (1500) reached and the optimization hasn't converged yet.\n",
      "  % self.max_iter, ConvergenceWarning)\n"
     ]
    },
    {
     "name": "stdout",
     "output_type": "stream",
     "text": [
      "[CV]  hidden_layer_sizes=16, max_iter=1500, mae=(train=4.584, test=7.828), mape=(train=0.253, test=0.599), rmse=(train=5.769, test=9.550), total=  22.6s\n",
      "[CV] hidden_layer_sizes=16, max_iter=1500 ............................\n"
     ]
    },
    {
     "name": "stderr",
     "output_type": "stream",
     "text": [
      "C:\\Users\\Kevin\\Anaconda3\\lib\\site-packages\\sklearn\\neural_network\\_multilayer_perceptron.py:571: ConvergenceWarning: Stochastic Optimizer: Maximum iterations (1500) reached and the optimization hasn't converged yet.\n",
      "  % self.max_iter, ConvergenceWarning)\n"
     ]
    },
    {
     "name": "stdout",
     "output_type": "stream",
     "text": [
      "[CV]  hidden_layer_sizes=16, max_iter=1500, mae=(train=4.933, test=7.510), mape=(train=0.323, test=0.405), rmse=(train=6.218, test=8.922), total=  18.3s\n",
      "[CV] hidden_layer_sizes=16, max_iter=1500 ............................\n",
      "[CV]  hidden_layer_sizes=16, max_iter=1500, mae=(train=5.159, test=8.308), mape=(train=0.337, test=0.426), rmse=(train=6.588, test=9.826), total=   6.7s\n",
      "[CV] hidden_layer_sizes=16, max_iter=1500 ............................\n"
     ]
    },
    {
     "name": "stderr",
     "output_type": "stream",
     "text": [
      "C:\\Users\\Kevin\\Anaconda3\\lib\\site-packages\\sklearn\\neural_network\\_multilayer_perceptron.py:571: ConvergenceWarning: Stochastic Optimizer: Maximum iterations (1500) reached and the optimization hasn't converged yet.\n",
      "  % self.max_iter, ConvergenceWarning)\n"
     ]
    },
    {
     "name": "stdout",
     "output_type": "stream",
     "text": [
      "[CV]  hidden_layer_sizes=16, max_iter=1500, mae=(train=5.076, test=7.679), mape=(train=0.328, test=0.411), rmse=(train=6.476, test=9.145), total=  17.7s\n",
      "[CV] hidden_layer_sizes=16, max_iter=1500 ............................\n",
      "[CV]  hidden_layer_sizes=16, max_iter=1500, mae=(train=5.000, test=7.727), mape=(train=0.336, test=0.305), rmse=(train=6.288, test=9.382), total=  17.1s\n",
      "[CV] hidden_layer_sizes=16, max_iter=1500 ............................\n"
     ]
    },
    {
     "name": "stderr",
     "output_type": "stream",
     "text": [
      "C:\\Users\\Kevin\\Anaconda3\\lib\\site-packages\\sklearn\\neural_network\\_multilayer_perceptron.py:571: ConvergenceWarning: Stochastic Optimizer: Maximum iterations (1500) reached and the optimization hasn't converged yet.\n",
      "  % self.max_iter, ConvergenceWarning)\n"
     ]
    },
    {
     "name": "stdout",
     "output_type": "stream",
     "text": [
      "[CV]  hidden_layer_sizes=16, max_iter=1500, mae=(train=4.933, test=8.039), mape=(train=0.291, test=0.505), rmse=(train=6.130, test=9.982), total=  17.6s\n",
      "[CV] hidden_layer_sizes=16, max_iter=1500 ............................\n"
     ]
    },
    {
     "name": "stderr",
     "output_type": "stream",
     "text": [
      "C:\\Users\\Kevin\\Anaconda3\\lib\\site-packages\\sklearn\\neural_network\\_multilayer_perceptron.py:571: ConvergenceWarning: Stochastic Optimizer: Maximum iterations (1500) reached and the optimization hasn't converged yet.\n",
      "  % self.max_iter, ConvergenceWarning)\n"
     ]
    },
    {
     "name": "stdout",
     "output_type": "stream",
     "text": [
      "[CV]  hidden_layer_sizes=16, max_iter=1500, mae=(train=5.146, test=6.958), mape=(train=0.289, test=0.564), rmse=(train=6.420, test=8.509), total=  19.2s\n",
      "[CV] hidden_layer_sizes=16, max_iter=1500 ............................\n",
      "[CV]  hidden_layer_sizes=16, max_iter=1500, mae=(train=5.012, test=8.580), mape=(train=0.300, test=0.549), rmse=(train=6.245, test=10.200), total=  11.4s\n",
      "[CV] hidden_layer_sizes=16, max_iter=1500 ............................\n"
     ]
    },
    {
     "name": "stderr",
     "output_type": "stream",
     "text": [
      "C:\\Users\\Kevin\\Anaconda3\\lib\\site-packages\\sklearn\\neural_network\\_multilayer_perceptron.py:571: ConvergenceWarning: Stochastic Optimizer: Maximum iterations (1500) reached and the optimization hasn't converged yet.\n",
      "  % self.max_iter, ConvergenceWarning)\n"
     ]
    },
    {
     "name": "stdout",
     "output_type": "stream",
     "text": [
      "[CV]  hidden_layer_sizes=16, max_iter=1500, mae=(train=5.384, test=7.247), mape=(train=0.346, test=0.304), rmse=(train=6.653, test=9.039), total=  18.2s\n",
      "[CV] hidden_layer_sizes=16, max_iter=1500 ............................\n",
      "[CV]  hidden_layer_sizes=16, max_iter=1500, mae=(train=4.942, test=8.159), mape=(train=0.303, test=0.512), rmse=(train=6.268, test=9.775), total=  15.4s\n",
      "[CV] hidden_layer_sizes=40, max_iter=1000 ............................\n"
     ]
    },
    {
     "name": "stderr",
     "output_type": "stream",
     "text": [
      "C:\\Users\\Kevin\\Anaconda3\\lib\\site-packages\\sklearn\\neural_network\\_multilayer_perceptron.py:571: ConvergenceWarning: Stochastic Optimizer: Maximum iterations (1000) reached and the optimization hasn't converged yet.\n",
      "  % self.max_iter, ConvergenceWarning)\n"
     ]
    },
    {
     "name": "stdout",
     "output_type": "stream",
     "text": [
      "[CV]  hidden_layer_sizes=40, max_iter=1000, mae=(train=4.226, test=7.992), mape=(train=0.237, test=0.614), rmse=(train=5.398, test=9.704), total=  17.1s\n",
      "[CV] hidden_layer_sizes=40, max_iter=1000 ............................\n"
     ]
    },
    {
     "name": "stderr",
     "output_type": "stream",
     "text": [
      "C:\\Users\\Kevin\\Anaconda3\\lib\\site-packages\\sklearn\\neural_network\\_multilayer_perceptron.py:571: ConvergenceWarning: Stochastic Optimizer: Maximum iterations (1000) reached and the optimization hasn't converged yet.\n",
      "  % self.max_iter, ConvergenceWarning)\n"
     ]
    },
    {
     "name": "stdout",
     "output_type": "stream",
     "text": [
      "[CV]  hidden_layer_sizes=40, max_iter=1000, mae=(train=4.854, test=7.515), mape=(train=0.316, test=0.400), rmse=(train=6.189, test=8.896), total=  16.9s\n",
      "[CV] hidden_layer_sizes=40, max_iter=1000 ............................\n",
      "[CV]  hidden_layer_sizes=40, max_iter=1000, mae=(train=4.847, test=8.216), mape=(train=0.320, test=0.426), rmse=(train=6.270, test=9.670), total=  14.0s\n",
      "[CV] hidden_layer_sizes=40, max_iter=1000 ............................\n"
     ]
    },
    {
     "name": "stderr",
     "output_type": "stream",
     "text": [
      "C:\\Users\\Kevin\\Anaconda3\\lib\\site-packages\\sklearn\\neural_network\\_multilayer_perceptron.py:571: ConvergenceWarning: Stochastic Optimizer: Maximum iterations (1000) reached and the optimization hasn't converged yet.\n",
      "  % self.max_iter, ConvergenceWarning)\n"
     ]
    },
    {
     "name": "stdout",
     "output_type": "stream",
     "text": [
      "[CV]  hidden_layer_sizes=40, max_iter=1000, mae=(train=4.824, test=8.259), mape=(train=0.313, test=0.436), rmse=(train=6.171, test=9.893), total=  16.8s\n",
      "[CV] hidden_layer_sizes=40, max_iter=1000 ............................\n"
     ]
    },
    {
     "name": "stderr",
     "output_type": "stream",
     "text": [
      "C:\\Users\\Kevin\\Anaconda3\\lib\\site-packages\\sklearn\\neural_network\\_multilayer_perceptron.py:571: ConvergenceWarning: Stochastic Optimizer: Maximum iterations (1000) reached and the optimization hasn't converged yet.\n",
      "  % self.max_iter, ConvergenceWarning)\n"
     ]
    },
    {
     "name": "stdout",
     "output_type": "stream",
     "text": [
      "[CV]  hidden_layer_sizes=40, max_iter=1000, mae=(train=4.731, test=7.965), mape=(train=0.318, test=0.314), rmse=(train=6.004, test=9.707), total=  16.8s\n",
      "[CV] hidden_layer_sizes=40, max_iter=1000 ............................\n"
     ]
    },
    {
     "name": "stderr",
     "output_type": "stream",
     "text": [
      "C:\\Users\\Kevin\\Anaconda3\\lib\\site-packages\\sklearn\\neural_network\\_multilayer_perceptron.py:571: ConvergenceWarning: Stochastic Optimizer: Maximum iterations (1000) reached and the optimization hasn't converged yet.\n",
      "  % self.max_iter, ConvergenceWarning)\n"
     ]
    },
    {
     "name": "stdout",
     "output_type": "stream",
     "text": [
      "[CV]  hidden_layer_sizes=40, max_iter=1000, mae=(train=4.593, test=8.170), mape=(train=0.267, test=0.509), rmse=(train=5.814, test=10.131), total=  17.4s\n",
      "[CV] hidden_layer_sizes=40, max_iter=1000 ............................\n"
     ]
    },
    {
     "name": "stderr",
     "output_type": "stream",
     "text": [
      "C:\\Users\\Kevin\\Anaconda3\\lib\\site-packages\\sklearn\\neural_network\\_multilayer_perceptron.py:571: ConvergenceWarning: Stochastic Optimizer: Maximum iterations (1000) reached and the optimization hasn't converged yet.\n",
      "  % self.max_iter, ConvergenceWarning)\n"
     ]
    },
    {
     "name": "stdout",
     "output_type": "stream",
     "text": [
      "[CV]  hidden_layer_sizes=40, max_iter=1000, mae=(train=4.630, test=7.017), mape=(train=0.258, test=0.578), rmse=(train=5.845, test=8.607), total=  17.4s\n",
      "[CV] hidden_layer_sizes=40, max_iter=1000 ............................\n"
     ]
    },
    {
     "name": "stderr",
     "output_type": "stream",
     "text": [
      "C:\\Users\\Kevin\\Anaconda3\\lib\\site-packages\\sklearn\\neural_network\\_multilayer_perceptron.py:571: ConvergenceWarning: Stochastic Optimizer: Maximum iterations (1000) reached and the optimization hasn't converged yet.\n",
      "  % self.max_iter, ConvergenceWarning)\n"
     ]
    },
    {
     "name": "stdout",
     "output_type": "stream",
     "text": [
      "[CV]  hidden_layer_sizes=40, max_iter=1000, mae=(train=4.240, test=8.851), mape=(train=0.256, test=0.560), rmse=(train=5.400, test=10.734), total=  17.7s\n",
      "[CV] hidden_layer_sizes=40, max_iter=1000 ............................\n"
     ]
    },
    {
     "name": "stderr",
     "output_type": "stream",
     "text": [
      "C:\\Users\\Kevin\\Anaconda3\\lib\\site-packages\\sklearn\\neural_network\\_multilayer_perceptron.py:571: ConvergenceWarning: Stochastic Optimizer: Maximum iterations (1000) reached and the optimization hasn't converged yet.\n",
      "  % self.max_iter, ConvergenceWarning)\n"
     ]
    },
    {
     "name": "stdout",
     "output_type": "stream",
     "text": [
      "[CV]  hidden_layer_sizes=40, max_iter=1000, mae=(train=5.229, test=7.207), mape=(train=0.339, test=0.312), rmse=(train=6.486, test=8.855), total=  16.8s\n",
      "[CV] hidden_layer_sizes=40, max_iter=1000 ............................\n"
     ]
    },
    {
     "name": "stderr",
     "output_type": "stream",
     "text": [
      "C:\\Users\\Kevin\\Anaconda3\\lib\\site-packages\\sklearn\\neural_network\\_multilayer_perceptron.py:571: ConvergenceWarning: Stochastic Optimizer: Maximum iterations (1000) reached and the optimization hasn't converged yet.\n",
      "  % self.max_iter, ConvergenceWarning)\n"
     ]
    },
    {
     "name": "stdout",
     "output_type": "stream",
     "text": [
      "[CV]  hidden_layer_sizes=40, max_iter=1000, mae=(train=4.692, test=8.036), mape=(train=0.287, test=0.500), rmse=(train=5.981, test=9.580), total=  17.6s\n",
      "[CV] hidden_layer_sizes=40, max_iter=1500 ............................\n",
      "[CV]  hidden_layer_sizes=40, max_iter=1500, mae=(train=4.075, test=7.674), mape=(train=0.226, test=0.584), rmse=(train=5.226, test=9.416), total=  27.6s\n",
      "[CV] hidden_layer_sizes=40, max_iter=1500 ............................\n"
     ]
    },
    {
     "name": "stderr",
     "output_type": "stream",
     "text": [
      "C:\\Users\\Kevin\\Anaconda3\\lib\\site-packages\\sklearn\\neural_network\\_multilayer_perceptron.py:571: ConvergenceWarning: Stochastic Optimizer: Maximum iterations (1500) reached and the optimization hasn't converged yet.\n",
      "  % self.max_iter, ConvergenceWarning)\n"
     ]
    },
    {
     "name": "stdout",
     "output_type": "stream",
     "text": [
      "[CV]  hidden_layer_sizes=40, max_iter=1500, mae=(train=4.583, test=7.547), mape=(train=0.300, test=0.410), rmse=(train=5.843, test=8.931), total=  26.1s\n",
      "[CV] hidden_layer_sizes=40, max_iter=1500 ............................\n",
      "[CV]  hidden_layer_sizes=40, max_iter=1500, mae=(train=4.769, test=8.224), mape=(train=0.312, test=0.428), rmse=(train=6.201, test=9.732), total=  15.3s\n",
      "[CV] hidden_layer_sizes=40, max_iter=1500 ............................\n"
     ]
    },
    {
     "name": "stderr",
     "output_type": "stream",
     "text": [
      "C:\\Users\\Kevin\\Anaconda3\\lib\\site-packages\\sklearn\\neural_network\\_multilayer_perceptron.py:571: ConvergenceWarning: Stochastic Optimizer: Maximum iterations (1500) reached and the optimization hasn't converged yet.\n",
      "  % self.max_iter, ConvergenceWarning)\n"
     ]
    },
    {
     "name": "stdout",
     "output_type": "stream",
     "text": [
      "[CV]  hidden_layer_sizes=40, max_iter=1500, mae=(train=4.437, test=8.521), mape=(train=0.285, test=0.439), rmse=(train=5.808, test=10.141), total=  25.1s\n",
      "[CV] hidden_layer_sizes=40, max_iter=1500 ............................\n",
      "[CV]  hidden_layer_sizes=40, max_iter=1500, mae=(train=4.714, test=7.805), mape=(train=0.319, test=0.307), rmse=(train=6.012, test=9.476), total=  20.2s\n",
      "[CV] hidden_layer_sizes=40, max_iter=1500 ............................\n",
      "[CV]  hidden_layer_sizes=40, max_iter=1500, mae=(train=4.512, test=8.195), mape=(train=0.263, test=0.514), rmse=(train=5.714, test=10.156), total=  22.2s\n",
      "[CV] hidden_layer_sizes=40, max_iter=1500 ............................\n",
      "[CV]  hidden_layer_sizes=40, max_iter=1500, mae=(train=4.665, test=6.899), mape=(train=0.264, test=0.567), rmse=(train=5.891, test=8.400), total=  31.9s\n",
      "[CV] hidden_layer_sizes=40, max_iter=1500 ............................\n",
      "[CV]  hidden_layer_sizes=40, max_iter=1500, mae=(train=4.070, test=8.725), mape=(train=0.245, test=0.548), rmse=(train=5.241, test=10.581), total=  24.5s\n",
      "[CV] hidden_layer_sizes=40, max_iter=1500 ............................\n"
     ]
    },
    {
     "name": "stderr",
     "output_type": "stream",
     "text": [
      "C:\\Users\\Kevin\\Anaconda3\\lib\\site-packages\\sklearn\\neural_network\\_multilayer_perceptron.py:571: ConvergenceWarning: Stochastic Optimizer: Maximum iterations (1500) reached and the optimization hasn't converged yet.\n",
      "  % self.max_iter, ConvergenceWarning)\n"
     ]
    },
    {
     "name": "stdout",
     "output_type": "stream",
     "text": [
      "[CV]  hidden_layer_sizes=40, max_iter=1500, mae=(train=4.911, test=7.443), mape=(train=0.318, test=0.316), rmse=(train=6.157, test=9.295), total=  26.3s\n",
      "[CV] hidden_layer_sizes=40, max_iter=1500 ............................\n"
     ]
    },
    {
     "name": "stderr",
     "output_type": "stream",
     "text": [
      "C:\\Users\\Kevin\\Anaconda3\\lib\\site-packages\\sklearn\\neural_network\\_multilayer_perceptron.py:571: ConvergenceWarning: Stochastic Optimizer: Maximum iterations (1500) reached and the optimization hasn't converged yet.\n",
      "  % self.max_iter, ConvergenceWarning)\n"
     ]
    },
    {
     "name": "stdout",
     "output_type": "stream",
     "text": [
      "[CV]  hidden_layer_sizes=40, max_iter=1500, mae=(train=4.461, test=8.123), mape=(train=0.274, test=0.509), rmse=(train=5.742, test=9.701), total=  26.0s\n",
      "[CV] hidden_layer_sizes=(8, 8), max_iter=1000 ........................\n"
     ]
    },
    {
     "name": "stderr",
     "output_type": "stream",
     "text": [
      "C:\\Users\\Kevin\\Anaconda3\\lib\\site-packages\\sklearn\\neural_network\\_multilayer_perceptron.py:571: ConvergenceWarning: Stochastic Optimizer: Maximum iterations (1000) reached and the optimization hasn't converged yet.\n",
      "  % self.max_iter, ConvergenceWarning)\n"
     ]
    },
    {
     "name": "stdout",
     "output_type": "stream",
     "text": [
      "[CV]  hidden_layer_sizes=(8, 8), max_iter=1000, mae=(train=4.413, test=7.588), mape=(train=0.239, test=0.561), rmse=(train=5.637, test=9.294), total=  10.8s\n",
      "[CV] hidden_layer_sizes=(8, 8), max_iter=1000 ........................\n"
     ]
    },
    {
     "name": "stderr",
     "output_type": "stream",
     "text": [
      "C:\\Users\\Kevin\\Anaconda3\\lib\\site-packages\\sklearn\\neural_network\\_multilayer_perceptron.py:571: ConvergenceWarning: Stochastic Optimizer: Maximum iterations (1000) reached and the optimization hasn't converged yet.\n",
      "  % self.max_iter, ConvergenceWarning)\n"
     ]
    },
    {
     "name": "stdout",
     "output_type": "stream",
     "text": [
      "[CV]  hidden_layer_sizes=(8, 8), max_iter=1000, mae=(train=4.637, test=7.863), mape=(train=0.299, test=0.417), rmse=(train=5.971, test=9.431), total=  10.8s\n",
      "[CV] hidden_layer_sizes=(8, 8), max_iter=1000 ........................\n",
      "[CV]  hidden_layer_sizes=(8, 8), max_iter=1000, mae=(train=4.800, test=8.068), mape=(train=0.316, test=0.418), rmse=(train=6.331, test=9.585), total=   7.8s\n",
      "[CV] hidden_layer_sizes=(8, 8), max_iter=1000 ........................\n"
     ]
    },
    {
     "name": "stderr",
     "output_type": "stream",
     "text": [
      "C:\\Users\\Kevin\\Anaconda3\\lib\\site-packages\\sklearn\\neural_network\\_multilayer_perceptron.py:571: ConvergenceWarning: Stochastic Optimizer: Maximum iterations (1000) reached and the optimization hasn't converged yet.\n",
      "  % self.max_iter, ConvergenceWarning)\n"
     ]
    },
    {
     "name": "stdout",
     "output_type": "stream",
     "text": [
      "[CV]  hidden_layer_sizes=(8, 8), max_iter=1000, mae=(train=4.599, test=8.371), mape=(train=0.294, test=0.438), rmse=(train=6.025, test=9.904), total=  10.4s\n",
      "[CV] hidden_layer_sizes=(8, 8), max_iter=1000 ........................\n"
     ]
    },
    {
     "name": "stderr",
     "output_type": "stream",
     "text": [
      "C:\\Users\\Kevin\\Anaconda3\\lib\\site-packages\\sklearn\\neural_network\\_multilayer_perceptron.py:571: ConvergenceWarning: Stochastic Optimizer: Maximum iterations (1000) reached and the optimization hasn't converged yet.\n",
      "  % self.max_iter, ConvergenceWarning)\n"
     ]
    },
    {
     "name": "stdout",
     "output_type": "stream",
     "text": [
      "[CV]  hidden_layer_sizes=(8, 8), max_iter=1000, mae=(train=4.882, test=7.605), mape=(train=0.322, test=0.296), rmse=(train=6.204, test=9.378), total=  10.8s\n",
      "[CV] hidden_layer_sizes=(8, 8), max_iter=1000 ........................\n",
      "[CV]  hidden_layer_sizes=(8, 8), max_iter=1000, mae=(train=4.803, test=7.921), mape=(train=0.280, test=0.503), rmse=(train=6.067, test=9.931), total=   7.4s\n",
      "[CV] hidden_layer_sizes=(8, 8), max_iter=1000 ........................\n"
     ]
    },
    {
     "name": "stderr",
     "output_type": "stream",
     "text": [
      "C:\\Users\\Kevin\\Anaconda3\\lib\\site-packages\\sklearn\\neural_network\\_multilayer_perceptron.py:571: ConvergenceWarning: Stochastic Optimizer: Maximum iterations (1000) reached and the optimization hasn't converged yet.\n",
      "  % self.max_iter, ConvergenceWarning)\n"
     ]
    },
    {
     "name": "stdout",
     "output_type": "stream",
     "text": [
      "[CV]  hidden_layer_sizes=(8, 8), max_iter=1000, mae=(train=4.851, test=7.086), mape=(train=0.271, test=0.584), rmse=(train=6.126, test=8.738), total=  16.3s\n",
      "[CV] hidden_layer_sizes=(8, 8), max_iter=1000 ........................\n"
     ]
    },
    {
     "name": "stderr",
     "output_type": "stream",
     "text": [
      "C:\\Users\\Kevin\\Anaconda3\\lib\\site-packages\\sklearn\\neural_network\\_multilayer_perceptron.py:571: ConvergenceWarning: Stochastic Optimizer: Maximum iterations (1000) reached and the optimization hasn't converged yet.\n",
      "  % self.max_iter, ConvergenceWarning)\n"
     ]
    },
    {
     "name": "stdout",
     "output_type": "stream",
     "text": [
      "[CV]  hidden_layer_sizes=(8, 8), max_iter=1000, mae=(train=4.472, test=8.347), mape=(train=0.266, test=0.542), rmse=(train=5.714, test=10.043), total=  11.9s\n",
      "[CV] hidden_layer_sizes=(8, 8), max_iter=1000 ........................\n"
     ]
    },
    {
     "name": "stderr",
     "output_type": "stream",
     "text": [
      "C:\\Users\\Kevin\\Anaconda3\\lib\\site-packages\\sklearn\\neural_network\\_multilayer_perceptron.py:571: ConvergenceWarning: Stochastic Optimizer: Maximum iterations (1000) reached and the optimization hasn't converged yet.\n",
      "  % self.max_iter, ConvergenceWarning)\n"
     ]
    },
    {
     "name": "stdout",
     "output_type": "stream",
     "text": [
      "[CV]  hidden_layer_sizes=(8, 8), max_iter=1000, mae=(train=5.262, test=6.905), mape=(train=0.342, test=0.299), rmse=(train=6.546, test=8.676), total=  11.0s\n",
      "[CV] hidden_layer_sizes=(8, 8), max_iter=1000 ........................\n",
      "[CV]  hidden_layer_sizes=(8, 8), max_iter=1000, mae=(train=4.734, test=7.812), mape=(train=0.287, test=0.494), rmse=(train=6.067, test=9.350), total=  10.0s\n",
      "[CV] hidden_layer_sizes=(8, 8), max_iter=1500 ........................\n",
      "[CV]  hidden_layer_sizes=(8, 8), max_iter=1500, mae=(train=4.319, test=7.852), mape=(train=0.239, test=0.594), rmse=(train=5.529, test=9.543), total=  12.4s\n",
      "[CV] hidden_layer_sizes=(8, 8), max_iter=1500 ........................\n",
      "[CV]  hidden_layer_sizes=(8, 8), max_iter=1500, mae=(train=4.662, test=7.955), mape=(train=0.306, test=0.440), rmse=(train=5.990, test=9.397), total=  12.7s\n",
      "[CV] hidden_layer_sizes=(8, 8), max_iter=1500 ........................\n",
      "[CV]  hidden_layer_sizes=(8, 8), max_iter=1500, mae=(train=4.870, test=8.052), mape=(train=0.317, test=0.414), rmse=(train=6.359, test=9.413), total=   7.4s\n",
      "[CV] hidden_layer_sizes=(8, 8), max_iter=1500 ........................\n",
      "[CV]  hidden_layer_sizes=(8, 8), max_iter=1500, mae=(train=4.438, test=8.613), mape=(train=0.286, test=0.455), rmse=(train=5.846, test=10.407), total=  12.6s\n",
      "[CV] hidden_layer_sizes=(8, 8), max_iter=1500 ........................\n",
      "[CV]  hidden_layer_sizes=(8, 8), max_iter=1500, mae=(train=4.773, test=8.087), mape=(train=0.319, test=0.323), rmse=(train=6.081, test=9.640), total=  15.8s\n",
      "[CV] hidden_layer_sizes=(8, 8), max_iter=1500 ........................\n",
      "[CV]  hidden_layer_sizes=(8, 8), max_iter=1500, mae=(train=4.813, test=8.011), mape=(train=0.278, test=0.501), rmse=(train=6.030, test=10.021), total=   9.0s\n",
      "[CV] hidden_layer_sizes=(8, 8), max_iter=1500 ........................\n"
     ]
    },
    {
     "name": "stderr",
     "output_type": "stream",
     "text": [
      "C:\\Users\\Kevin\\Anaconda3\\lib\\site-packages\\sklearn\\neural_network\\_multilayer_perceptron.py:571: ConvergenceWarning: Stochastic Optimizer: Maximum iterations (1500) reached and the optimization hasn't converged yet.\n",
      "  % self.max_iter, ConvergenceWarning)\n"
     ]
    },
    {
     "name": "stdout",
     "output_type": "stream",
     "text": [
      "[CV]  hidden_layer_sizes=(8, 8), max_iter=1500, mae=(train=4.524, test=7.395), mape=(train=0.253, test=0.610), rmse=(train=5.767, test=9.086), total=  16.1s\n",
      "[CV] hidden_layer_sizes=(8, 8), max_iter=1500 ........................\n",
      "[CV]  hidden_layer_sizes=(8, 8), max_iter=1500, mae=(train=4.331, test=8.846), mape=(train=0.256, test=0.563), rmse=(train=5.572, test=10.723), total=  10.1s\n",
      "[CV] hidden_layer_sizes=(8, 8), max_iter=1500 ........................\n",
      "[CV]  hidden_layer_sizes=(8, 8), max_iter=1500, mae=(train=5.237, test=6.986), mape=(train=0.338, test=0.294), rmse=(train=6.549, test=8.780), total=   9.9s\n",
      "[CV] hidden_layer_sizes=(8, 8), max_iter=1500 ........................\n",
      "[CV]  hidden_layer_sizes=(8, 8), max_iter=1500, mae=(train=4.719, test=7.834), mape=(train=0.288, test=0.495), rmse=(train=6.072, test=9.493), total=   9.4s\n",
      "[CV] hidden_layer_sizes=(16, 16), max_iter=1000 ......................\n",
      "[CV]  hidden_layer_sizes=(16, 16), max_iter=1000, mae=(train=3.806, test=7.907), mape=(train=0.212, test=0.616), rmse=(train=4.952, test=9.742), total=  16.1s\n",
      "[CV] hidden_layer_sizes=(16, 16), max_iter=1000 ......................\n",
      "[CV]  hidden_layer_sizes=(16, 16), max_iter=1000, mae=(train=4.309, test=7.869), mape=(train=0.282, test=0.435), rmse=(train=5.551, test=9.304), total=  14.9s\n",
      "[CV] hidden_layer_sizes=(16, 16), max_iter=1000 ......................\n",
      "[CV]  hidden_layer_sizes=(16, 16), max_iter=1000, mae=(train=4.383, test=8.294), mape=(train=0.293, test=0.418), rmse=(train=5.891, test=9.752), total=  14.9s\n",
      "[CV] hidden_layer_sizes=(16, 16), max_iter=1000 ......................\n"
     ]
    },
    {
     "name": "stderr",
     "output_type": "stream",
     "text": [
      "C:\\Users\\Kevin\\Anaconda3\\lib\\site-packages\\sklearn\\neural_network\\_multilayer_perceptron.py:571: ConvergenceWarning: Stochastic Optimizer: Maximum iterations (1000) reached and the optimization hasn't converged yet.\n",
      "  % self.max_iter, ConvergenceWarning)\n"
     ]
    },
    {
     "name": "stdout",
     "output_type": "stream",
     "text": [
      "[CV]  hidden_layer_sizes=(16, 16), max_iter=1000, mae=(train=4.136, test=8.897), mape=(train=0.269, test=0.458), rmse=(train=5.463, test=10.641), total=  17.9s\n",
      "[CV] hidden_layer_sizes=(16, 16), max_iter=1000 ......................\n",
      "[CV]  hidden_layer_sizes=(16, 16), max_iter=1000, mae=(train=4.332, test=8.380), mape=(train=0.289, test=0.338), rmse=(train=5.615, test=9.969), total=  18.5s\n",
      "[CV] hidden_layer_sizes=(16, 16), max_iter=1000 ......................\n",
      "[CV]  hidden_layer_sizes=(16, 16), max_iter=1000, mae=(train=4.353, test=7.927), mape=(train=0.254, test=0.505), rmse=(train=5.634, test=10.010), total=  16.1s\n",
      "[CV] hidden_layer_sizes=(16, 16), max_iter=1000 ......................\n"
     ]
    },
    {
     "name": "stderr",
     "output_type": "stream",
     "text": [
      "C:\\Users\\Kevin\\Anaconda3\\lib\\site-packages\\sklearn\\neural_network\\_multilayer_perceptron.py:571: ConvergenceWarning: Stochastic Optimizer: Maximum iterations (1000) reached and the optimization hasn't converged yet.\n",
      "  % self.max_iter, ConvergenceWarning)\n"
     ]
    },
    {
     "name": "stdout",
     "output_type": "stream",
     "text": [
      "[CV]  hidden_layer_sizes=(16, 16), max_iter=1000, mae=(train=4.301, test=7.448), mape=(train=0.241, test=0.610), rmse=(train=5.583, test=9.179), total=  18.6s\n",
      "[CV] hidden_layer_sizes=(16, 16), max_iter=1000 ......................\n",
      "[CV]  hidden_layer_sizes=(16, 16), max_iter=1000, mae=(train=3.847, test=8.987), mape=(train=0.232, test=0.564), rmse=(train=5.054, test=10.813), total=  18.6s\n",
      "[CV] hidden_layer_sizes=(16, 16), max_iter=1000 ......................\n",
      "[CV]  hidden_layer_sizes=(16, 16), max_iter=1000, mae=(train=4.856, test=7.446), mape=(train=0.309, test=0.317), rmse=(train=6.148, test=9.311), total=  16.8s\n",
      "[CV] hidden_layer_sizes=(16, 16), max_iter=1000 ......................\n",
      "[CV]  hidden_layer_sizes=(16, 16), max_iter=1000, mae=(train=4.271, test=7.972), mape=(train=0.261, test=0.505), rmse=(train=5.601, test=9.524), total=  16.7s\n",
      "[CV] hidden_layer_sizes=(16, 16), max_iter=1500 ......................\n",
      "[CV]  hidden_layer_sizes=(16, 16), max_iter=1500, mae=(train=3.762, test=8.063), mape=(train=0.207, test=0.619), rmse=(train=4.932, test=9.864), total=  21.8s\n",
      "[CV] hidden_layer_sizes=(16, 16), max_iter=1500 ......................\n",
      "[CV]  hidden_layer_sizes=(16, 16), max_iter=1500, mae=(train=4.224, test=7.603), mape=(train=0.272, test=0.407), rmse=(train=5.489, test=9.207), total=  21.2s\n",
      "[CV] hidden_layer_sizes=(16, 16), max_iter=1500 ......................\n",
      "[CV]  hidden_layer_sizes=(16, 16), max_iter=1500, mae=(train=4.565, test=8.459), mape=(train=0.296, test=0.433), rmse=(train=6.023, test=10.067), total=  12.1s\n",
      "[CV] hidden_layer_sizes=(16, 16), max_iter=1500 ......................\n",
      "[CV]  hidden_layer_sizes=(16, 16), max_iter=1500, mae=(train=4.116, test=8.856), mape=(train=0.262, test=0.459), rmse=(train=5.451, test=10.625), total=  18.1s\n",
      "[CV] hidden_layer_sizes=(16, 16), max_iter=1500 ......................\n",
      "[CV]  hidden_layer_sizes=(16, 16), max_iter=1500, mae=(train=4.369, test=8.214), mape=(train=0.292, test=0.325), rmse=(train=5.681, test=10.004), total=  16.2s\n",
      "[CV] hidden_layer_sizes=(16, 16), max_iter=1500 ......................\n",
      "[CV]  hidden_layer_sizes=(16, 16), max_iter=1500, mae=(train=4.268, test=8.446), mape=(train=0.250, test=0.533), rmse=(train=5.506, test=10.406), total=  17.7s\n",
      "[CV] hidden_layer_sizes=(16, 16), max_iter=1500 ......................\n",
      "[CV]  hidden_layer_sizes=(16, 16), max_iter=1500, mae=(train=4.141, test=7.209), mape=(train=0.231, test=0.586), rmse=(train=5.386, test=8.889), total=  19.9s\n",
      "[CV] hidden_layer_sizes=(16, 16), max_iter=1500 ......................\n",
      "[CV]  hidden_layer_sizes=(16, 16), max_iter=1500, mae=(train=3.894, test=8.786), mape=(train=0.226, test=0.547), rmse=(train=5.129, test=10.704), total=  13.9s\n",
      "[CV] hidden_layer_sizes=(16, 16), max_iter=1500 ......................\n",
      "[CV]  hidden_layer_sizes=(16, 16), max_iter=1500, mae=(train=4.580, test=7.673), mape=(train=0.294, test=0.335), rmse=(train=5.820, test=9.428), total=  20.4s\n",
      "[CV] hidden_layer_sizes=(16, 16), max_iter=1500 ......................\n",
      "[CV]  hidden_layer_sizes=(16, 16), max_iter=1500, mae=(train=4.220, test=7.807), mape=(train=0.255, test=0.490), rmse=(train=5.506, test=9.423), total=  18.7s\n",
      "[CV] hidden_layer_sizes=(40, 40), max_iter=1000 ......................\n",
      "[CV]  hidden_layer_sizes=(40, 40), max_iter=1000, mae=(train=3.230, test=8.461), mape=(train=0.176, test=0.644), rmse=(train=4.279, test=10.325), total=  24.0s\n",
      "[CV] hidden_layer_sizes=(40, 40), max_iter=1000 ......................\n",
      "[CV]  hidden_layer_sizes=(40, 40), max_iter=1000, mae=(train=3.763, test=7.823), mape=(train=0.242, test=0.426), rmse=(train=4.981, test=9.484), total=  21.7s\n",
      "[CV] hidden_layer_sizes=(40, 40), max_iter=1000 ......................\n",
      "[CV]  hidden_layer_sizes=(40, 40), max_iter=1000, mae=(train=3.876, test=8.293), mape=(train=0.257, test=0.420), rmse=(train=5.255, test=9.936), total=  25.1s\n",
      "[CV] hidden_layer_sizes=(40, 40), max_iter=1000 ......................\n",
      "[CV]  hidden_layer_sizes=(40, 40), max_iter=1000, mae=(train=3.904, test=8.764), mape=(train=0.247, test=0.448), rmse=(train=5.226, test=10.440), total=  17.0s\n",
      "[CV] hidden_layer_sizes=(40, 40), max_iter=1000 ......................\n",
      "[CV]  hidden_layer_sizes=(40, 40), max_iter=1000, mae=(train=3.646, test=8.310), mape=(train=0.245, test=0.326), rmse=(train=4.836, test=10.086), total=  26.0s\n",
      "[CV] hidden_layer_sizes=(40, 40), max_iter=1000 ......................\n"
     ]
    },
    {
     "name": "stderr",
     "output_type": "stream",
     "text": [
      "C:\\Users\\Kevin\\Anaconda3\\lib\\site-packages\\sklearn\\neural_network\\_multilayer_perceptron.py:571: ConvergenceWarning: Stochastic Optimizer: Maximum iterations (1000) reached and the optimization hasn't converged yet.\n",
      "  % self.max_iter, ConvergenceWarning)\n"
     ]
    },
    {
     "name": "stdout",
     "output_type": "stream",
     "text": [
      "[CV]  hidden_layer_sizes=(40, 40), max_iter=1000, mae=(train=3.598, test=8.512), mape=(train=0.207, test=0.520), rmse=(train=4.781, test=10.698), total=  29.5s\n",
      "[CV] hidden_layer_sizes=(40, 40), max_iter=1000 ......................\n"
     ]
    },
    {
     "name": "stderr",
     "output_type": "stream",
     "text": [
      "C:\\Users\\Kevin\\Anaconda3\\lib\\site-packages\\sklearn\\neural_network\\_multilayer_perceptron.py:571: ConvergenceWarning: Stochastic Optimizer: Maximum iterations (1000) reached and the optimization hasn't converged yet.\n",
      "  % self.max_iter, ConvergenceWarning)\n"
     ]
    },
    {
     "name": "stdout",
     "output_type": "stream",
     "text": [
      "[CV]  hidden_layer_sizes=(40, 40), max_iter=1000, mae=(train=3.433, test=7.153), mape=(train=0.191, test=0.574), rmse=(train=4.578, test=8.865), total=  30.4s\n",
      "[CV] hidden_layer_sizes=(40, 40), max_iter=1000 ......................\n",
      "[CV]  hidden_layer_sizes=(40, 40), max_iter=1000, mae=(train=3.226, test=8.989), mape=(train=0.189, test=0.569), rmse=(train=4.332, test=10.811), total=  21.6s\n",
      "[CV] hidden_layer_sizes=(40, 40), max_iter=1000 ......................\n",
      "[CV]  hidden_layer_sizes=(40, 40), max_iter=1000, mae=(train=4.058, test=7.495), mape=(train=0.257, test=0.328), rmse=(train=5.278, test=9.278), total=  23.8s\n",
      "[CV] hidden_layer_sizes=(40, 40), max_iter=1000 ......................\n"
     ]
    },
    {
     "name": "stderr",
     "output_type": "stream",
     "text": [
      "C:\\Users\\Kevin\\Anaconda3\\lib\\site-packages\\sklearn\\neural_network\\_multilayer_perceptron.py:571: ConvergenceWarning: Stochastic Optimizer: Maximum iterations (1000) reached and the optimization hasn't converged yet.\n",
      "  % self.max_iter, ConvergenceWarning)\n"
     ]
    },
    {
     "name": "stdout",
     "output_type": "stream",
     "text": [
      "[CV]  hidden_layer_sizes=(40, 40), max_iter=1000, mae=(train=3.347, test=8.233), mape=(train=0.198, test=0.499), rmse=(train=4.466, test=9.947), total=  31.0s\n",
      "[CV] hidden_layer_sizes=(40, 40), max_iter=1500 ......................\n",
      "[CV]  hidden_layer_sizes=(40, 40), max_iter=1500, mae=(train=2.751, test=8.160), mape=(train=0.151, test=0.641), rmse=(train=3.664, test=10.079), total=  38.5s\n",
      "[CV] hidden_layer_sizes=(40, 40), max_iter=1500 ......................\n",
      "[CV]  hidden_layer_sizes=(40, 40), max_iter=1500, mae=(train=3.286, test=8.048), mape=(train=0.212, test=0.439), rmse=(train=4.398, test=9.840), total=  35.2s\n",
      "[CV] hidden_layer_sizes=(40, 40), max_iter=1500 ......................\n",
      "[CV]  hidden_layer_sizes=(40, 40), max_iter=1500, mae=(train=4.007, test=7.886), mape=(train=0.263, test=0.406), rmse=(train=5.398, test=9.464), total=  21.7s\n",
      "[CV] hidden_layer_sizes=(40, 40), max_iter=1500 ......................\n",
      "[CV]  hidden_layer_sizes=(40, 40), max_iter=1500, mae=(train=3.546, test=9.056), mape=(train=0.224, test=0.457), rmse=(train=4.781, test=10.965), total=  27.8s\n",
      "[CV] hidden_layer_sizes=(40, 40), max_iter=1500 ......................\n",
      "[CV]  hidden_layer_sizes=(40, 40), max_iter=1500, mae=(train=3.525, test=8.661), mape=(train=0.230, test=0.344), rmse=(train=4.704, test=10.497), total=  31.4s\n",
      "[CV] hidden_layer_sizes=(40, 40), max_iter=1500 ......................\n",
      "[CV]  hidden_layer_sizes=(40, 40), max_iter=1500, mae=(train=3.456, test=8.849), mape=(train=0.198, test=0.543), rmse=(train=4.629, test=10.926), total=  32.8s\n",
      "[CV] hidden_layer_sizes=(40, 40), max_iter=1500 ......................\n",
      "[CV]  hidden_layer_sizes=(40, 40), max_iter=1500, mae=(train=3.180, test=7.128), mape=(train=0.175, test=0.572), rmse=(train=4.258, test=8.963), total=  40.0s\n",
      "[CV] hidden_layer_sizes=(40, 40), max_iter=1500 ......................\n",
      "[CV]  hidden_layer_sizes=(40, 40), max_iter=1500, mae=(train=3.007, test=8.858), mape=(train=0.178, test=0.555), rmse=(train=4.033, test=10.719), total=  33.9s\n",
      "[CV] hidden_layer_sizes=(40, 40), max_iter=1500 ......................\n",
      "[CV]  hidden_layer_sizes=(40, 40), max_iter=1500, mae=(train=3.673, test=8.211), mape=(train=0.228, test=0.350), rmse=(train=4.858, test=10.310), total=  32.9s\n",
      "[CV] hidden_layer_sizes=(40, 40), max_iter=1500 ......................\n",
      "[CV]  hidden_layer_sizes=(40, 40), max_iter=1500, mae=(train=3.318, test=8.347), mape=(train=0.203, test=0.517), rmse=(train=4.430, test=10.003), total=  36.2s\n",
      "[CV] hidden_layer_sizes=(8, 8, 8), max_iter=1000 .....................\n",
      "[CV]  hidden_layer_sizes=(8, 8, 8), max_iter=1000, mae=(train=4.278, test=8.184), mape=(train=0.237, test=0.613), rmse=(train=5.456, test=9.952), total=  13.0s\n",
      "[CV] hidden_layer_sizes=(8, 8, 8), max_iter=1000 .....................\n"
     ]
    },
    {
     "name": "stderr",
     "output_type": "stream",
     "text": [
      "C:\\Users\\Kevin\\Anaconda3\\lib\\site-packages\\sklearn\\neural_network\\_multilayer_perceptron.py:571: ConvergenceWarning: Stochastic Optimizer: Maximum iterations (1000) reached and the optimization hasn't converged yet.\n",
      "  % self.max_iter, ConvergenceWarning)\n"
     ]
    },
    {
     "name": "stdout",
     "output_type": "stream",
     "text": [
      "[CV]  hidden_layer_sizes=(8, 8, 8), max_iter=1000, mae=(train=4.342, test=8.029), mape=(train=0.282, test=0.442), rmse=(train=5.641, test=9.765), total=  13.8s\n",
      "[CV] hidden_layer_sizes=(8, 8, 8), max_iter=1000 .....................\n",
      "[CV]  hidden_layer_sizes=(8, 8, 8), max_iter=1000, mae=(train=4.713, test=8.036), mape=(train=0.311, test=0.405), rmse=(train=6.274, test=9.454), total=   8.1s\n",
      "[CV] hidden_layer_sizes=(8, 8, 8), max_iter=1000 .....................\n",
      "[CV]  hidden_layer_sizes=(8, 8, 8), max_iter=1000, mae=(train=4.435, test=8.113), mape=(train=0.284, test=0.427), rmse=(train=5.901, test=9.547), total=   9.6s\n",
      "[CV] hidden_layer_sizes=(8, 8, 8), max_iter=1000 .....................\n"
     ]
    },
    {
     "name": "stderr",
     "output_type": "stream",
     "text": [
      "C:\\Users\\Kevin\\Anaconda3\\lib\\site-packages\\sklearn\\neural_network\\_multilayer_perceptron.py:571: ConvergenceWarning: Stochastic Optimizer: Maximum iterations (1000) reached and the optimization hasn't converged yet.\n",
      "  % self.max_iter, ConvergenceWarning)\n"
     ]
    },
    {
     "name": "stdout",
     "output_type": "stream",
     "text": [
      "[CV]  hidden_layer_sizes=(8, 8, 8), max_iter=1000, mae=(train=4.532, test=7.930), mape=(train=0.306, test=0.317), rmse=(train=5.873, test=9.592), total=  13.9s\n",
      "[CV] hidden_layer_sizes=(8, 8, 8), max_iter=1000 .....................\n",
      "[CV]  hidden_layer_sizes=(8, 8, 8), max_iter=1000, mae=(train=4.617, test=7.583), mape=(train=0.267, test=0.493), rmse=(train=5.874, test=9.605), total=  12.3s\n",
      "[CV] hidden_layer_sizes=(8, 8, 8), max_iter=1000 .....................\n",
      "[CV]  hidden_layer_sizes=(8, 8, 8), max_iter=1000, mae=(train=4.955, test=7.049), mape=(train=0.273, test=0.575), rmse=(train=6.246, test=8.602), total=  10.3s\n",
      "[CV] hidden_layer_sizes=(8, 8, 8), max_iter=1000 .....................\n"
     ]
    },
    {
     "name": "stderr",
     "output_type": "stream",
     "text": [
      "C:\\Users\\Kevin\\Anaconda3\\lib\\site-packages\\sklearn\\neural_network\\_multilayer_perceptron.py:571: ConvergenceWarning: Stochastic Optimizer: Maximum iterations (1000) reached and the optimization hasn't converged yet.\n",
      "  % self.max_iter, ConvergenceWarning)\n"
     ]
    },
    {
     "name": "stdout",
     "output_type": "stream",
     "text": [
      "[CV]  hidden_layer_sizes=(8, 8, 8), max_iter=1000, mae=(train=3.985, test=8.866), mape=(train=0.240, test=0.559), rmse=(train=5.252, test=10.738), total=  15.7s\n",
      "[CV] hidden_layer_sizes=(8, 8, 8), max_iter=1000 .....................\n"
     ]
    },
    {
     "name": "stderr",
     "output_type": "stream",
     "text": [
      "C:\\Users\\Kevin\\Anaconda3\\lib\\site-packages\\sklearn\\neural_network\\_multilayer_perceptron.py:571: ConvergenceWarning: Stochastic Optimizer: Maximum iterations (1000) reached and the optimization hasn't converged yet.\n",
      "  % self.max_iter, ConvergenceWarning)\n"
     ]
    },
    {
     "name": "stdout",
     "output_type": "stream",
     "text": [
      "[CV]  hidden_layer_sizes=(8, 8, 8), max_iter=1000, mae=(train=4.939, test=7.038), mape=(train=0.315, test=0.301), rmse=(train=6.198, test=8.857), total=  13.7s\n",
      "[CV] hidden_layer_sizes=(8, 8, 8), max_iter=1000 .....................\n",
      "[CV]  hidden_layer_sizes=(8, 8, 8), max_iter=1000, mae=(train=4.655, test=7.753), mape=(train=0.283, test=0.493), rmse=(train=6.032, test=9.132), total=   9.2s\n",
      "[CV] hidden_layer_sizes=(8, 8, 8), max_iter=1500 .....................\n",
      "[CV]  hidden_layer_sizes=(8, 8, 8), max_iter=1500, mae=(train=3.961, test=7.983), mape=(train=0.216, test=0.601), rmse=(train=5.242, test=9.659), total=  13.0s\n",
      "[CV] hidden_layer_sizes=(8, 8, 8), max_iter=1500 .....................\n",
      "[CV]  hidden_layer_sizes=(8, 8, 8), max_iter=1500, mae=(train=4.546, test=7.333), mape=(train=0.297, test=0.404), rmse=(train=5.889, test=8.954), total=  12.8s\n",
      "[CV] hidden_layer_sizes=(8, 8, 8), max_iter=1500 .....................\n",
      "[CV]  hidden_layer_sizes=(8, 8, 8), max_iter=1500, mae=(train=4.710, test=8.040), mape=(train=0.311, test=0.410), rmse=(train=6.277, test=9.252), total=   8.5s\n",
      "[CV] hidden_layer_sizes=(8, 8, 8), max_iter=1500 .....................\n",
      "[CV]  hidden_layer_sizes=(8, 8, 8), max_iter=1500, mae=(train=4.514, test=8.636), mape=(train=0.290, test=0.467), rmse=(train=5.913, test=10.249), total=  10.8s\n",
      "[CV] hidden_layer_sizes=(8, 8, 8), max_iter=1500 .....................\n",
      "[CV]  hidden_layer_sizes=(8, 8, 8), max_iter=1500, mae=(train=4.627, test=7.883), mape=(train=0.309, test=0.306), rmse=(train=5.956, test=9.824), total=  13.9s\n",
      "[CV] hidden_layer_sizes=(8, 8, 8), max_iter=1500 .....................\n",
      "[CV]  hidden_layer_sizes=(8, 8, 8), max_iter=1500, mae=(train=4.675, test=7.617), mape=(train=0.268, test=0.486), rmse=(train=5.931, test=9.700), total=   9.5s\n",
      "[CV] hidden_layer_sizes=(8, 8, 8), max_iter=1500 .....................\n",
      "[CV]  hidden_layer_sizes=(8, 8, 8), max_iter=1500, mae=(train=4.678, test=7.361), mape=(train=0.255, test=0.595), rmse=(train=5.988, test=9.037), total=  14.3s\n",
      "[CV] hidden_layer_sizes=(8, 8, 8), max_iter=1500 .....................\n",
      "[CV]  hidden_layer_sizes=(8, 8, 8), max_iter=1500, mae=(train=4.102, test=8.752), mape=(train=0.245, test=0.552), rmse=(train=5.354, test=10.578), total=  11.4s\n",
      "[CV] hidden_layer_sizes=(8, 8, 8), max_iter=1500 .....................\n",
      "[CV]  hidden_layer_sizes=(8, 8, 8), max_iter=1500, mae=(train=5.103, test=6.859), mape=(train=0.324, test=0.296), rmse=(train=6.459, test=8.648), total=  11.4s\n",
      "[CV] hidden_layer_sizes=(8, 8, 8), max_iter=1500 .....................\n",
      "[CV]  hidden_layer_sizes=(8, 8, 8), max_iter=1500, mae=(train=4.445, test=7.356), mape=(train=0.268, test=0.469), rmse=(train=5.754, test=8.884), total=  11.9s\n",
      "[CV] hidden_layer_sizes=(16, 16, 16), max_iter=1000 ..................\n",
      "[CV]  hidden_layer_sizes=(16, 16, 16), max_iter=1000, mae=(train=3.711, test=8.026), mape=(train=0.202, test=0.622), rmse=(train=4.901, test=9.831), total=  13.4s\n",
      "[CV] hidden_layer_sizes=(16, 16, 16), max_iter=1000 ..................\n"
     ]
    },
    {
     "name": "stderr",
     "output_type": "stream",
     "text": [
      "C:\\Users\\Kevin\\Anaconda3\\lib\\site-packages\\sklearn\\neural_network\\_multilayer_perceptron.py:571: ConvergenceWarning: Stochastic Optimizer: Maximum iterations (1000) reached and the optimization hasn't converged yet.\n",
      "  % self.max_iter, ConvergenceWarning)\n"
     ]
    },
    {
     "name": "stdout",
     "output_type": "stream",
     "text": [
      "[CV]  hidden_layer_sizes=(16, 16, 16), max_iter=1000, mae=(train=3.731, test=7.711), mape=(train=0.242, test=0.427), rmse=(train=4.972, test=9.431), total=  25.9s\n",
      "[CV] hidden_layer_sizes=(16, 16, 16), max_iter=1000 ..................\n",
      "[CV]  hidden_layer_sizes=(16, 16, 16), max_iter=1000, mae=(train=4.330, test=8.186), mape=(train=0.285, test=0.414), rmse=(train=5.865, test=9.628), total=  13.0s\n",
      "[CV] hidden_layer_sizes=(16, 16, 16), max_iter=1000 ..................\n",
      "[CV]  hidden_layer_sizes=(16, 16, 16), max_iter=1000, mae=(train=4.012, test=8.629), mape=(train=0.251, test=0.449), rmse=(train=5.391, test=10.326), total=  18.3s\n",
      "[CV] hidden_layer_sizes=(16, 16, 16), max_iter=1000 ..................\n",
      "[CV]  hidden_layer_sizes=(16, 16, 16), max_iter=1000, mae=(train=4.146, test=8.394), mape=(train=0.271, test=0.325), rmse=(train=5.457, test=10.213), total=  17.4s\n",
      "[CV] hidden_layer_sizes=(16, 16, 16), max_iter=1000 ..................\n",
      "[CV]  hidden_layer_sizes=(16, 16, 16), max_iter=1000, mae=(train=3.780, test=8.402), mape=(train=0.211, test=0.530), rmse=(train=5.047, test=10.508), total=  19.1s\n",
      "[CV] hidden_layer_sizes=(16, 16, 16), max_iter=1000 ..................\n",
      "[CV]  hidden_layer_sizes=(16, 16, 16), max_iter=1000, mae=(train=3.855, test=7.108), mape=(train=0.212, test=0.585), rmse=(train=5.123, test=8.947), total=  24.5s\n",
      "[CV] hidden_layer_sizes=(16, 16, 16), max_iter=1000 ..................\n"
     ]
    },
    {
     "name": "stderr",
     "output_type": "stream",
     "text": [
      "C:\\Users\\Kevin\\Anaconda3\\lib\\site-packages\\sklearn\\neural_network\\_multilayer_perceptron.py:571: ConvergenceWarning: Stochastic Optimizer: Maximum iterations (1000) reached and the optimization hasn't converged yet.\n",
      "  % self.max_iter, ConvergenceWarning)\n"
     ]
    },
    {
     "name": "stdout",
     "output_type": "stream",
     "text": [
      "[CV]  hidden_layer_sizes=(16, 16, 16), max_iter=1000, mae=(train=3.288, test=8.715), mape=(train=0.194, test=0.556), rmse=(train=4.452, test=10.516), total=  25.0s\n",
      "[CV] hidden_layer_sizes=(16, 16, 16), max_iter=1000 ..................\n",
      "[CV]  hidden_layer_sizes=(16, 16, 16), max_iter=1000, mae=(train=4.424, test=7.312), mape=(train=0.286, test=0.315), rmse=(train=5.749, test=9.253), total=  17.4s\n",
      "[CV] hidden_layer_sizes=(16, 16, 16), max_iter=1000 ..................\n"
     ]
    },
    {
     "name": "stderr",
     "output_type": "stream",
     "text": [
      "C:\\Users\\Kevin\\Anaconda3\\lib\\site-packages\\sklearn\\neural_network\\_multilayer_perceptron.py:571: ConvergenceWarning: Stochastic Optimizer: Maximum iterations (1000) reached and the optimization hasn't converged yet.\n",
      "  % self.max_iter, ConvergenceWarning)\n"
     ]
    },
    {
     "name": "stdout",
     "output_type": "stream",
     "text": [
      "[CV]  hidden_layer_sizes=(16, 16, 16), max_iter=1000, mae=(train=3.687, test=8.074), mape=(train=0.219, test=0.498), rmse=(train=4.968, test=9.711), total=  25.8s\n",
      "[CV] hidden_layer_sizes=(16, 16, 16), max_iter=1500 ..................\n",
      "[CV]  hidden_layer_sizes=(16, 16, 16), max_iter=1500, mae=(train=3.331, test=8.236), mape=(train=0.181, test=0.631), rmse=(train=4.424, test=10.060), total=  23.1s\n",
      "[CV] hidden_layer_sizes=(16, 16, 16), max_iter=1500 ..................\n",
      "[CV]  hidden_layer_sizes=(16, 16, 16), max_iter=1500, mae=(train=4.010, test=7.519), mape=(train=0.258, test=0.410), rmse=(train=5.242, test=9.232), total=  17.0s\n",
      "[CV] hidden_layer_sizes=(16, 16, 16), max_iter=1500 ..................\n",
      "[CV]  hidden_layer_sizes=(16, 16, 16), max_iter=1500, mae=(train=4.373, test=8.518), mape=(train=0.293, test=0.430), rmse=(train=5.897, test=9.967), total=  12.9s\n",
      "[CV] hidden_layer_sizes=(16, 16, 16), max_iter=1500 ..................\n",
      "[CV]  hidden_layer_sizes=(16, 16, 16), max_iter=1500, mae=(train=3.770, test=9.157), mape=(train=0.244, test=0.474), rmse=(train=5.068, test=10.983), total=  24.8s\n",
      "[CV] hidden_layer_sizes=(16, 16, 16), max_iter=1500 ..................\n",
      "[CV]  hidden_layer_sizes=(16, 16, 16), max_iter=1500, mae=(train=4.135, test=8.155), mape=(train=0.275, test=0.319), rmse=(train=5.403, test=10.097), total=  18.2s\n",
      "[CV] hidden_layer_sizes=(16, 16, 16), max_iter=1500 ..................\n",
      "[CV]  hidden_layer_sizes=(16, 16, 16), max_iter=1500, mae=(train=3.595, test=8.656), mape=(train=0.206, test=0.548), rmse=(train=4.856, test=10.767), total=  22.6s\n",
      "[CV] hidden_layer_sizes=(16, 16, 16), max_iter=1500 ..................\n",
      "[CV]  hidden_layer_sizes=(16, 16, 16), max_iter=1500, mae=(train=3.959, test=7.598), mape=(train=0.219, test=0.608), rmse=(train=5.212, test=9.247), total=  22.1s\n",
      "[CV] hidden_layer_sizes=(16, 16, 16), max_iter=1500 ..................\n",
      "[CV]  hidden_layer_sizes=(16, 16, 16), max_iter=1500, mae=(train=3.523, test=9.119), mape=(train=0.204, test=0.572), rmse=(train=4.699, test=10.857), total=  19.3s\n",
      "[CV] hidden_layer_sizes=(16, 16, 16), max_iter=1500 ..................\n",
      "[CV]  hidden_layer_sizes=(16, 16, 16), max_iter=1500, mae=(train=4.111, test=7.460), mape=(train=0.260, test=0.320), rmse=(train=5.383, test=9.463), total=  23.2s\n",
      "[CV] hidden_layer_sizes=(16, 16, 16), max_iter=1500 ..................\n",
      "[CV]  hidden_layer_sizes=(16, 16, 16), max_iter=1500, mae=(train=3.930, test=7.782), mape=(train=0.236, test=0.485), rmse=(train=5.237, test=9.457), total=  19.8s\n",
      "[CV] hidden_layer_sizes=(40, 40, 40), max_iter=1000 ..................\n"
     ]
    },
    {
     "name": "stderr",
     "output_type": "stream",
     "text": [
      "C:\\Users\\Kevin\\Anaconda3\\lib\\site-packages\\sklearn\\neural_network\\_multilayer_perceptron.py:571: ConvergenceWarning: Stochastic Optimizer: Maximum iterations (1000) reached and the optimization hasn't converged yet.\n",
      "  % self.max_iter, ConvergenceWarning)\n"
     ]
    },
    {
     "name": "stdout",
     "output_type": "stream",
     "text": [
      "[CV]  hidden_layer_sizes=(40, 40, 40), max_iter=1000, mae=(train=2.019, test=8.648), mape=(train=0.110, test=0.658), rmse=(train=2.720, test=10.588), total=  43.1s\n",
      "[CV] hidden_layer_sizes=(40, 40, 40), max_iter=1000 ..................\n"
     ]
    },
    {
     "name": "stderr",
     "output_type": "stream",
     "text": [
      "C:\\Users\\Kevin\\Anaconda3\\lib\\site-packages\\sklearn\\neural_network\\_multilayer_perceptron.py:571: ConvergenceWarning: Stochastic Optimizer: Maximum iterations (1000) reached and the optimization hasn't converged yet.\n",
      "  % self.max_iter, ConvergenceWarning)\n"
     ]
    },
    {
     "name": "stdout",
     "output_type": "stream",
     "text": [
      "[CV]  hidden_layer_sizes=(40, 40, 40), max_iter=1000, mae=(train=2.426, test=8.085), mape=(train=0.150, test=0.438), rmse=(train=3.345, test=9.979), total=  43.4s\n",
      "[CV] hidden_layer_sizes=(40, 40, 40), max_iter=1000 ..................\n",
      "[CV]  hidden_layer_sizes=(40, 40, 40), max_iter=1000, mae=(train=3.355, test=8.593), mape=(train=0.217, test=0.436), rmse=(train=4.616, test=10.303), total=  27.0s\n",
      "[CV] hidden_layer_sizes=(40, 40, 40), max_iter=1000 ..................\n"
     ]
    },
    {
     "name": "stderr",
     "output_type": "stream",
     "text": [
      "C:\\Users\\Kevin\\Anaconda3\\lib\\site-packages\\sklearn\\neural_network\\_multilayer_perceptron.py:571: ConvergenceWarning: Stochastic Optimizer: Maximum iterations (1000) reached and the optimization hasn't converged yet.\n",
      "  % self.max_iter, ConvergenceWarning)\n"
     ]
    },
    {
     "name": "stdout",
     "output_type": "stream",
     "text": [
      "[CV]  hidden_layer_sizes=(40, 40, 40), max_iter=1000, mae=(train=2.753, test=9.413), mape=(train=0.163, test=0.488), rmse=(train=3.745, test=11.277), total=  41.3s\n",
      "[CV] hidden_layer_sizes=(40, 40, 40), max_iter=1000 ..................\n"
     ]
    },
    {
     "name": "stderr",
     "output_type": "stream",
     "text": [
      "C:\\Users\\Kevin\\Anaconda3\\lib\\site-packages\\sklearn\\neural_network\\_multilayer_perceptron.py:571: ConvergenceWarning: Stochastic Optimizer: Maximum iterations (1000) reached and the optimization hasn't converged yet.\n",
      "  % self.max_iter, ConvergenceWarning)\n"
     ]
    },
    {
     "name": "stdout",
     "output_type": "stream",
     "text": [
      "[CV]  hidden_layer_sizes=(40, 40, 40), max_iter=1000, mae=(train=2.660, test=8.228), mape=(train=0.182, test=0.335), rmse=(train=3.627, test=10.255), total=  42.6s\n",
      "[CV] hidden_layer_sizes=(40, 40, 40), max_iter=1000 ..................\n"
     ]
    },
    {
     "name": "stderr",
     "output_type": "stream",
     "text": [
      "C:\\Users\\Kevin\\Anaconda3\\lib\\site-packages\\sklearn\\neural_network\\_multilayer_perceptron.py:571: ConvergenceWarning: Stochastic Optimizer: Maximum iterations (1000) reached and the optimization hasn't converged yet.\n",
      "  % self.max_iter, ConvergenceWarning)\n"
     ]
    },
    {
     "name": "stdout",
     "output_type": "stream",
     "text": [
      "[CV]  hidden_layer_sizes=(40, 40, 40), max_iter=1000, mae=(train=2.538, test=8.909), mape=(train=0.141, test=0.552), rmse=(train=3.528, test=11.150), total=  41.7s\n",
      "[CV] hidden_layer_sizes=(40, 40, 40), max_iter=1000 ..................\n",
      "[CV]  hidden_layer_sizes=(40, 40, 40), max_iter=1000, mae=(train=2.921, test=7.351), mape=(train=0.161, test=0.595), rmse=(train=3.960, test=9.142), total=  30.8s\n",
      "[CV] hidden_layer_sizes=(40, 40, 40), max_iter=1000 ..................\n"
     ]
    },
    {
     "name": "stderr",
     "output_type": "stream",
     "text": [
      "C:\\Users\\Kevin\\Anaconda3\\lib\\site-packages\\sklearn\\neural_network\\_multilayer_perceptron.py:571: ConvergenceWarning: Stochastic Optimizer: Maximum iterations (1000) reached and the optimization hasn't converged yet.\n",
      "  % self.max_iter, ConvergenceWarning)\n"
     ]
    },
    {
     "name": "stdout",
     "output_type": "stream",
     "text": [
      "[CV]  hidden_layer_sizes=(40, 40, 40), max_iter=1000, mae=(train=2.196, test=8.913), mape=(train=0.128, test=0.561), rmse=(train=3.003, test=10.855), total=  42.8s\n",
      "[CV] hidden_layer_sizes=(40, 40, 40), max_iter=1000 ..................\n",
      "[CV]  hidden_layer_sizes=(40, 40, 40), max_iter=1000, mae=(train=2.988, test=7.965), mape=(train=0.188, test=0.349), rmse=(train=4.062, test=10.145), total=  35.1s\n",
      "[CV] hidden_layer_sizes=(40, 40, 40), max_iter=1000 ..................\n"
     ]
    },
    {
     "name": "stderr",
     "output_type": "stream",
     "text": [
      "C:\\Users\\Kevin\\Anaconda3\\lib\\site-packages\\sklearn\\neural_network\\_multilayer_perceptron.py:571: ConvergenceWarning: Stochastic Optimizer: Maximum iterations (1000) reached and the optimization hasn't converged yet.\n",
      "  % self.max_iter, ConvergenceWarning)\n"
     ]
    },
    {
     "name": "stdout",
     "output_type": "stream",
     "text": [
      "[CV]  hidden_layer_sizes=(40, 40, 40), max_iter=1000, mae=(train=2.330, test=8.579), mape=(train=0.136, test=0.517), rmse=(train=3.249, test=10.526), total=  43.2s\n",
      "[CV] hidden_layer_sizes=(40, 40, 40), max_iter=1500 ..................\n",
      "[CV]  hidden_layer_sizes=(40, 40, 40), max_iter=1500, mae=(train=1.941, test=8.307), mape=(train=0.103, test=0.636), rmse=(train=2.614, test=10.334), total=  44.8s\n",
      "[CV] hidden_layer_sizes=(40, 40, 40), max_iter=1500 ..................\n",
      "[CV]  hidden_layer_sizes=(40, 40, 40), max_iter=1500, mae=(train=2.142, test=8.600), mape=(train=0.133, test=0.476), rmse=(train=2.956, test=10.645), total=  50.7s\n",
      "[CV] hidden_layer_sizes=(40, 40, 40), max_iter=1500 ..................\n",
      "[CV]  hidden_layer_sizes=(40, 40, 40), max_iter=1500, mae=(train=3.302, test=8.368), mape=(train=0.214, test=0.433), rmse=(train=4.563, test=10.049), total=  28.9s\n",
      "[CV] hidden_layer_sizes=(40, 40, 40), max_iter=1500 ..................\n",
      "[CV]  hidden_layer_sizes=(40, 40, 40), max_iter=1500, mae=(train=2.219, test=9.172), mape=(train=0.140, test=0.476), rmse=(train=3.042, test=10.988), total=  51.4s\n",
      "[CV] hidden_layer_sizes=(40, 40, 40), max_iter=1500 ..................\n",
      "[CV]  hidden_layer_sizes=(40, 40, 40), max_iter=1500, mae=(train=2.674, test=8.596), mape=(train=0.174, test=0.340), rmse=(train=3.630, test=10.614), total=  38.7s\n",
      "[CV] hidden_layer_sizes=(40, 40, 40), max_iter=1500 ..................\n",
      "[CV]  hidden_layer_sizes=(40, 40, 40), max_iter=1500, mae=(train=2.478, test=8.622), mape=(train=0.142, test=0.538), rmse=(train=3.437, test=10.888), total=  45.2s\n",
      "[CV] hidden_layer_sizes=(40, 40, 40), max_iter=1500 ..................\n",
      "[CV]  hidden_layer_sizes=(40, 40, 40), max_iter=1500, mae=(train=2.015, test=7.454), mape=(train=0.107, test=0.580), rmse=(train=2.789, test=9.470), total= 1.0min\n",
      "[CV] hidden_layer_sizes=(40, 40, 40), max_iter=1500 ..................\n",
      "[CV]  hidden_layer_sizes=(40, 40, 40), max_iter=1500, mae=(train=2.848, test=8.564), mape=(train=0.167, test=0.553), rmse=(train=3.856, test=10.432), total=  23.0s\n",
      "[CV] hidden_layer_sizes=(40, 40, 40), max_iter=1500 ..................\n",
      "[CV]  hidden_layer_sizes=(40, 40, 40), max_iter=1500, mae=(train=2.899, test=7.920), mape=(train=0.182, test=0.350), rmse=(train=3.884, test=10.119), total=  37.3s\n",
      "[CV] hidden_layer_sizes=(40, 40, 40), max_iter=1500 ..................\n",
      "[CV]  hidden_layer_sizes=(40, 40, 40), max_iter=1500, mae=(train=2.486, test=8.665), mape=(train=0.146, test=0.525), rmse=(train=3.402, test=10.511), total=  39.4s\n"
     ]
    },
    {
     "name": "stderr",
     "output_type": "stream",
     "text": [
      "[Parallel(n_jobs=1)]: Done 180 out of 180 | elapsed: 58.0min finished\n"
     ]
    }
   ],
   "source": [
    "# MAE, MAPE, RMSE\n",
    "\n",
    "from sklearn.model_selection import GroupShuffleSplit\n",
    "from sklearn import preprocessing\n",
    "from sklearn.model_selection import GridSearchCV\n",
    "from sklearn.neural_network import MLPRegressor\n",
    "from sklearn.metrics import make_scorer, mean_absolute_error, mean_squared_error\n",
    "\n",
    "# Normalizamos los datos\n",
    "scaler = preprocessing.StandardScaler().fit(X)\n",
    "X_norm = scaler.transform(X)\n",
    "\n",
    "random.seed(19680801)\n",
    "\n",
    "iterations = 10\n",
    "gss = GroupShuffleSplit(n_splits=iterations, train_size=.7)\n",
    "index = gss.split(X, Y, G)\n",
    "\n",
    "model = MLPRegressor(activation='tanh')\n",
    "\n",
    "parameters = {'hidden_layer_sizes': [(8),(16),(40),(8,8),(16,16),(40,40),(8,8,8),(16,16,16),(40,40,40)],\n",
    "             'max_iter': [1000,1500]}\n",
    "\n",
    "# métricas de error\n",
    "# greater_is_better=True by default\n",
    "mae = make_scorer(mean_absolute_error)\n",
    "mape = make_scorer(MAPE)\n",
    "rmse = make_scorer(mean_squared_error, squared=False)\n",
    "\n",
    "scores = {'mae':mae,'mape':mape,'rmse':rmse}\n",
    "\n",
    "# Run the grid search\n",
    "grid_obj = GridSearchCV(model, parameters, scoring=scores, cv=index, return_train_score=True, refit=False, verbose=12)\n",
    "grid_obj = grid_obj.fit(X_norm, Y)"
   ]
  },
  {
   "cell_type": "code",
   "execution_count": 9,
   "metadata": {},
   "outputs": [
    {
     "data": {
      "text/html": [
       "<div>\n",
       "<style scoped>\n",
       "    .dataframe tbody tr th:only-of-type {\n",
       "        vertical-align: middle;\n",
       "    }\n",
       "\n",
       "    .dataframe tbody tr th {\n",
       "        vertical-align: top;\n",
       "    }\n",
       "\n",
       "    .dataframe thead th {\n",
       "        text-align: right;\n",
       "    }\n",
       "</style>\n",
       "<table border=\"1\" class=\"dataframe\">\n",
       "  <thead>\n",
       "    <tr style=\"text-align: right;\">\n",
       "      <th></th>\n",
       "      <th>params</th>\n",
       "      <th>mean_train_mae</th>\n",
       "      <th>mean_train_mape</th>\n",
       "      <th>mean_train_rmse</th>\n",
       "      <th>mean_test_mae</th>\n",
       "      <th>std_test_mae</th>\n",
       "      <th>mean_test_mape</th>\n",
       "      <th>std_test_mape</th>\n",
       "      <th>mean_test_rmse</th>\n",
       "      <th>std_test_rmse</th>\n",
       "    </tr>\n",
       "  </thead>\n",
       "  <tbody>\n",
       "    <tr>\n",
       "      <td>0</td>\n",
       "      <td>{'hidden_layer_sizes': 8, 'max_iter': 1000}</td>\n",
       "      <td>5.402405</td>\n",
       "      <td>0.333262</td>\n",
       "      <td>6.708456</td>\n",
       "      <td>7.610580</td>\n",
       "      <td>0.557048</td>\n",
       "      <td>0.448084</td>\n",
       "      <td>0.095644</td>\n",
       "      <td>9.190479</td>\n",
       "      <td>0.627202</td>\n",
       "    </tr>\n",
       "    <tr>\n",
       "      <td>1</td>\n",
       "      <td>{'hidden_layer_sizes': 8, 'max_iter': 1500}</td>\n",
       "      <td>5.354269</td>\n",
       "      <td>0.329858</td>\n",
       "      <td>6.657790</td>\n",
       "      <td>7.636617</td>\n",
       "      <td>0.571398</td>\n",
       "      <td>0.450647</td>\n",
       "      <td>0.099410</td>\n",
       "      <td>9.227472</td>\n",
       "      <td>0.617105</td>\n",
       "    </tr>\n",
       "    <tr>\n",
       "      <td>2</td>\n",
       "      <td>{'hidden_layer_sizes': 16, 'max_iter': 1000}</td>\n",
       "      <td>5.117758</td>\n",
       "      <td>0.316793</td>\n",
       "      <td>6.420066</td>\n",
       "      <td>7.698242</td>\n",
       "      <td>0.532208</td>\n",
       "      <td>0.453039</td>\n",
       "      <td>0.099645</td>\n",
       "      <td>9.314917</td>\n",
       "      <td>0.582912</td>\n",
       "    </tr>\n",
       "    <tr>\n",
       "      <td>3</td>\n",
       "      <td>{'hidden_layer_sizes': 16, 'max_iter': 1500}</td>\n",
       "      <td>5.016744</td>\n",
       "      <td>0.310630</td>\n",
       "      <td>6.305470</td>\n",
       "      <td>7.803398</td>\n",
       "      <td>0.466114</td>\n",
       "      <td>0.458128</td>\n",
       "      <td>0.098914</td>\n",
       "      <td>9.433044</td>\n",
       "      <td>0.503035</td>\n",
       "    </tr>\n",
       "    <tr>\n",
       "      <td>4</td>\n",
       "      <td>{'hidden_layer_sizes': 40, 'max_iter': 1000}</td>\n",
       "      <td>4.686588</td>\n",
       "      <td>0.291162</td>\n",
       "      <td>5.955829</td>\n",
       "      <td>7.922761</td>\n",
       "      <td>0.513800</td>\n",
       "      <td>0.464910</td>\n",
       "      <td>0.100005</td>\n",
       "      <td>9.577658</td>\n",
       "      <td>0.609392</td>\n",
       "    </tr>\n",
       "    <tr>\n",
       "      <td>5</td>\n",
       "      <td>{'hidden_layer_sizes': 40, 'max_iter': 1500}</td>\n",
       "      <td>4.519777</td>\n",
       "      <td>0.280642</td>\n",
       "      <td>5.783521</td>\n",
       "      <td>7.915752</td>\n",
       "      <td>0.519743</td>\n",
       "      <td>0.461990</td>\n",
       "      <td>0.093813</td>\n",
       "      <td>9.582967</td>\n",
       "      <td>0.601719</td>\n",
       "    </tr>\n",
       "    <tr>\n",
       "      <td>6</td>\n",
       "      <td>{'hidden_layer_sizes': (8, 8), 'max_iter': 1000}</td>\n",
       "      <td>4.745302</td>\n",
       "      <td>0.291523</td>\n",
       "      <td>6.068848</td>\n",
       "      <td>7.756643</td>\n",
       "      <td>0.457339</td>\n",
       "      <td>0.455148</td>\n",
       "      <td>0.095945</td>\n",
       "      <td>9.432994</td>\n",
       "      <td>0.441799</td>\n",
       "    </tr>\n",
       "    <tr>\n",
       "      <td>7</td>\n",
       "      <td>{'hidden_layer_sizes': (8, 8), 'max_iter': 1500}</td>\n",
       "      <td>4.668590</td>\n",
       "      <td>0.288048</td>\n",
       "      <td>5.979610</td>\n",
       "      <td>7.963086</td>\n",
       "      <td>0.503253</td>\n",
       "      <td>0.468960</td>\n",
       "      <td>0.101116</td>\n",
       "      <td>9.650254</td>\n",
       "      <td>0.556203</td>\n",
       "    </tr>\n",
       "    <tr>\n",
       "      <td>8</td>\n",
       "      <td>{'hidden_layer_sizes': (16, 16), 'max_iter': 1...</td>\n",
       "      <td>4.259612</td>\n",
       "      <td>0.264227</td>\n",
       "      <td>5.549017</td>\n",
       "      <td>8.112686</td>\n",
       "      <td>0.502662</td>\n",
       "      <td>0.476627</td>\n",
       "      <td>0.098279</td>\n",
       "      <td>9.824502</td>\n",
       "      <td>0.524561</td>\n",
       "    </tr>\n",
       "    <tr>\n",
       "      <td>9</td>\n",
       "      <td>{'hidden_layer_sizes': (16, 16), 'max_iter': 1...</td>\n",
       "      <td>4.213966</td>\n",
       "      <td>0.258547</td>\n",
       "      <td>5.492233</td>\n",
       "      <td>8.111655</td>\n",
       "      <td>0.511142</td>\n",
       "      <td>0.473273</td>\n",
       "      <td>0.095218</td>\n",
       "      <td>9.861732</td>\n",
       "      <td>0.583598</td>\n",
       "    </tr>\n",
       "    <tr>\n",
       "      <td>10</td>\n",
       "      <td>{'hidden_layer_sizes': (40, 40), 'max_iter': 1...</td>\n",
       "      <td>3.608097</td>\n",
       "      <td>0.221103</td>\n",
       "      <td>4.801092</td>\n",
       "      <td>8.203435</td>\n",
       "      <td>0.535117</td>\n",
       "      <td>0.475539</td>\n",
       "      <td>0.099968</td>\n",
       "      <td>9.987039</td>\n",
       "      <td>0.594247</td>\n",
       "    </tr>\n",
       "    <tr>\n",
       "      <td>11</td>\n",
       "      <td>{'hidden_layer_sizes': (40, 40), 'max_iter': 1...</td>\n",
       "      <td>3.375014</td>\n",
       "      <td>0.206110</td>\n",
       "      <td>4.515237</td>\n",
       "      <td>8.320294</td>\n",
       "      <td>0.542926</td>\n",
       "      <td>0.482316</td>\n",
       "      <td>0.093952</td>\n",
       "      <td>10.176713</td>\n",
       "      <td>0.610761</td>\n",
       "    </tr>\n",
       "    <tr>\n",
       "      <td>12</td>\n",
       "      <td>{'hidden_layer_sizes': (8, 8, 8), 'max_iter': ...</td>\n",
       "      <td>4.545194</td>\n",
       "      <td>0.279898</td>\n",
       "      <td>5.874836</td>\n",
       "      <td>7.858023</td>\n",
       "      <td>0.516494</td>\n",
       "      <td>0.462476</td>\n",
       "      <td>0.099287</td>\n",
       "      <td>9.524317</td>\n",
       "      <td>0.563871</td>\n",
       "    </tr>\n",
       "    <tr>\n",
       "      <td>13</td>\n",
       "      <td>{'hidden_layer_sizes': (8, 8, 8), 'max_iter': ...</td>\n",
       "      <td>4.536057</td>\n",
       "      <td>0.278460</td>\n",
       "      <td>5.876322</td>\n",
       "      <td>7.781847</td>\n",
       "      <td>0.568115</td>\n",
       "      <td>0.458611</td>\n",
       "      <td>0.101903</td>\n",
       "      <td>9.478460</td>\n",
       "      <td>0.597111</td>\n",
       "    </tr>\n",
       "    <tr>\n",
       "      <td>14</td>\n",
       "      <td>{'hidden_layer_sizes': (16, 16, 16), 'max_iter...</td>\n",
       "      <td>3.896535</td>\n",
       "      <td>0.237435</td>\n",
       "      <td>5.192516</td>\n",
       "      <td>8.055845</td>\n",
       "      <td>0.508514</td>\n",
       "      <td>0.471980</td>\n",
       "      <td>0.099158</td>\n",
       "      <td>9.836505</td>\n",
       "      <td>0.514696</td>\n",
       "    </tr>\n",
       "    <tr>\n",
       "      <td>15</td>\n",
       "      <td>{'hidden_layer_sizes': (16, 16, 16), 'max_iter...</td>\n",
       "      <td>3.873577</td>\n",
       "      <td>0.237494</td>\n",
       "      <td>5.141999</td>\n",
       "      <td>8.220143</td>\n",
       "      <td>0.601432</td>\n",
       "      <td>0.479815</td>\n",
       "      <td>0.105475</td>\n",
       "      <td>10.012816</td>\n",
       "      <td>0.635736</td>\n",
       "    </tr>\n",
       "    <tr>\n",
       "      <td>16</td>\n",
       "      <td>{'hidden_layer_sizes': (40, 40, 40), 'max_iter...</td>\n",
       "      <td>2.618760</td>\n",
       "      <td>0.157497</td>\n",
       "      <td>3.585559</td>\n",
       "      <td>8.468303</td>\n",
       "      <td>0.552332</td>\n",
       "      <td>0.492953</td>\n",
       "      <td>0.098952</td>\n",
       "      <td>10.421952</td>\n",
       "      <td>0.586546</td>\n",
       "    </tr>\n",
       "    <tr>\n",
       "      <td>17</td>\n",
       "      <td>{'hidden_layer_sizes': (40, 40, 40), 'max_iter...</td>\n",
       "      <td>2.500509</td>\n",
       "      <td>0.150893</td>\n",
       "      <td>3.417303</td>\n",
       "      <td>8.426795</td>\n",
       "      <td>0.441438</td>\n",
       "      <td>0.490709</td>\n",
       "      <td>0.090939</td>\n",
       "      <td>10.405030</td>\n",
       "      <td>0.421211</td>\n",
       "    </tr>\n",
       "  </tbody>\n",
       "</table>\n",
       "</div>"
      ],
      "text/plain": [
       "                                               params  mean_train_mae  \\\n",
       "0         {'hidden_layer_sizes': 8, 'max_iter': 1000}        5.402405   \n",
       "1         {'hidden_layer_sizes': 8, 'max_iter': 1500}        5.354269   \n",
       "2        {'hidden_layer_sizes': 16, 'max_iter': 1000}        5.117758   \n",
       "3        {'hidden_layer_sizes': 16, 'max_iter': 1500}        5.016744   \n",
       "4        {'hidden_layer_sizes': 40, 'max_iter': 1000}        4.686588   \n",
       "5        {'hidden_layer_sizes': 40, 'max_iter': 1500}        4.519777   \n",
       "6    {'hidden_layer_sizes': (8, 8), 'max_iter': 1000}        4.745302   \n",
       "7    {'hidden_layer_sizes': (8, 8), 'max_iter': 1500}        4.668590   \n",
       "8   {'hidden_layer_sizes': (16, 16), 'max_iter': 1...        4.259612   \n",
       "9   {'hidden_layer_sizes': (16, 16), 'max_iter': 1...        4.213966   \n",
       "10  {'hidden_layer_sizes': (40, 40), 'max_iter': 1...        3.608097   \n",
       "11  {'hidden_layer_sizes': (40, 40), 'max_iter': 1...        3.375014   \n",
       "12  {'hidden_layer_sizes': (8, 8, 8), 'max_iter': ...        4.545194   \n",
       "13  {'hidden_layer_sizes': (8, 8, 8), 'max_iter': ...        4.536057   \n",
       "14  {'hidden_layer_sizes': (16, 16, 16), 'max_iter...        3.896535   \n",
       "15  {'hidden_layer_sizes': (16, 16, 16), 'max_iter...        3.873577   \n",
       "16  {'hidden_layer_sizes': (40, 40, 40), 'max_iter...        2.618760   \n",
       "17  {'hidden_layer_sizes': (40, 40, 40), 'max_iter...        2.500509   \n",
       "\n",
       "    mean_train_mape  mean_train_rmse  mean_test_mae  std_test_mae  \\\n",
       "0          0.333262         6.708456       7.610580      0.557048   \n",
       "1          0.329858         6.657790       7.636617      0.571398   \n",
       "2          0.316793         6.420066       7.698242      0.532208   \n",
       "3          0.310630         6.305470       7.803398      0.466114   \n",
       "4          0.291162         5.955829       7.922761      0.513800   \n",
       "5          0.280642         5.783521       7.915752      0.519743   \n",
       "6          0.291523         6.068848       7.756643      0.457339   \n",
       "7          0.288048         5.979610       7.963086      0.503253   \n",
       "8          0.264227         5.549017       8.112686      0.502662   \n",
       "9          0.258547         5.492233       8.111655      0.511142   \n",
       "10         0.221103         4.801092       8.203435      0.535117   \n",
       "11         0.206110         4.515237       8.320294      0.542926   \n",
       "12         0.279898         5.874836       7.858023      0.516494   \n",
       "13         0.278460         5.876322       7.781847      0.568115   \n",
       "14         0.237435         5.192516       8.055845      0.508514   \n",
       "15         0.237494         5.141999       8.220143      0.601432   \n",
       "16         0.157497         3.585559       8.468303      0.552332   \n",
       "17         0.150893         3.417303       8.426795      0.441438   \n",
       "\n",
       "    mean_test_mape  std_test_mape  mean_test_rmse  std_test_rmse  \n",
       "0         0.448084       0.095644        9.190479       0.627202  \n",
       "1         0.450647       0.099410        9.227472       0.617105  \n",
       "2         0.453039       0.099645        9.314917       0.582912  \n",
       "3         0.458128       0.098914        9.433044       0.503035  \n",
       "4         0.464910       0.100005        9.577658       0.609392  \n",
       "5         0.461990       0.093813        9.582967       0.601719  \n",
       "6         0.455148       0.095945        9.432994       0.441799  \n",
       "7         0.468960       0.101116        9.650254       0.556203  \n",
       "8         0.476627       0.098279        9.824502       0.524561  \n",
       "9         0.473273       0.095218        9.861732       0.583598  \n",
       "10        0.475539       0.099968        9.987039       0.594247  \n",
       "11        0.482316       0.093952       10.176713       0.610761  \n",
       "12        0.462476       0.099287        9.524317       0.563871  \n",
       "13        0.458611       0.101903        9.478460       0.597111  \n",
       "14        0.471980       0.099158        9.836505       0.514696  \n",
       "15        0.479815       0.105475       10.012816       0.635736  \n",
       "16        0.492953       0.098952       10.421952       0.586546  \n",
       "17        0.490709       0.090939       10.405030       0.421211  "
      ]
     },
     "execution_count": 9,
     "metadata": {},
     "output_type": "execute_result"
    }
   ],
   "source": [
    "outcomes = pd.DataFrame(grid_obj.cv_results_)\n",
    "outcomes = outcomes[['params', 'mean_train_mae', 'mean_train_mape', 'mean_train_rmse',\n",
    "            'mean_test_mae', 'std_test_mae', 'mean_test_mape', 'std_test_mape', 'mean_test_rmse', 'std_test_rmse']]\n",
    "outcomes"
   ]
  },
  {
   "cell_type": "markdown",
   "metadata": {},
   "source": [
    "#### Random Forest"
   ]
  },
  {
   "cell_type": "code",
   "execution_count": 9,
   "metadata": {},
   "outputs": [],
   "source": [
    "# MAE, MAPE\n",
    "from sklearn.model_selection import GroupShuffleSplit\n",
    "from sklearn import preprocessing\n",
    "from sklearn.model_selection import GridSearchCV\n",
    "from sklearn.ensemble import RandomForestRegressor\n",
    "from sklearn.metrics import make_scorer, mean_absolute_error\n",
    "\n",
    "# Normalizamos los datos\n",
    "scaler = preprocessing.StandardScaler().fit(X)\n",
    "X_norm = scaler.transform(X)\n",
    "\n",
    "random.seed(19680801)\n",
    "\n",
    "iterations = 10\n",
    "gss = GroupShuffleSplit(n_splits=iterations, train_size=.7)\n",
    "index = gss.split(X, Y, G)\n",
    "\n",
    "model = RandomForestRegressor()\n",
    "\n",
    "parameters = {'n_estimators': [5,10,20,50,100],\n",
    "             'max_features': [5,10,16]}\n",
    "\n",
    "# greater_is_better=True by default\n",
    "mae = make_scorer(mean_absolute_error)\n",
    "mape = make_scorer(MAPE)\n",
    "\n",
    "scores = {'mae':mae,'mape':mape}\n",
    "\n",
    "# Run the grid search\n",
    "grid_obj = GridSearchCV(model, parameters, scoring=scores, cv=index, return_train_score=True, refit=False)\n",
    "grid_obj = grid_obj.fit(X_norm, Y)\n"
   ]
  },
  {
   "cell_type": "code",
   "execution_count": 10,
   "metadata": {},
   "outputs": [
    {
     "data": {
      "text/html": [
       "<div>\n",
       "<style scoped>\n",
       "    .dataframe tbody tr th:only-of-type {\n",
       "        vertical-align: middle;\n",
       "    }\n",
       "\n",
       "    .dataframe tbody tr th {\n",
       "        vertical-align: top;\n",
       "    }\n",
       "\n",
       "    .dataframe thead th {\n",
       "        text-align: right;\n",
       "    }\n",
       "</style>\n",
       "<table border=\"1\" class=\"dataframe\">\n",
       "  <thead>\n",
       "    <tr style=\"text-align: right;\">\n",
       "      <th></th>\n",
       "      <th>params</th>\n",
       "      <th>mean_train_mae</th>\n",
       "      <th>mean_train_mape</th>\n",
       "      <th>mean_test_mae</th>\n",
       "      <th>std_test_mae</th>\n",
       "      <th>mean_test_mape</th>\n",
       "      <th>std_test_mape</th>\n",
       "    </tr>\n",
       "  </thead>\n",
       "  <tbody>\n",
       "    <tr>\n",
       "      <td>0</td>\n",
       "      <td>{'max_features': 5, 'n_estimators': 5}</td>\n",
       "      <td>2.154013</td>\n",
       "      <td>0.128760</td>\n",
       "      <td>7.736161</td>\n",
       "      <td>0.342465</td>\n",
       "      <td>0.458462</td>\n",
       "      <td>0.083408</td>\n",
       "    </tr>\n",
       "    <tr>\n",
       "      <td>1</td>\n",
       "      <td>{'max_features': 5, 'n_estimators': 10}</td>\n",
       "      <td>2.004675</td>\n",
       "      <td>0.121814</td>\n",
       "      <td>7.567269</td>\n",
       "      <td>0.367710</td>\n",
       "      <td>0.450929</td>\n",
       "      <td>0.086070</td>\n",
       "    </tr>\n",
       "    <tr>\n",
       "      <td>2</td>\n",
       "      <td>{'max_features': 5, 'n_estimators': 20}</td>\n",
       "      <td>1.893591</td>\n",
       "      <td>0.116413</td>\n",
       "      <td>7.403156</td>\n",
       "      <td>0.367118</td>\n",
       "      <td>0.443255</td>\n",
       "      <td>0.080878</td>\n",
       "    </tr>\n",
       "    <tr>\n",
       "      <td>3</td>\n",
       "      <td>{'max_features': 5, 'n_estimators': 50}</td>\n",
       "      <td>1.820054</td>\n",
       "      <td>0.112088</td>\n",
       "      <td>7.324262</td>\n",
       "      <td>0.330162</td>\n",
       "      <td>0.438989</td>\n",
       "      <td>0.084031</td>\n",
       "    </tr>\n",
       "    <tr>\n",
       "      <td>4</td>\n",
       "      <td>{'max_features': 5, 'n_estimators': 100}</td>\n",
       "      <td>1.802447</td>\n",
       "      <td>0.111402</td>\n",
       "      <td>7.320253</td>\n",
       "      <td>0.334875</td>\n",
       "      <td>0.439408</td>\n",
       "      <td>0.084469</td>\n",
       "    </tr>\n",
       "    <tr>\n",
       "      <td>5</td>\n",
       "      <td>{'max_features': 10, 'n_estimators': 5}</td>\n",
       "      <td>2.075158</td>\n",
       "      <td>0.124841</td>\n",
       "      <td>7.809514</td>\n",
       "      <td>0.303777</td>\n",
       "      <td>0.465035</td>\n",
       "      <td>0.090379</td>\n",
       "    </tr>\n",
       "    <tr>\n",
       "      <td>6</td>\n",
       "      <td>{'max_features': 10, 'n_estimators': 10}</td>\n",
       "      <td>1.947880</td>\n",
       "      <td>0.118376</td>\n",
       "      <td>7.631766</td>\n",
       "      <td>0.313510</td>\n",
       "      <td>0.455357</td>\n",
       "      <td>0.086818</td>\n",
       "    </tr>\n",
       "    <tr>\n",
       "      <td>7</td>\n",
       "      <td>{'max_features': 10, 'n_estimators': 20}</td>\n",
       "      <td>1.840819</td>\n",
       "      <td>0.112535</td>\n",
       "      <td>7.465276</td>\n",
       "      <td>0.329436</td>\n",
       "      <td>0.446287</td>\n",
       "      <td>0.085697</td>\n",
       "    </tr>\n",
       "    <tr>\n",
       "      <td>8</td>\n",
       "      <td>{'max_features': 10, 'n_estimators': 50}</td>\n",
       "      <td>1.783124</td>\n",
       "      <td>0.109724</td>\n",
       "      <td>7.410669</td>\n",
       "      <td>0.360195</td>\n",
       "      <td>0.444222</td>\n",
       "      <td>0.087167</td>\n",
       "    </tr>\n",
       "    <tr>\n",
       "      <td>9</td>\n",
       "      <td>{'max_features': 10, 'n_estimators': 100}</td>\n",
       "      <td>1.756294</td>\n",
       "      <td>0.108379</td>\n",
       "      <td>7.413100</td>\n",
       "      <td>0.351831</td>\n",
       "      <td>0.444205</td>\n",
       "      <td>0.086081</td>\n",
       "    </tr>\n",
       "    <tr>\n",
       "      <td>10</td>\n",
       "      <td>{'max_features': 16, 'n_estimators': 5}</td>\n",
       "      <td>2.084978</td>\n",
       "      <td>0.125690</td>\n",
       "      <td>7.804467</td>\n",
       "      <td>0.395679</td>\n",
       "      <td>0.462756</td>\n",
       "      <td>0.090221</td>\n",
       "    </tr>\n",
       "    <tr>\n",
       "      <td>11</td>\n",
       "      <td>{'max_features': 16, 'n_estimators': 10}</td>\n",
       "      <td>1.935357</td>\n",
       "      <td>0.117483</td>\n",
       "      <td>7.607520</td>\n",
       "      <td>0.360495</td>\n",
       "      <td>0.452266</td>\n",
       "      <td>0.085135</td>\n",
       "    </tr>\n",
       "    <tr>\n",
       "      <td>12</td>\n",
       "      <td>{'max_features': 16, 'n_estimators': 20}</td>\n",
       "      <td>1.837426</td>\n",
       "      <td>0.112208</td>\n",
       "      <td>7.561646</td>\n",
       "      <td>0.393079</td>\n",
       "      <td>0.451953</td>\n",
       "      <td>0.086875</td>\n",
       "    </tr>\n",
       "    <tr>\n",
       "      <td>13</td>\n",
       "      <td>{'max_features': 16, 'n_estimators': 50}</td>\n",
       "      <td>1.762511</td>\n",
       "      <td>0.108599</td>\n",
       "      <td>7.466525</td>\n",
       "      <td>0.378086</td>\n",
       "      <td>0.446382</td>\n",
       "      <td>0.086330</td>\n",
       "    </tr>\n",
       "    <tr>\n",
       "      <td>14</td>\n",
       "      <td>{'max_features': 16, 'n_estimators': 100}</td>\n",
       "      <td>1.746094</td>\n",
       "      <td>0.107640</td>\n",
       "      <td>7.453973</td>\n",
       "      <td>0.370984</td>\n",
       "      <td>0.446006</td>\n",
       "      <td>0.086652</td>\n",
       "    </tr>\n",
       "  </tbody>\n",
       "</table>\n",
       "</div>"
      ],
      "text/plain": [
       "                                       params  mean_train_mae  \\\n",
       "0      {'max_features': 5, 'n_estimators': 5}        2.154013   \n",
       "1     {'max_features': 5, 'n_estimators': 10}        2.004675   \n",
       "2     {'max_features': 5, 'n_estimators': 20}        1.893591   \n",
       "3     {'max_features': 5, 'n_estimators': 50}        1.820054   \n",
       "4    {'max_features': 5, 'n_estimators': 100}        1.802447   \n",
       "5     {'max_features': 10, 'n_estimators': 5}        2.075158   \n",
       "6    {'max_features': 10, 'n_estimators': 10}        1.947880   \n",
       "7    {'max_features': 10, 'n_estimators': 20}        1.840819   \n",
       "8    {'max_features': 10, 'n_estimators': 50}        1.783124   \n",
       "9   {'max_features': 10, 'n_estimators': 100}        1.756294   \n",
       "10    {'max_features': 16, 'n_estimators': 5}        2.084978   \n",
       "11   {'max_features': 16, 'n_estimators': 10}        1.935357   \n",
       "12   {'max_features': 16, 'n_estimators': 20}        1.837426   \n",
       "13   {'max_features': 16, 'n_estimators': 50}        1.762511   \n",
       "14  {'max_features': 16, 'n_estimators': 100}        1.746094   \n",
       "\n",
       "    mean_train_mape  mean_test_mae  std_test_mae  mean_test_mape  \\\n",
       "0          0.128760       7.736161      0.342465        0.458462   \n",
       "1          0.121814       7.567269      0.367710        0.450929   \n",
       "2          0.116413       7.403156      0.367118        0.443255   \n",
       "3          0.112088       7.324262      0.330162        0.438989   \n",
       "4          0.111402       7.320253      0.334875        0.439408   \n",
       "5          0.124841       7.809514      0.303777        0.465035   \n",
       "6          0.118376       7.631766      0.313510        0.455357   \n",
       "7          0.112535       7.465276      0.329436        0.446287   \n",
       "8          0.109724       7.410669      0.360195        0.444222   \n",
       "9          0.108379       7.413100      0.351831        0.444205   \n",
       "10         0.125690       7.804467      0.395679        0.462756   \n",
       "11         0.117483       7.607520      0.360495        0.452266   \n",
       "12         0.112208       7.561646      0.393079        0.451953   \n",
       "13         0.108599       7.466525      0.378086        0.446382   \n",
       "14         0.107640       7.453973      0.370984        0.446006   \n",
       "\n",
       "    std_test_mape  \n",
       "0        0.083408  \n",
       "1        0.086070  \n",
       "2        0.080878  \n",
       "3        0.084031  \n",
       "4        0.084469  \n",
       "5        0.090379  \n",
       "6        0.086818  \n",
       "7        0.085697  \n",
       "8        0.087167  \n",
       "9        0.086081  \n",
       "10       0.090221  \n",
       "11       0.085135  \n",
       "12       0.086875  \n",
       "13       0.086330  \n",
       "14       0.086652  "
      ]
     },
     "execution_count": 10,
     "metadata": {},
     "output_type": "execute_result"
    }
   ],
   "source": [
    "outcomes = pd.DataFrame(grid_obj.cv_results_)\n",
    "outcomes = outcomes[['params', 'mean_train_mae', 'mean_train_mape',\n",
    "            'mean_test_mae', 'std_test_mae', 'mean_test_mape', 'std_test_mape']]\n",
    "outcomes"
   ]
  },
  {
   "cell_type": "markdown",
   "metadata": {},
   "source": [
    "#### Máquinas de Vectores de Soporte"
   ]
  },
  {
   "cell_type": "code",
   "execution_count": 10,
   "metadata": {},
   "outputs": [
    {
     "name": "stdout",
     "output_type": "stream",
     "text": [
      "Fitting 10 folds for each of 16 candidates, totalling 160 fits\n",
      "[CV] C=1000.0, gamma=0.1, kernel=linear ..............................\n"
     ]
    },
    {
     "name": "stderr",
     "output_type": "stream",
     "text": [
      "[Parallel(n_jobs=1)]: Using backend SequentialBackend with 1 concurrent workers.\n"
     ]
    },
    {
     "name": "stdout",
     "output_type": "stream",
     "text": [
      "[CV]  C=1000.0, gamma=0.1, kernel=linear, mae=(train=6.254, test=7.037), mape=(train=0.325, test=0.509), rmse=(train=7.772, test=8.340), total= 1.5min\n",
      "[CV] C=1000.0, gamma=0.1, kernel=linear ..............................\n"
     ]
    },
    {
     "name": "stderr",
     "output_type": "stream",
     "text": [
      "[Parallel(n_jobs=1)]: Done   1 out of   1 | elapsed:  1.5min remaining:    0.0s\n"
     ]
    },
    {
     "name": "stdout",
     "output_type": "stream",
     "text": [
      "[CV]  C=1000.0, gamma=0.1, kernel=linear, mae=(train=6.103, test=8.050), mape=(train=0.373, test=0.455), rmse=(train=7.705, test=9.233), total= 1.2min\n",
      "[CV] C=1000.0, gamma=0.1, kernel=linear ..............................\n"
     ]
    },
    {
     "name": "stderr",
     "output_type": "stream",
     "text": [
      "[Parallel(n_jobs=1)]: Done   2 out of   2 | elapsed:  2.7min remaining:    0.0s\n"
     ]
    },
    {
     "name": "stdout",
     "output_type": "stream",
     "text": [
      "[CV]  C=1000.0, gamma=0.1, kernel=linear, mae=(train=6.169, test=7.345), mape=(train=0.382, test=0.375), rmse=(train=7.639, test=8.963), total= 1.5min\n",
      "[CV] C=1000.0, gamma=0.1, kernel=linear ..............................\n"
     ]
    },
    {
     "name": "stderr",
     "output_type": "stream",
     "text": [
      "[Parallel(n_jobs=1)]: Done   3 out of   3 | elapsed:  4.2min remaining:    0.0s\n"
     ]
    },
    {
     "name": "stdout",
     "output_type": "stream",
     "text": [
      "[CV]  C=1000.0, gamma=0.1, kernel=linear, mae=(train=6.254, test=7.334), mape=(train=0.373, test=0.388), rmse=(train=7.930, test=8.663), total= 1.3min\n",
      "[CV] C=1000.0, gamma=0.1, kernel=linear ..............................\n"
     ]
    },
    {
     "name": "stderr",
     "output_type": "stream",
     "text": [
      "[Parallel(n_jobs=1)]: Done   4 out of   4 | elapsed:  5.5min remaining:    0.0s\n"
     ]
    },
    {
     "name": "stdout",
     "output_type": "stream",
     "text": [
      "[CV]  C=1000.0, gamma=0.1, kernel=linear, mae=(train=6.094, test=8.209), mape=(train=0.367, test=0.304), rmse=(train=7.557, test=10.027), total= 1.4min\n",
      "[CV] C=1000.0, gamma=0.1, kernel=linear ..............................\n"
     ]
    },
    {
     "name": "stderr",
     "output_type": "stream",
     "text": [
      "[Parallel(n_jobs=1)]: Done   5 out of   5 | elapsed:  6.9min remaining:    0.0s\n"
     ]
    },
    {
     "name": "stdout",
     "output_type": "stream",
     "text": [
      "[CV]  C=1000.0, gamma=0.1, kernel=linear, mae=(train=6.311, test=7.140), mape=(train=0.362, test=0.410), rmse=(train=7.453, test=9.244), total= 1.2min\n",
      "[CV] C=1000.0, gamma=0.1, kernel=linear ..............................\n"
     ]
    },
    {
     "name": "stderr",
     "output_type": "stream",
     "text": [
      "[Parallel(n_jobs=1)]: Done   6 out of   6 | elapsed:  8.1min remaining:    0.0s\n"
     ]
    },
    {
     "name": "stdout",
     "output_type": "stream",
     "text": [
      "[CV]  C=1000.0, gamma=0.1, kernel=linear, mae=(train=6.475, test=6.649), mape=(train=0.348, test=0.510), rmse=(train=8.020, test=7.794), total= 1.4min\n",
      "[CV] C=1000.0, gamma=0.1, kernel=linear ..............................\n"
     ]
    },
    {
     "name": "stderr",
     "output_type": "stream",
     "text": [
      "[Parallel(n_jobs=1)]: Done   7 out of   7 | elapsed:  9.5min remaining:    0.0s\n"
     ]
    },
    {
     "name": "stdout",
     "output_type": "stream",
     "text": [
      "[CV]  C=1000.0, gamma=0.1, kernel=linear, mae=(train=5.982, test=7.918), mape=(train=0.333, test=0.474), rmse=(train=7.560, test=9.775), total= 1.1min\n",
      "[CV] C=1000.0, gamma=0.1, kernel=linear ..............................\n"
     ]
    },
    {
     "name": "stderr",
     "output_type": "stream",
     "text": [
      "[Parallel(n_jobs=1)]: Done   8 out of   8 | elapsed: 10.6min remaining:    0.0s\n"
     ]
    },
    {
     "name": "stdout",
     "output_type": "stream",
     "text": [
      "[CV]  C=1000.0, gamma=0.1, kernel=linear, mae=(train=6.137, test=7.947), mape=(train=0.378, test=0.338), rmse=(train=7.577, test=10.496), total= 1.0min\n",
      "[CV] C=1000.0, gamma=0.1, kernel=linear ..............................\n"
     ]
    },
    {
     "name": "stderr",
     "output_type": "stream",
     "text": [
      "[Parallel(n_jobs=1)]: Done   9 out of   9 | elapsed: 11.6min remaining:    0.0s\n"
     ]
    },
    {
     "name": "stdout",
     "output_type": "stream",
     "text": [
      "[CV]  C=1000.0, gamma=0.1, kernel=linear, mae=(train=6.431, test=7.373), mape=(train=0.376, test=0.444), rmse=(train=7.928, test=9.267), total= 1.1min\n",
      "[CV] C=1000.0, gamma=0.1, kernel=rbf .................................\n"
     ]
    },
    {
     "name": "stderr",
     "output_type": "stream",
     "text": [
      "[Parallel(n_jobs=1)]: Done  10 out of  10 | elapsed: 12.7min remaining:    0.0s\n"
     ]
    },
    {
     "name": "stdout",
     "output_type": "stream",
     "text": [
      "[CV]  C=1000.0, gamma=0.1, kernel=rbf, mae=(train=2.942, test=8.405), mape=(train=0.163, test=0.622), rmse=(train=4.519, test=10.415), total=  13.4s\n",
      "[CV] C=1000.0, gamma=0.1, kernel=rbf .................................\n"
     ]
    },
    {
     "name": "stderr",
     "output_type": "stream",
     "text": [
      "[Parallel(n_jobs=1)]: Done  11 out of  11 | elapsed: 13.0min remaining:    0.0s\n"
     ]
    },
    {
     "name": "stdout",
     "output_type": "stream",
     "text": [
      "[CV]  C=1000.0, gamma=0.1, kernel=rbf, mae=(train=3.167, test=8.316), mape=(train=0.221, test=0.466), rmse=(train=4.952, test=9.925), total=  19.1s\n",
      "[CV] C=1000.0, gamma=0.1, kernel=rbf .................................\n",
      "[CV]  C=1000.0, gamma=0.1, kernel=rbf, mae=(train=3.241, test=8.449), mape=(train=0.223, test=0.443), rmse=(train=5.119, test=10.148), total=  13.1s\n",
      "[CV] C=1000.0, gamma=0.1, kernel=rbf .................................\n",
      "[CV]  C=1000.0, gamma=0.1, kernel=rbf, mae=(train=3.231, test=9.130), mape=(train=0.213, test=0.466), rmse=(train=5.006, test=10.966), total=  13.6s\n",
      "[CV] C=1000.0, gamma=0.1, kernel=rbf .................................\n",
      "[CV]  C=1000.0, gamma=0.1, kernel=rbf, mae=(train=3.267, test=8.870), mape=(train=0.227, test=0.364), rmse=(train=5.027, test=10.802), total=  11.5s\n",
      "[CV] C=1000.0, gamma=0.1, kernel=rbf .................................\n",
      "[CV]  C=1000.0, gamma=0.1, kernel=rbf, mae=(train=3.179, test=8.796), mape=(train=0.185, test=0.538), rmse=(train=4.893, test=11.025), total=  16.9s\n",
      "[CV] C=1000.0, gamma=0.1, kernel=rbf .................................\n",
      "[CV]  C=1000.0, gamma=0.1, kernel=rbf, mae=(train=3.283, test=7.478), mape=(train=0.184, test=0.592), rmse=(train=5.013, test=9.216), total=  16.2s\n",
      "[CV] C=1000.0, gamma=0.1, kernel=rbf .................................\n",
      "[CV]  C=1000.0, gamma=0.1, kernel=rbf, mae=(train=3.072, test=9.156), mape=(train=0.183, test=0.571), rmse=(train=4.652, test=11.033), total=  15.9s\n",
      "[CV] C=1000.0, gamma=0.1, kernel=rbf .................................\n",
      "[CV]  C=1000.0, gamma=0.1, kernel=rbf, mae=(train=3.561, test=8.203), mape=(train=0.233, test=0.368), rmse=(train=5.338, test=10.034), total=  11.4s\n",
      "[CV] C=1000.0, gamma=0.1, kernel=rbf .................................\n",
      "[CV]  C=1000.0, gamma=0.1, kernel=rbf, mae=(train=3.227, test=8.084), mape=(train=0.204, test=0.506), rmse=(train=4.960, test=9.658), total=  13.0s\n",
      "[CV] C=1000.0, gamma=1, kernel=linear ................................\n",
      "[CV]  C=1000.0, gamma=1, kernel=linear, mae=(train=6.254, test=7.037), mape=(train=0.325, test=0.509), rmse=(train=7.772, test=8.340), total= 1.4min\n",
      "[CV] C=1000.0, gamma=1, kernel=linear ................................\n",
      "[CV]  C=1000.0, gamma=1, kernel=linear, mae=(train=6.103, test=8.050), mape=(train=0.373, test=0.455), rmse=(train=7.705, test=9.233), total= 1.2min\n",
      "[CV] C=1000.0, gamma=1, kernel=linear ................................\n",
      "[CV]  C=1000.0, gamma=1, kernel=linear, mae=(train=6.169, test=7.345), mape=(train=0.382, test=0.375), rmse=(train=7.639, test=8.963), total= 1.5min\n",
      "[CV] C=1000.0, gamma=1, kernel=linear ................................\n",
      "[CV]  C=1000.0, gamma=1, kernel=linear, mae=(train=6.254, test=7.334), mape=(train=0.373, test=0.388), rmse=(train=7.930, test=8.663), total= 1.3min\n",
      "[CV] C=1000.0, gamma=1, kernel=linear ................................\n",
      "[CV]  C=1000.0, gamma=1, kernel=linear, mae=(train=6.094, test=8.209), mape=(train=0.367, test=0.304), rmse=(train=7.557, test=10.027), total= 1.4min\n",
      "[CV] C=1000.0, gamma=1, kernel=linear ................................\n",
      "[CV]  C=1000.0, gamma=1, kernel=linear, mae=(train=6.311, test=7.140), mape=(train=0.362, test=0.410), rmse=(train=7.453, test=9.244), total= 1.2min\n",
      "[CV] C=1000.0, gamma=1, kernel=linear ................................\n",
      "[CV]  C=1000.0, gamma=1, kernel=linear, mae=(train=6.475, test=6.649), mape=(train=0.348, test=0.510), rmse=(train=8.020, test=7.794), total= 1.4min\n",
      "[CV] C=1000.0, gamma=1, kernel=linear ................................\n",
      "[CV]  C=1000.0, gamma=1, kernel=linear, mae=(train=5.982, test=7.918), mape=(train=0.333, test=0.474), rmse=(train=7.560, test=9.775), total= 1.1min\n",
      "[CV] C=1000.0, gamma=1, kernel=linear ................................\n",
      "[CV]  C=1000.0, gamma=1, kernel=linear, mae=(train=6.137, test=7.947), mape=(train=0.378, test=0.338), rmse=(train=7.577, test=10.496), total= 1.0min\n",
      "[CV] C=1000.0, gamma=1, kernel=linear ................................\n",
      "[CV]  C=1000.0, gamma=1, kernel=linear, mae=(train=6.431, test=7.373), mape=(train=0.376, test=0.444), rmse=(train=7.928, test=9.267), total= 1.1min\n",
      "[CV] C=1000.0, gamma=1, kernel=rbf ...................................\n",
      "[CV]  C=1000.0, gamma=1, kernel=rbf, mae=(train=0.144, test=8.876), mape=(train=0.008, test=0.664), rmse=(train=0.494, test=11.200), total=  14.7s\n",
      "[CV] C=1000.0, gamma=1, kernel=rbf ...................................\n",
      "[CV]  C=1000.0, gamma=1, kernel=rbf, mae=(train=0.200, test=9.246), mape=(train=0.014, test=0.544), rmse=(train=0.949, test=11.872), total=  16.9s\n",
      "[CV] C=1000.0, gamma=1, kernel=rbf ...................................\n",
      "[CV]  C=1000.0, gamma=1, kernel=rbf, mae=(train=0.298, test=8.659), mape=(train=0.021, test=0.455), rmse=(train=1.332, test=10.697), total=  15.8s\n",
      "[CV] C=1000.0, gamma=1, kernel=rbf ...................................\n",
      "[CV]  C=1000.0, gamma=1, kernel=rbf, mae=(train=0.221, test=9.490), mape=(train=0.014, test=0.495), rmse=(train=0.959, test=11.879), total=  15.3s\n",
      "[CV] C=1000.0, gamma=1, kernel=rbf ...................................\n",
      "[CV]  C=1000.0, gamma=1, kernel=rbf, mae=(train=0.229, test=9.019), mape=(train=0.016, test=0.375), rmse=(train=1.066, test=11.312), total=  18.8s\n",
      "[CV] C=1000.0, gamma=1, kernel=rbf ...................................\n",
      "[CV]  C=1000.0, gamma=1, kernel=rbf, mae=(train=0.180, test=9.580), mape=(train=0.010, test=0.597), rmse=(train=0.762, test=11.823), total=  14.4s\n",
      "[CV] C=1000.0, gamma=1, kernel=rbf ...................................\n",
      "[CV]  C=1000.0, gamma=1, kernel=rbf, mae=(train=0.184, test=8.533), mape=(train=0.010, test=0.658), rmse=(train=0.805, test=10.629), total=  16.7s\n",
      "[CV] C=1000.0, gamma=1, kernel=rbf ...................................\n",
      "[CV]  C=1000.0, gamma=1, kernel=rbf, mae=(train=0.183, test=9.326), mape=(train=0.011, test=0.596), rmse=(train=0.737, test=11.712), total=  16.4s\n",
      "[CV] C=1000.0, gamma=1, kernel=rbf ...................................\n",
      "[CV]  C=1000.0, gamma=1, kernel=rbf, mae=(train=0.212, test=8.262), mape=(train=0.014, test=0.406), rmse=(train=0.941, test=10.401), total=  16.7s\n",
      "[CV] C=1000.0, gamma=1, kernel=rbf ...................................\n",
      "[CV]  C=1000.0, gamma=1, kernel=rbf, mae=(train=0.212, test=8.503), mape=(train=0.014, test=0.534), rmse=(train=0.996, test=10.553), total=  15.6s\n",
      "[CV] C=1, gamma=0.1, kernel=linear ...................................\n",
      "[CV]  C=1, gamma=0.1, kernel=linear, mae=(train=6.257, test=7.069), mape=(train=0.325, test=0.510), rmse=(train=7.786, test=8.332), total=   0.7s\n",
      "[CV] C=1, gamma=0.1, kernel=linear ...................................\n",
      "[CV]  C=1, gamma=0.1, kernel=linear, mae=(train=6.103, test=8.054), mape=(train=0.373, test=0.455), rmse=(train=7.710, test=9.231), total=   0.7s\n",
      "[CV] C=1, gamma=0.1, kernel=linear ...................................\n",
      "[CV]  C=1, gamma=0.1, kernel=linear, mae=(train=6.171, test=7.347), mape=(train=0.381, test=0.375), rmse=(train=7.631, test=8.966), total=   0.9s\n",
      "[CV] C=1, gamma=0.1, kernel=linear ...................................\n",
      "[CV]  C=1, gamma=0.1, kernel=linear, mae=(train=6.256, test=7.337), mape=(train=0.373, test=0.388), rmse=(train=7.926, test=8.663), total=   0.8s\n",
      "[CV] C=1, gamma=0.1, kernel=linear ...................................\n",
      "[CV]  C=1, gamma=0.1, kernel=linear, mae=(train=6.095, test=8.215), mape=(train=0.367, test=0.304), rmse=(train=7.559, test=10.029), total=   0.7s\n",
      "[CV] C=1, gamma=0.1, kernel=linear ...................................\n",
      "[CV]  C=1, gamma=0.1, kernel=linear, mae=(train=6.312, test=7.139), mape=(train=0.361, test=0.410), rmse=(train=7.447, test=9.245), total=   0.7s\n",
      "[CV] C=1, gamma=0.1, kernel=linear ...................................\n",
      "[CV]  C=1, gamma=0.1, kernel=linear, mae=(train=6.477, test=6.666), mape=(train=0.349, test=0.512), rmse=(train=7.985, test=7.775), total=   0.8s\n",
      "[CV] C=1, gamma=0.1, kernel=linear ...................................\n",
      "[CV]  C=1, gamma=0.1, kernel=linear, mae=(train=5.989, test=7.908), mape=(train=0.333, test=0.471), rmse=(train=7.569, test=9.681), total=   0.7s\n",
      "[CV] C=1, gamma=0.1, kernel=linear ...................................\n",
      "[CV]  C=1, gamma=0.1, kernel=linear, mae=(train=6.142, test=7.825), mape=(train=0.377, test=0.332), rmse=(train=7.562, test=10.192), total=   0.7s\n",
      "[CV] C=1, gamma=0.1, kernel=linear ...................................\n"
     ]
    },
    {
     "name": "stdout",
     "output_type": "stream",
     "text": [
      "[CV]  C=1, gamma=0.1, kernel=linear, mae=(train=6.433, test=7.317), mape=(train=0.376, test=0.442), rmse=(train=7.893, test=9.125), total=   0.7s\n",
      "[CV] C=1, gamma=0.1, kernel=rbf ......................................\n",
      "[CV]  C=1, gamma=0.1, kernel=rbf, mae=(train=5.094, test=7.055), mape=(train=0.275, test=0.538), rmse=(train=6.534, test=8.428), total=   1.0s\n",
      "[CV] C=1, gamma=0.1, kernel=rbf ......................................\n",
      "[CV]  C=1, gamma=0.1, kernel=rbf, mae=(train=5.299, test=7.928), mape=(train=0.338, test=0.448), rmse=(train=6.895, test=9.261), total=   1.0s\n",
      "[CV] C=1, gamma=0.1, kernel=rbf ......................................\n",
      "[CV]  C=1, gamma=0.1, kernel=rbf, mae=(train=5.143, test=7.997), mape=(train=0.334, test=0.419), rmse=(train=6.690, test=9.510), total=   1.0s\n",
      "[CV] C=1, gamma=0.1, kernel=rbf ......................................\n",
      "[CV]  C=1, gamma=0.1, kernel=rbf, mae=(train=5.229, test=7.728), mape=(train=0.328, test=0.399), rmse=(train=6.889, test=9.181), total=   1.0s\n",
      "[CV] C=1, gamma=0.1, kernel=rbf ......................................\n",
      "[CV]  C=1, gamma=0.1, kernel=rbf, mae=(train=5.144, test=7.719), mape=(train=0.335, test=0.298), rmse=(train=6.656, test=9.419), total=   1.3s\n",
      "[CV] C=1, gamma=0.1, kernel=rbf ......................................\n",
      "[CV]  C=1, gamma=0.1, kernel=rbf, mae=(train=5.180, test=7.401), mape=(train=0.294, test=0.448), rmse=(train=6.518, test=9.376), total=   1.0s\n",
      "[CV] C=1, gamma=0.1, kernel=rbf ......................................\n",
      "[CV]  C=1, gamma=0.1, kernel=rbf, mae=(train=5.451, test=6.619), mape=(train=0.295, test=0.528), rmse=(train=6.842, test=7.798), total=   1.1s\n",
      "[CV] C=1, gamma=0.1, kernel=rbf ......................................\n",
      "[CV]  C=1, gamma=0.1, kernel=rbf, mae=(train=5.182, test=7.883), mape=(train=0.302, test=0.490), rmse=(train=6.679, test=9.354), total=   1.0s\n",
      "[CV] C=1, gamma=0.1, kernel=rbf ......................................\n",
      "[CV]  C=1, gamma=0.1, kernel=rbf, mae=(train=5.652, test=6.878), mape=(train=0.352, test=0.289), rmse=(train=7.107, test=8.595), total=   1.1s\n",
      "[CV] C=1, gamma=0.1, kernel=rbf ......................................\n",
      "[CV]  C=1, gamma=0.1, kernel=rbf, mae=(train=5.268, test=7.351), mape=(train=0.320, test=0.460), rmse=(train=6.682, test=8.613), total=   1.0s\n",
      "[CV] C=1, gamma=1, kernel=linear .....................................\n",
      "[CV]  C=1, gamma=1, kernel=linear, mae=(train=6.257, test=7.069), mape=(train=0.325, test=0.510), rmse=(train=7.786, test=8.332), total=   0.7s\n",
      "[CV] C=1, gamma=1, kernel=linear .....................................\n",
      "[CV]  C=1, gamma=1, kernel=linear, mae=(train=6.103, test=8.054), mape=(train=0.373, test=0.455), rmse=(train=7.710, test=9.231), total=   0.7s\n",
      "[CV] C=1, gamma=1, kernel=linear .....................................\n",
      "[CV]  C=1, gamma=1, kernel=linear, mae=(train=6.171, test=7.347), mape=(train=0.381, test=0.375), rmse=(train=7.631, test=8.966), total=   0.7s\n",
      "[CV] C=1, gamma=1, kernel=linear .....................................\n",
      "[CV]  C=1, gamma=1, kernel=linear, mae=(train=6.256, test=7.337), mape=(train=0.373, test=0.388), rmse=(train=7.926, test=8.663), total=   0.7s\n",
      "[CV] C=1, gamma=1, kernel=linear .....................................\n",
      "[CV]  C=1, gamma=1, kernel=linear, mae=(train=6.095, test=8.215), mape=(train=0.367, test=0.304), rmse=(train=7.559, test=10.029), total=   0.8s\n",
      "[CV] C=1, gamma=1, kernel=linear .....................................\n",
      "[CV]  C=1, gamma=1, kernel=linear, mae=(train=6.312, test=7.139), mape=(train=0.361, test=0.410), rmse=(train=7.447, test=9.245), total=   0.7s\n",
      "[CV] C=1, gamma=1, kernel=linear .....................................\n",
      "[CV]  C=1, gamma=1, kernel=linear, mae=(train=6.477, test=6.666), mape=(train=0.349, test=0.512), rmse=(train=7.985, test=7.775), total=   0.8s\n",
      "[CV] C=1, gamma=1, kernel=linear .....................................\n",
      "[CV]  C=1, gamma=1, kernel=linear, mae=(train=5.989, test=7.908), mape=(train=0.333, test=0.471), rmse=(train=7.569, test=9.681), total=   0.6s\n",
      "[CV] C=1, gamma=1, kernel=linear .....................................\n",
      "[CV]  C=1, gamma=1, kernel=linear, mae=(train=6.142, test=7.825), mape=(train=0.377, test=0.332), rmse=(train=7.562, test=10.192), total=   0.7s\n",
      "[CV] C=1, gamma=1, kernel=linear .....................................\n",
      "[CV]  C=1, gamma=1, kernel=linear, mae=(train=6.433, test=7.317), mape=(train=0.376, test=0.442), rmse=(train=7.893, test=9.125), total=   0.8s\n",
      "[CV] C=1, gamma=1, kernel=rbf ........................................\n",
      "[CV]  C=1, gamma=1, kernel=rbf, mae=(train=4.386, test=7.076), mape=(train=0.239, test=0.545), rmse=(train=5.844, test=8.521), total=   1.2s\n",
      "[CV] C=1, gamma=1, kernel=rbf ........................................\n",
      "[CV]  C=1, gamma=1, kernel=rbf, mae=(train=4.528, test=7.834), mape=(train=0.299, test=0.457), rmse=(train=6.165, test=9.008), total=   1.2s\n",
      "[CV] C=1, gamma=1, kernel=rbf ........................................\n",
      "[CV]  C=1, gamma=1, kernel=rbf, mae=(train=4.566, test=7.418), mape=(train=0.305, test=0.395), rmse=(train=6.175, test=8.911), total=   1.1s\n",
      "[CV] C=1, gamma=1, kernel=rbf ........................................\n",
      "[CV]  C=1, gamma=1, kernel=rbf, mae=(train=4.514, test=7.328), mape=(train=0.300, test=0.384), rmse=(train=6.060, test=8.710), total=   1.1s\n",
      "[CV] C=1, gamma=1, kernel=rbf ........................................\n",
      "[CV]  C=1, gamma=1, kernel=rbf, mae=(train=4.561, test=7.864), mape=(train=0.302, test=0.315), rmse=(train=6.177, test=9.411), total=   1.1s\n",
      "[CV] C=1, gamma=1, kernel=rbf ........................................\n",
      "[CV]  C=1, gamma=1, kernel=rbf, mae=(train=4.363, test=7.869), mape=(train=0.255, test=0.492), rmse=(train=5.767, test=9.653), total=   1.1s\n",
      "[CV] C=1, gamma=1, kernel=rbf ........................................\n",
      "[CV]  C=1, gamma=1, kernel=rbf, mae=(train=4.619, test=6.775), mape=(train=0.261, test=0.563), rmse=(train=6.097, test=8.134), total=   1.1s\n",
      "[CV] C=1, gamma=1, kernel=rbf ........................................\n",
      "[CV]  C=1, gamma=1, kernel=rbf, mae=(train=4.293, test=7.766), mape=(train=0.252, test=0.478), rmse=(train=5.721, test=9.356), total=   1.1s\n",
      "[CV] C=1, gamma=1, kernel=rbf ........................................\n",
      "[CV]  C=1, gamma=1, kernel=rbf, mae=(train=4.924, test=7.229), mape=(train=0.311, test=0.323), rmse=(train=6.530, test=8.691), total=   1.1s\n",
      "[CV] C=1, gamma=1, kernel=rbf ........................................\n",
      "[CV]  C=1, gamma=1, kernel=rbf, mae=(train=4.616, test=6.877), mape=(train=0.283, test=0.455), rmse=(train=6.104, test=8.229), total=   1.2s\n",
      "[CV] C=0.001, gamma=0.1, kernel=linear ...............................\n",
      "[CV]  C=0.001, gamma=0.1, kernel=linear, mae=(train=6.622, test=7.203), mape=(train=0.356, test=0.527), rmse=(train=7.882, test=8.338), total=   0.6s\n",
      "[CV] C=0.001, gamma=0.1, kernel=linear ...............................\n",
      "[CV]  C=0.001, gamma=0.1, kernel=linear, mae=(train=6.584, test=7.488), mape=(train=0.400, test=0.426), rmse=(train=8.020, test=8.377), total=   0.5s\n",
      "[CV] C=0.001, gamma=0.1, kernel=linear ...............................\n",
      "[CV]  C=0.001, gamma=0.1, kernel=linear, mae=(train=6.973, test=6.224), mape=(train=0.440, test=0.320), rmse=(train=8.088, test=7.788), total=   0.5s\n",
      "[CV] C=0.001, gamma=0.1, kernel=linear ...............................\n",
      "[CV]  C=0.001, gamma=0.1, kernel=linear, mae=(train=6.852, test=6.600), mape=(train=0.429, test=0.340), rmse=(train=8.116, test=7.821), total=   0.5s\n",
      "[CV] C=0.001, gamma=0.1, kernel=linear ...............................\n",
      "[CV]  C=0.001, gamma=0.1, kernel=linear, mae=(train=6.289, test=8.742), mape=(train=0.386, test=0.339), rmse=(train=7.797, test=10.226), total=   0.5s\n",
      "[CV] C=0.001, gamma=0.1, kernel=linear ...............................\n",
      "[CV]  C=0.001, gamma=0.1, kernel=linear, mae=(train=6.538, test=7.490), mape=(train=0.374, test=0.445), rmse=(train=7.547, test=9.301), total=   0.5s\n",
      "[CV] C=0.001, gamma=0.1, kernel=linear ...............................\n",
      "[CV]  C=0.001, gamma=0.1, kernel=linear, mae=(train=6.860, test=6.788), mape=(train=0.386, test=0.560), rmse=(train=8.078, test=7.810), total=   0.5s\n",
      "[CV] C=0.001, gamma=0.1, kernel=linear ...............................\n",
      "[CV]  C=0.001, gamma=0.1, kernel=linear, mae=(train=6.802, test=6.946), mape=(train=0.378, test=0.402), rmse=(train=8.115, test=8.477), total=   0.5s\n",
      "[CV] C=0.001, gamma=0.1, kernel=linear ...............................\n"
     ]
    },
    {
     "name": "stdout",
     "output_type": "stream",
     "text": [
      "[CV]  C=0.001, gamma=0.1, kernel=linear, mae=(train=6.579, test=7.739), mape=(train=0.396, test=0.349), rmse=(train=8.095, test=8.950), total=   0.5s\n",
      "[CV] C=0.001, gamma=0.1, kernel=linear ...............................\n",
      "[CV]  C=0.001, gamma=0.1, kernel=linear, mae=(train=7.019, test=6.379), mape=(train=0.412, test=0.420), rmse=(train=8.305, test=7.375), total=   0.5s\n",
      "[CV] C=0.001, gamma=0.1, kernel=rbf ..................................\n",
      "[CV]  C=0.001, gamma=0.1, kernel=rbf, mae=(train=6.779, test=7.316), mape=(train=0.373, test=0.545), rmse=(train=7.988, test=8.463), total=   1.0s\n",
      "[CV] C=0.001, gamma=0.1, kernel=rbf ..................................\n",
      "[CV]  C=0.001, gamma=0.1, kernel=rbf, mae=(train=6.733, test=7.473), mape=(train=0.413, test=0.431), rmse=(train=8.099, test=8.376), total=   1.0s\n",
      "[CV] C=0.001, gamma=0.1, kernel=rbf ..................................\n",
      "[CV]  C=0.001, gamma=0.1, kernel=rbf, mae=(train=7.414, test=5.909), mape=(train=0.487, test=0.316), rmse=(train=8.406, test=7.427), total=   1.0s\n",
      "[CV] C=0.001, gamma=0.1, kernel=rbf ..................................\n",
      "[CV]  C=0.001, gamma=0.1, kernel=rbf, mae=(train=7.156, test=6.480), mape=(train=0.462, test=0.338), rmse=(train=8.339, test=7.704), total=   1.0s\n",
      "[CV] C=0.001, gamma=0.1, kernel=rbf ..................................\n",
      "[CV]  C=0.001, gamma=0.1, kernel=rbf, mae=(train=6.521, test=8.513), mape=(train=0.412, test=0.335), rmse=(train=7.940, test=9.944), total=   1.0s\n",
      "[CV] C=0.001, gamma=0.1, kernel=rbf ..................................\n",
      "[CV]  C=0.001, gamma=0.1, kernel=rbf, mae=(train=6.681, test=7.537), mape=(train=0.394, test=0.466), rmse=(train=7.602, test=9.296), total=   1.2s\n",
      "[CV] C=0.001, gamma=0.1, kernel=rbf ..................................\n",
      "[CV]  C=0.001, gamma=0.1, kernel=rbf, mae=(train=7.009, test=6.958), mape=(train=0.405, test=0.590), rmse=(train=8.186, test=8.132), total=   1.0s\n",
      "[CV] C=0.001, gamma=0.1, kernel=rbf ..................................\n",
      "[CV]  C=0.001, gamma=0.1, kernel=rbf, mae=(train=7.035, test=7.021), mape=(train=0.396, test=0.405), rmse=(train=8.293, test=8.562), total=   1.0s\n",
      "[CV] C=0.001, gamma=0.1, kernel=rbf ..................................\n",
      "[CV]  C=0.001, gamma=0.1, kernel=rbf, mae=(train=6.682, test=8.064), mape=(train=0.402, test=0.370), rmse=(train=8.246, test=9.135), total=   1.0s\n",
      "[CV] C=0.001, gamma=0.1, kernel=rbf ..................................\n",
      "[CV]  C=0.001, gamma=0.1, kernel=rbf, mae=(train=7.157, test=6.467), mape=(train=0.430, test=0.437), rmse=(train=8.381, test=7.500), total=   1.0s\n",
      "[CV] C=0.001, gamma=1, kernel=linear .................................\n",
      "[CV]  C=0.001, gamma=1, kernel=linear, mae=(train=6.622, test=7.203), mape=(train=0.356, test=0.527), rmse=(train=7.882, test=8.338), total=   0.5s\n",
      "[CV] C=0.001, gamma=1, kernel=linear .................................\n",
      "[CV]  C=0.001, gamma=1, kernel=linear, mae=(train=6.584, test=7.488), mape=(train=0.400, test=0.426), rmse=(train=8.020, test=8.377), total=   0.5s\n",
      "[CV] C=0.001, gamma=1, kernel=linear .................................\n",
      "[CV]  C=0.001, gamma=1, kernel=linear, mae=(train=6.973, test=6.224), mape=(train=0.440, test=0.320), rmse=(train=8.088, test=7.788), total=   0.5s\n",
      "[CV] C=0.001, gamma=1, kernel=linear .................................\n",
      "[CV]  C=0.001, gamma=1, kernel=linear, mae=(train=6.852, test=6.600), mape=(train=0.429, test=0.340), rmse=(train=8.116, test=7.821), total=   0.5s\n",
      "[CV] C=0.001, gamma=1, kernel=linear .................................\n",
      "[CV]  C=0.001, gamma=1, kernel=linear, mae=(train=6.289, test=8.742), mape=(train=0.386, test=0.339), rmse=(train=7.797, test=10.226), total=   0.6s\n",
      "[CV] C=0.001, gamma=1, kernel=linear .................................\n",
      "[CV]  C=0.001, gamma=1, kernel=linear, mae=(train=6.538, test=7.490), mape=(train=0.374, test=0.445), rmse=(train=7.547, test=9.301), total=   0.5s\n",
      "[CV] C=0.001, gamma=1, kernel=linear .................................\n",
      "[CV]  C=0.001, gamma=1, kernel=linear, mae=(train=6.860, test=6.788), mape=(train=0.386, test=0.560), rmse=(train=8.078, test=7.810), total=   0.5s\n",
      "[CV] C=0.001, gamma=1, kernel=linear .................................\n",
      "[CV]  C=0.001, gamma=1, kernel=linear, mae=(train=6.802, test=6.946), mape=(train=0.378, test=0.402), rmse=(train=8.115, test=8.477), total=   0.5s\n",
      "[CV] C=0.001, gamma=1, kernel=linear .................................\n",
      "[CV]  C=0.001, gamma=1, kernel=linear, mae=(train=6.579, test=7.739), mape=(train=0.396, test=0.349), rmse=(train=8.095, test=8.950), total=   0.5s\n",
      "[CV] C=0.001, gamma=1, kernel=linear .................................\n",
      "[CV]  C=0.001, gamma=1, kernel=linear, mae=(train=7.019, test=6.379), mape=(train=0.412, test=0.420), rmse=(train=8.305, test=7.375), total=   0.5s\n",
      "[CV] C=0.001, gamma=1, kernel=rbf ....................................\n",
      "[CV]  C=0.001, gamma=1, kernel=rbf, mae=(train=6.782, test=7.321), mape=(train=0.374, test=0.546), rmse=(train=7.991, test=8.469), total=   1.1s\n",
      "[CV] C=0.001, gamma=1, kernel=rbf ....................................\n",
      "[CV]  C=0.001, gamma=1, kernel=rbf, mae=(train=6.743, test=7.449), mape=(train=0.414, test=0.430), rmse=(train=8.101, test=8.355), total=   1.1s\n",
      "[CV] C=0.001, gamma=1, kernel=rbf ....................................\n",
      "[CV]  C=0.001, gamma=1, kernel=rbf, mae=(train=7.439, test=5.889), mape=(train=0.489, test=0.315), rmse=(train=8.430, test=7.416), total=   1.0s\n",
      "[CV] C=0.001, gamma=1, kernel=rbf ....................................\n",
      "[CV]  C=0.001, gamma=1, kernel=rbf, mae=(train=7.175, test=6.470), mape=(train=0.464, test=0.338), rmse=(train=8.359, test=7.696), total=   1.0s\n",
      "[CV] C=0.001, gamma=1, kernel=rbf ....................................\n",
      "[CV]  C=0.001, gamma=1, kernel=rbf, mae=(train=6.528, test=8.522), mape=(train=0.413, test=0.335), rmse=(train=7.952, test=9.957), total=   1.1s\n",
      "[CV] C=0.001, gamma=1, kernel=rbf ....................................\n",
      "[CV]  C=0.001, gamma=1, kernel=rbf, mae=(train=6.683, test=7.540), mape=(train=0.395, test=0.467), rmse=(train=7.603, test=9.298), total=   1.0s\n",
      "[CV] C=0.001, gamma=1, kernel=rbf ....................................\n",
      "[CV]  C=0.001, gamma=1, kernel=rbf, mae=(train=7.023, test=6.953), mape=(train=0.405, test=0.589), rmse=(train=8.198, test=8.134), total=   1.1s\n",
      "[CV] C=0.001, gamma=1, kernel=rbf ....................................\n",
      "[CV]  C=0.001, gamma=1, kernel=rbf, mae=(train=7.050, test=7.010), mape=(train=0.398, test=0.405), rmse=(train=8.305, test=8.559), total=   1.0s\n",
      "[CV] C=0.001, gamma=1, kernel=rbf ....................................\n",
      "[CV]  C=0.001, gamma=1, kernel=rbf, mae=(train=6.687, test=8.066), mape=(train=0.402, test=0.370), rmse=(train=8.254, test=9.136), total=   1.0s\n",
      "[CV] C=0.001, gamma=1, kernel=rbf ....................................\n",
      "[CV]  C=0.001, gamma=1, kernel=rbf, mae=(train=7.161, test=6.470), mape=(train=0.430, test=0.437), rmse=(train=8.388, test=7.506), total=   1.1s\n",
      "[CV] C=3e-05, gamma=0.1, kernel=linear ...............................\n",
      "[CV]  C=3e-05, gamma=0.1, kernel=linear, mae=(train=6.773, test=7.308), mape=(train=0.372, test=0.543), rmse=(train=7.987, test=8.457), total=   0.5s\n",
      "[CV] C=3e-05, gamma=0.1, kernel=linear ...............................\n",
      "[CV]  C=3e-05, gamma=0.1, kernel=linear, mae=(train=6.740, test=7.440), mape=(train=0.413, test=0.428), rmse=(train=8.107, test=8.347), total=   0.6s\n",
      "[CV] C=3e-05, gamma=0.1, kernel=linear ...............................\n",
      "[CV]  C=3e-05, gamma=0.1, kernel=linear, mae=(train=7.412, test=5.891), mape=(train=0.485, test=0.314), rmse=(train=8.408, test=7.424), total=   0.7s\n",
      "[CV] C=3e-05, gamma=0.1, kernel=linear ...............................\n",
      "[CV]  C=3e-05, gamma=0.1, kernel=linear, mae=(train=7.145, test=6.476), mape=(train=0.461, test=0.338), rmse=(train=8.336, test=7.700), total=   0.5s\n",
      "[CV] C=3e-05, gamma=0.1, kernel=linear ...............................\n",
      "[CV]  C=3e-05, gamma=0.1, kernel=linear, mae=(train=6.478, test=8.541), mape=(train=0.409, test=0.336), rmse=(train=7.911, test=9.976), total=   0.5s\n",
      "[CV] C=3e-05, gamma=0.1, kernel=linear ...............................\n",
      "[CV]  C=3e-05, gamma=0.1, kernel=linear, mae=(train=6.669, test=7.525), mape=(train=0.394, test=0.466), rmse=(train=7.594, test=9.276), total=   0.5s\n",
      "[CV] C=3e-05, gamma=0.1, kernel=linear ...............................\n"
     ]
    },
    {
     "name": "stdout",
     "output_type": "stream",
     "text": [
      "[CV]  C=3e-05, gamma=0.1, kernel=linear, mae=(train=7.003, test=6.931), mape=(train=0.402, test=0.585), rmse=(train=8.185, test=8.084), total=   0.5s\n",
      "[CV] C=3e-05, gamma=0.1, kernel=linear ...............................\n",
      "[CV]  C=3e-05, gamma=0.1, kernel=linear, mae=(train=7.052, test=6.996), mape=(train=0.398, test=0.404), rmse=(train=8.307, test=8.549), total=   0.5s\n",
      "[CV] C=3e-05, gamma=0.1, kernel=linear ...............................\n",
      "[CV]  C=3e-05, gamma=0.1, kernel=linear, mae=(train=6.687, test=8.041), mape=(train=0.402, test=0.369), rmse=(train=8.251, test=9.119), total=   0.5s\n",
      "[CV] C=3e-05, gamma=0.1, kernel=linear ...............................\n",
      "[CV]  C=3e-05, gamma=0.1, kernel=linear, mae=(train=7.148, test=6.457), mape=(train=0.428, test=0.435), rmse=(train=8.381, test=7.489), total=   0.5s\n",
      "[CV] C=3e-05, gamma=0.1, kernel=rbf ..................................\n",
      "[CV]  C=3e-05, gamma=0.1, kernel=rbf, mae=(train=6.791, test=7.323), mape=(train=0.374, test=0.546), rmse=(train=8.000, test=8.472), total=   1.0s\n",
      "[CV] C=3e-05, gamma=0.1, kernel=rbf ..................................\n",
      "[CV]  C=3e-05, gamma=0.1, kernel=rbf, mae=(train=6.752, test=7.449), mape=(train=0.415, test=0.430), rmse=(train=8.110, test=8.355), total=   1.0s\n",
      "[CV] C=3e-05, gamma=0.1, kernel=rbf ..................................\n",
      "[CV]  C=3e-05, gamma=0.1, kernel=rbf, mae=(train=7.453, test=5.884), mape=(train=0.490, test=0.315), rmse=(train=8.444, test=7.410), total=   1.0s\n",
      "[CV] C=3e-05, gamma=0.1, kernel=rbf ..................................\n",
      "[CV]  C=3e-05, gamma=0.1, kernel=rbf, mae=(train=7.188, test=6.468), mape=(train=0.465, test=0.338), rmse=(train=8.371, test=7.694), total=   1.0s\n",
      "[CV] C=3e-05, gamma=0.1, kernel=rbf ..................................\n",
      "[CV]  C=3e-05, gamma=0.1, kernel=rbf, mae=(train=6.537, test=8.520), mape=(train=0.413, test=0.335), rmse=(train=7.960, test=9.954), total=   1.0s\n",
      "[CV] C=3e-05, gamma=0.1, kernel=rbf ..................................\n",
      "[CV]  C=3e-05, gamma=0.1, kernel=rbf, mae=(train=6.692, test=7.544), mape=(train=0.395, test=0.467), rmse=(train=7.613, test=9.303), total=   1.0s\n",
      "[CV] C=3e-05, gamma=0.1, kernel=rbf ..................................\n",
      "[CV]  C=3e-05, gamma=0.1, kernel=rbf, mae=(train=7.031, test=6.955), mape=(train=0.405, test=0.590), rmse=(train=8.206, test=8.136), total=   1.2s\n",
      "[CV] C=3e-05, gamma=0.1, kernel=rbf ..................................\n",
      "[CV]  C=3e-05, gamma=0.1, kernel=rbf, mae=(train=7.062, test=7.006), mape=(train=0.399, test=0.405), rmse=(train=8.314, test=8.556), total=   1.0s\n",
      "[CV] C=3e-05, gamma=0.1, kernel=rbf ..................................\n",
      "[CV]  C=3e-05, gamma=0.1, kernel=rbf, mae=(train=6.694, test=8.076), mape=(train=0.402, test=0.371), rmse=(train=8.263, test=9.144), total=   1.0s\n",
      "[CV] C=3e-05, gamma=0.1, kernel=rbf ..................................\n",
      "[CV]  C=3e-05, gamma=0.1, kernel=rbf, mae=(train=7.169, test=6.471), mape=(train=0.431, test=0.437), rmse=(train=8.397, test=7.507), total=   1.0s\n",
      "[CV] C=3e-05, gamma=1, kernel=linear .................................\n",
      "[CV]  C=3e-05, gamma=1, kernel=linear, mae=(train=6.773, test=7.308), mape=(train=0.372, test=0.543), rmse=(train=7.987, test=8.457), total=   0.5s\n",
      "[CV] C=3e-05, gamma=1, kernel=linear .................................\n",
      "[CV]  C=3e-05, gamma=1, kernel=linear, mae=(train=6.740, test=7.440), mape=(train=0.413, test=0.428), rmse=(train=8.107, test=8.347), total=   0.5s\n",
      "[CV] C=3e-05, gamma=1, kernel=linear .................................\n",
      "[CV]  C=3e-05, gamma=1, kernel=linear, mae=(train=7.412, test=5.891), mape=(train=0.485, test=0.314), rmse=(train=8.408, test=7.424), total=   0.5s\n",
      "[CV] C=3e-05, gamma=1, kernel=linear .................................\n",
      "[CV]  C=3e-05, gamma=1, kernel=linear, mae=(train=7.145, test=6.476), mape=(train=0.461, test=0.338), rmse=(train=8.336, test=7.700), total=   0.5s\n",
      "[CV] C=3e-05, gamma=1, kernel=linear .................................\n",
      "[CV]  C=3e-05, gamma=1, kernel=linear, mae=(train=6.478, test=8.541), mape=(train=0.409, test=0.336), rmse=(train=7.911, test=9.976), total=   0.5s\n",
      "[CV] C=3e-05, gamma=1, kernel=linear .................................\n",
      "[CV]  C=3e-05, gamma=1, kernel=linear, mae=(train=6.669, test=7.525), mape=(train=0.394, test=0.466), rmse=(train=7.594, test=9.276), total=   0.5s\n",
      "[CV] C=3e-05, gamma=1, kernel=linear .................................\n",
      "[CV]  C=3e-05, gamma=1, kernel=linear, mae=(train=7.003, test=6.931), mape=(train=0.402, test=0.585), rmse=(train=8.185, test=8.084), total=   0.5s\n",
      "[CV] C=3e-05, gamma=1, kernel=linear .................................\n",
      "[CV]  C=3e-05, gamma=1, kernel=linear, mae=(train=7.052, test=6.996), mape=(train=0.398, test=0.404), rmse=(train=8.307, test=8.549), total=   0.5s\n",
      "[CV] C=3e-05, gamma=1, kernel=linear .................................\n",
      "[CV]  C=3e-05, gamma=1, kernel=linear, mae=(train=6.687, test=8.041), mape=(train=0.402, test=0.369), rmse=(train=8.251, test=9.119), total=   0.5s\n",
      "[CV] C=3e-05, gamma=1, kernel=linear .................................\n",
      "[CV]  C=3e-05, gamma=1, kernel=linear, mae=(train=7.148, test=6.457), mape=(train=0.428, test=0.435), rmse=(train=8.381, test=7.489), total=   0.5s\n",
      "[CV] C=3e-05, gamma=1, kernel=rbf ....................................\n",
      "[CV]  C=3e-05, gamma=1, kernel=rbf, mae=(train=6.791, test=7.323), mape=(train=0.374, test=0.546), rmse=(train=8.000, test=8.472), total=   1.1s\n",
      "[CV] C=3e-05, gamma=1, kernel=rbf ....................................\n",
      "[CV]  C=3e-05, gamma=1, kernel=rbf, mae=(train=6.753, test=7.448), mape=(train=0.415, test=0.430), rmse=(train=8.111, test=8.354), total=   1.1s\n",
      "[CV] C=3e-05, gamma=1, kernel=rbf ....................................\n",
      "[CV]  C=3e-05, gamma=1, kernel=rbf, mae=(train=7.454, test=5.884), mape=(train=0.490, test=0.315), rmse=(train=8.445, test=7.409), total=   1.4s\n",
      "[CV] C=3e-05, gamma=1, kernel=rbf ....................................\n",
      "[CV]  C=3e-05, gamma=1, kernel=rbf, mae=(train=7.188, test=6.468), mape=(train=0.465, test=0.338), rmse=(train=8.372, test=7.693), total=   1.1s\n",
      "[CV] C=3e-05, gamma=1, kernel=rbf ....................................\n",
      "[CV]  C=3e-05, gamma=1, kernel=rbf, mae=(train=6.537, test=8.519), mape=(train=0.414, test=0.335), rmse=(train=7.960, test=9.954), total=   1.1s\n",
      "[CV] C=3e-05, gamma=1, kernel=rbf ....................................\n",
      "[CV]  C=3e-05, gamma=1, kernel=rbf, mae=(train=6.693, test=7.544), mape=(train=0.395, test=0.467), rmse=(train=7.613, test=9.303), total=   1.2s\n",
      "[CV] C=3e-05, gamma=1, kernel=rbf ....................................\n",
      "[CV]  C=3e-05, gamma=1, kernel=rbf, mae=(train=7.032, test=6.954), mape=(train=0.405, test=0.590), rmse=(train=8.206, test=8.136), total=   1.3s\n",
      "[CV] C=3e-05, gamma=1, kernel=rbf ....................................\n",
      "[CV]  C=3e-05, gamma=1, kernel=rbf, mae=(train=7.062, test=7.005), mape=(train=0.399, test=0.405), rmse=(train=8.314, test=8.556), total=   1.3s\n",
      "[CV] C=3e-05, gamma=1, kernel=rbf ....................................\n",
      "[CV]  C=3e-05, gamma=1, kernel=rbf, mae=(train=6.694, test=8.076), mape=(train=0.402, test=0.371), rmse=(train=8.264, test=9.145), total=   1.1s\n",
      "[CV] C=3e-05, gamma=1, kernel=rbf ....................................\n",
      "[CV]  C=3e-05, gamma=1, kernel=rbf, mae=(train=7.170, test=6.471), mape=(train=0.431, test=0.437), rmse=(train=8.397, test=7.507), total=   1.1s\n"
     ]
    },
    {
     "name": "stderr",
     "output_type": "stream",
     "text": [
      "[Parallel(n_jobs=1)]: Done 160 out of 160 | elapsed: 32.9min finished\n"
     ]
    }
   ],
   "source": [
    "# MAE, MAPE, RMSE\n",
    "\n",
    "from sklearn.model_selection import GroupShuffleSplit\n",
    "from sklearn import preprocessing\n",
    "from sklearn.model_selection import GridSearchCV\n",
    "from sklearn.svm import SVR\n",
    "from sklearn.metrics import make_scorer, mean_absolute_error, mean_squared_error\n",
    "\n",
    "# Normalizamos los datos\n",
    "scaler = preprocessing.StandardScaler().fit(X)\n",
    "X_norm = scaler.transform(X)\n",
    "\n",
    "random.seed(19680801)\n",
    "\n",
    "iterations = 10\n",
    "gss = GroupShuffleSplit(n_splits=iterations, train_size=.7)\n",
    "index = gss.split(X, Y, G)\n",
    "\n",
    "model = SVR()\n",
    "\n",
    "parameters = {'kernel': ['linear', 'rbf'],\n",
    "              'C': [1e3, 1, 0.001, 0.00003],\n",
    "              'gamma': [0.1, 1]}\n",
    "\n",
    "#print(model.get_params().keys())\n",
    "\n",
    "# métricas de error\n",
    "# greater_is_better=True by default\n",
    "mae = make_scorer(mean_absolute_error)\n",
    "mape = make_scorer(MAPE)\n",
    "rmse = make_scorer(mean_squared_error, squared=False)\n",
    "\n",
    "scores = {'mae':mae,'mape':mape,'rmse':rmse}\n",
    "\n",
    "# Run the grid search\n",
    "grid_obj = GridSearchCV(model, parameters, scoring=scores, cv=index, return_train_score=True, refit=False, verbose=12)\n",
    "grid_obj = grid_obj.fit(X_norm, Y)"
   ]
  },
  {
   "cell_type": "code",
   "execution_count": 11,
   "metadata": {},
   "outputs": [
    {
     "data": {
      "text/html": [
       "<div>\n",
       "<style scoped>\n",
       "    .dataframe tbody tr th:only-of-type {\n",
       "        vertical-align: middle;\n",
       "    }\n",
       "\n",
       "    .dataframe tbody tr th {\n",
       "        vertical-align: top;\n",
       "    }\n",
       "\n",
       "    .dataframe thead th {\n",
       "        text-align: right;\n",
       "    }\n",
       "</style>\n",
       "<table border=\"1\" class=\"dataframe\">\n",
       "  <thead>\n",
       "    <tr style=\"text-align: right;\">\n",
       "      <th></th>\n",
       "      <th>params</th>\n",
       "      <th>mean_train_mae</th>\n",
       "      <th>mean_train_mape</th>\n",
       "      <th>mean_train_rmse</th>\n",
       "      <th>mean_test_mae</th>\n",
       "      <th>std_test_mae</th>\n",
       "      <th>mean_test_mape</th>\n",
       "      <th>std_test_mape</th>\n",
       "      <th>mean_test_rmse</th>\n",
       "      <th>std_test_rmse</th>\n",
       "    </tr>\n",
       "  </thead>\n",
       "  <tbody>\n",
       "    <tr>\n",
       "      <td>0</td>\n",
       "      <td>{'C': 1000.0, 'gamma': 0.1, 'kernel': 'linear'}</td>\n",
       "      <td>6.221004</td>\n",
       "      <td>0.361629</td>\n",
       "      <td>7.714070</td>\n",
       "      <td>7.500295</td>\n",
       "      <td>0.481315</td>\n",
       "      <td>0.420720</td>\n",
       "      <td>0.066425</td>\n",
       "      <td>9.180300</td>\n",
       "      <td>0.758817</td>\n",
       "    </tr>\n",
       "    <tr>\n",
       "      <td>1</td>\n",
       "      <td>{'C': 1000.0, 'gamma': 0.1, 'kernel': 'rbf'}</td>\n",
       "      <td>3.217091</td>\n",
       "      <td>0.203606</td>\n",
       "      <td>4.947816</td>\n",
       "      <td>8.488749</td>\n",
       "      <td>0.490063</td>\n",
       "      <td>0.493630</td>\n",
       "      <td>0.084244</td>\n",
       "      <td>10.322263</td>\n",
       "      <td>0.598886</td>\n",
       "    </tr>\n",
       "    <tr>\n",
       "      <td>2</td>\n",
       "      <td>{'C': 1000.0, 'gamma': 1, 'kernel': 'linear'}</td>\n",
       "      <td>6.221004</td>\n",
       "      <td>0.361629</td>\n",
       "      <td>7.714070</td>\n",
       "      <td>7.500295</td>\n",
       "      <td>0.481315</td>\n",
       "      <td>0.420720</td>\n",
       "      <td>0.066425</td>\n",
       "      <td>9.180300</td>\n",
       "      <td>0.758817</td>\n",
       "    </tr>\n",
       "    <tr>\n",
       "      <td>3</td>\n",
       "      <td>{'C': 1000.0, 'gamma': 1, 'kernel': 'rbf'}</td>\n",
       "      <td>0.206247</td>\n",
       "      <td>0.013408</td>\n",
       "      <td>0.904030</td>\n",
       "      <td>8.949341</td>\n",
       "      <td>0.431197</td>\n",
       "      <td>0.532304</td>\n",
       "      <td>0.094813</td>\n",
       "      <td>11.207810</td>\n",
       "      <td>0.566569</td>\n",
       "    </tr>\n",
       "    <tr>\n",
       "      <td>4</td>\n",
       "      <td>{'C': 1, 'gamma': 0.1, 'kernel': 'linear'}</td>\n",
       "      <td>6.223547</td>\n",
       "      <td>0.361455</td>\n",
       "      <td>7.706775</td>\n",
       "      <td>7.487611</td>\n",
       "      <td>0.467114</td>\n",
       "      <td>0.420068</td>\n",
       "      <td>0.067237</td>\n",
       "      <td>9.123859</td>\n",
       "      <td>0.705711</td>\n",
       "    </tr>\n",
       "    <tr>\n",
       "      <td>5</td>\n",
       "      <td>{'C': 1, 'gamma': 0.1, 'kernel': 'rbf'}</td>\n",
       "      <td>5.264087</td>\n",
       "      <td>0.317361</td>\n",
       "      <td>6.749162</td>\n",
       "      <td>7.455751</td>\n",
       "      <td>0.452823</td>\n",
       "      <td>0.431873</td>\n",
       "      <td>0.080684</td>\n",
       "      <td>8.953434</td>\n",
       "      <td>0.535530</td>\n",
       "    </tr>\n",
       "    <tr>\n",
       "      <td>6</td>\n",
       "      <td>{'C': 1, 'gamma': 1, 'kernel': 'linear'}</td>\n",
       "      <td>6.223547</td>\n",
       "      <td>0.361455</td>\n",
       "      <td>7.706775</td>\n",
       "      <td>7.487611</td>\n",
       "      <td>0.467114</td>\n",
       "      <td>0.420068</td>\n",
       "      <td>0.067237</td>\n",
       "      <td>9.123859</td>\n",
       "      <td>0.705711</td>\n",
       "    </tr>\n",
       "    <tr>\n",
       "      <td>7</td>\n",
       "      <td>{'C': 1, 'gamma': 1, 'kernel': 'rbf'}</td>\n",
       "      <td>4.537186</td>\n",
       "      <td>0.280774</td>\n",
       "      <td>6.064065</td>\n",
       "      <td>7.403645</td>\n",
       "      <td>0.395171</td>\n",
       "      <td>0.440545</td>\n",
       "      <td>0.080930</td>\n",
       "      <td>8.862433</td>\n",
       "      <td>0.478966</td>\n",
       "    </tr>\n",
       "    <tr>\n",
       "      <td>8</td>\n",
       "      <td>{'C': 0.001, 'gamma': 0.1, 'kernel': 'linear'}</td>\n",
       "      <td>6.711896</td>\n",
       "      <td>0.395731</td>\n",
       "      <td>8.004250</td>\n",
       "      <td>7.159903</td>\n",
       "      <td>0.709951</td>\n",
       "      <td>0.412801</td>\n",
       "      <td>0.077033</td>\n",
       "      <td>8.446333</td>\n",
       "      <td>0.809190</td>\n",
       "    </tr>\n",
       "    <tr>\n",
       "      <td>9</td>\n",
       "      <td>{'C': 0.001, 'gamma': 0.1, 'kernel': 'rbf'}</td>\n",
       "      <td>6.916818</td>\n",
       "      <td>0.417450</td>\n",
       "      <td>8.147806</td>\n",
       "      <td>7.173788</td>\n",
       "      <td>0.740053</td>\n",
       "      <td>0.423226</td>\n",
       "      <td>0.086255</td>\n",
       "      <td>8.454096</td>\n",
       "      <td>0.777221</td>\n",
       "    </tr>\n",
       "    <tr>\n",
       "      <td>10</td>\n",
       "      <td>{'C': 0.001, 'gamma': 1, 'kernel': 'linear'}</td>\n",
       "      <td>6.711896</td>\n",
       "      <td>0.395731</td>\n",
       "      <td>8.004250</td>\n",
       "      <td>7.159903</td>\n",
       "      <td>0.709951</td>\n",
       "      <td>0.412801</td>\n",
       "      <td>0.077033</td>\n",
       "      <td>8.446333</td>\n",
       "      <td>0.809190</td>\n",
       "    </tr>\n",
       "    <tr>\n",
       "      <td>11</td>\n",
       "      <td>{'C': 0.001, 'gamma': 1, 'kernel': 'rbf'}</td>\n",
       "      <td>6.927076</td>\n",
       "      <td>0.418286</td>\n",
       "      <td>8.158125</td>\n",
       "      <td>7.169029</td>\n",
       "      <td>0.745879</td>\n",
       "      <td>0.423184</td>\n",
       "      <td>0.086487</td>\n",
       "      <td>8.452496</td>\n",
       "      <td>0.781632</td>\n",
       "    </tr>\n",
       "    <tr>\n",
       "      <td>12</td>\n",
       "      <td>{'C': 3e-05, 'gamma': 0.1, 'kernel': 'linear'}</td>\n",
       "      <td>6.910906</td>\n",
       "      <td>0.416452</td>\n",
       "      <td>8.146603</td>\n",
       "      <td>7.160448</td>\n",
       "      <td>0.746203</td>\n",
       "      <td>0.421701</td>\n",
       "      <td>0.085238</td>\n",
       "      <td>8.442000</td>\n",
       "      <td>0.784480</td>\n",
       "    </tr>\n",
       "    <tr>\n",
       "      <td>13</td>\n",
       "      <td>{'C': 3e-05, 'gamma': 0.1, 'kernel': 'rbf'}</td>\n",
       "      <td>6.937065</td>\n",
       "      <td>0.418919</td>\n",
       "      <td>8.167971</td>\n",
       "      <td>7.169453</td>\n",
       "      <td>0.747791</td>\n",
       "      <td>0.423207</td>\n",
       "      <td>0.086461</td>\n",
       "      <td>8.453013</td>\n",
       "      <td>0.783222</td>\n",
       "    </tr>\n",
       "    <tr>\n",
       "      <td>14</td>\n",
       "      <td>{'C': 3e-05, 'gamma': 1, 'kernel': 'linear'}</td>\n",
       "      <td>6.910906</td>\n",
       "      <td>0.416452</td>\n",
       "      <td>8.146603</td>\n",
       "      <td>7.160448</td>\n",
       "      <td>0.746203</td>\n",
       "      <td>0.421701</td>\n",
       "      <td>0.085238</td>\n",
       "      <td>8.442000</td>\n",
       "      <td>0.784480</td>\n",
       "    </tr>\n",
       "    <tr>\n",
       "      <td>15</td>\n",
       "      <td>{'C': 3e-05, 'gamma': 1, 'kernel': 'rbf'}</td>\n",
       "      <td>6.937383</td>\n",
       "      <td>0.418950</td>\n",
       "      <td>8.168289</td>\n",
       "      <td>7.169257</td>\n",
       "      <td>0.747914</td>\n",
       "      <td>0.423206</td>\n",
       "      <td>0.086462</td>\n",
       "      <td>8.452856</td>\n",
       "      <td>0.783253</td>\n",
       "    </tr>\n",
       "  </tbody>\n",
       "</table>\n",
       "</div>"
      ],
      "text/plain": [
       "                                             params  mean_train_mae  \\\n",
       "0   {'C': 1000.0, 'gamma': 0.1, 'kernel': 'linear'}        6.221004   \n",
       "1      {'C': 1000.0, 'gamma': 0.1, 'kernel': 'rbf'}        3.217091   \n",
       "2     {'C': 1000.0, 'gamma': 1, 'kernel': 'linear'}        6.221004   \n",
       "3        {'C': 1000.0, 'gamma': 1, 'kernel': 'rbf'}        0.206247   \n",
       "4        {'C': 1, 'gamma': 0.1, 'kernel': 'linear'}        6.223547   \n",
       "5           {'C': 1, 'gamma': 0.1, 'kernel': 'rbf'}        5.264087   \n",
       "6          {'C': 1, 'gamma': 1, 'kernel': 'linear'}        6.223547   \n",
       "7             {'C': 1, 'gamma': 1, 'kernel': 'rbf'}        4.537186   \n",
       "8    {'C': 0.001, 'gamma': 0.1, 'kernel': 'linear'}        6.711896   \n",
       "9       {'C': 0.001, 'gamma': 0.1, 'kernel': 'rbf'}        6.916818   \n",
       "10     {'C': 0.001, 'gamma': 1, 'kernel': 'linear'}        6.711896   \n",
       "11        {'C': 0.001, 'gamma': 1, 'kernel': 'rbf'}        6.927076   \n",
       "12   {'C': 3e-05, 'gamma': 0.1, 'kernel': 'linear'}        6.910906   \n",
       "13      {'C': 3e-05, 'gamma': 0.1, 'kernel': 'rbf'}        6.937065   \n",
       "14     {'C': 3e-05, 'gamma': 1, 'kernel': 'linear'}        6.910906   \n",
       "15        {'C': 3e-05, 'gamma': 1, 'kernel': 'rbf'}        6.937383   \n",
       "\n",
       "    mean_train_mape  mean_train_rmse  mean_test_mae  std_test_mae  \\\n",
       "0          0.361629         7.714070       7.500295      0.481315   \n",
       "1          0.203606         4.947816       8.488749      0.490063   \n",
       "2          0.361629         7.714070       7.500295      0.481315   \n",
       "3          0.013408         0.904030       8.949341      0.431197   \n",
       "4          0.361455         7.706775       7.487611      0.467114   \n",
       "5          0.317361         6.749162       7.455751      0.452823   \n",
       "6          0.361455         7.706775       7.487611      0.467114   \n",
       "7          0.280774         6.064065       7.403645      0.395171   \n",
       "8          0.395731         8.004250       7.159903      0.709951   \n",
       "9          0.417450         8.147806       7.173788      0.740053   \n",
       "10         0.395731         8.004250       7.159903      0.709951   \n",
       "11         0.418286         8.158125       7.169029      0.745879   \n",
       "12         0.416452         8.146603       7.160448      0.746203   \n",
       "13         0.418919         8.167971       7.169453      0.747791   \n",
       "14         0.416452         8.146603       7.160448      0.746203   \n",
       "15         0.418950         8.168289       7.169257      0.747914   \n",
       "\n",
       "    mean_test_mape  std_test_mape  mean_test_rmse  std_test_rmse  \n",
       "0         0.420720       0.066425        9.180300       0.758817  \n",
       "1         0.493630       0.084244       10.322263       0.598886  \n",
       "2         0.420720       0.066425        9.180300       0.758817  \n",
       "3         0.532304       0.094813       11.207810       0.566569  \n",
       "4         0.420068       0.067237        9.123859       0.705711  \n",
       "5         0.431873       0.080684        8.953434       0.535530  \n",
       "6         0.420068       0.067237        9.123859       0.705711  \n",
       "7         0.440545       0.080930        8.862433       0.478966  \n",
       "8         0.412801       0.077033        8.446333       0.809190  \n",
       "9         0.423226       0.086255        8.454096       0.777221  \n",
       "10        0.412801       0.077033        8.446333       0.809190  \n",
       "11        0.423184       0.086487        8.452496       0.781632  \n",
       "12        0.421701       0.085238        8.442000       0.784480  \n",
       "13        0.423207       0.086461        8.453013       0.783222  \n",
       "14        0.421701       0.085238        8.442000       0.784480  \n",
       "15        0.423206       0.086462        8.452856       0.783253  "
      ]
     },
     "execution_count": 11,
     "metadata": {},
     "output_type": "execute_result"
    }
   ],
   "source": [
    "outcomes = pd.DataFrame(grid_obj.cv_results_)\n",
    "outcomes = outcomes[['params', 'mean_train_mae', 'mean_train_mape', 'mean_train_rmse',\n",
    "            'mean_test_mae', 'std_test_mae', 'mean_test_mape', 'std_test_mape', 'mean_test_rmse', 'std_test_rmse']]\n",
    "outcomes"
   ]
  },
  {
   "cell_type": "code",
   "execution_count": null,
   "metadata": {},
   "outputs": [],
   "source": []
  }
 ],
 "metadata": {
  "kernelspec": {
   "display_name": "Python 3",
   "language": "python",
   "name": "python3"
  },
  "language_info": {
   "codemirror_mode": {
    "name": "ipython",
    "version": 3
   },
   "file_extension": ".py",
   "mimetype": "text/x-python",
   "name": "python",
   "nbconvert_exporter": "python",
   "pygments_lexer": "ipython3",
   "version": "3.7.4"
  }
 },
 "nbformat": 4,
 "nbformat_minor": 2
}
