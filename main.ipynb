{
 "cells": [
  {
   "cell_type": "markdown",
   "metadata": {},
   "source": [
    "## Machine Learning Project on UCI Parkinsons Telemonitoring Data Set"
   ]
  },
  {
   "cell_type": "markdown",
   "metadata": {},
   "source": [
    "Importación de librerías:"
   ]
  },
  {
   "cell_type": "code",
   "execution_count": 1,
   "metadata": {},
   "outputs": [],
   "source": [
    "from __future__ import division\n",
    "\n",
    "%matplotlib inline\n",
    "import numpy as np\n",
    "import matplotlib.pyplot as plt\n",
    "import numpy.matlib as matlib\n",
    "\n",
    "from numpy import random\n",
    "import math\n",
    "\n",
    "import pandas as pd\n",
    "#!pip install qgrid\n",
    "import qgrid\n",
    "\n",
    "import scipy as sc\n",
    "from scipy.spatial import distance\n",
    "from scipy import stats\n",
    "\n",
    "#algunas advertencias que queremos evitar\n",
    "import warnings\n",
    "warnings.filterwarnings(\"always\")"
   ]
  },
  {
   "cell_type": "markdown",
   "metadata": {},
   "source": [
    "Cargamos la base de datos:"
   ]
  },
  {
   "cell_type": "code",
   "execution_count": 2,
   "metadata": {},
   "outputs": [],
   "source": [
    "#Cargamos la bd que está en un archivo .data y ahora la podemos manejar de forma matricial\n",
    "db = np.loadtxt('DB/parkinsons_updrs.data', delimiter=',', skiprows=1)  # Assuming ',' delimiter\n",
    "\n",
    "#X: Toma todas las filas (muestras) y las columnas 6-21 (características)\n",
    "X = db[:,6:22]\n",
    "#Y: Toma todas las filas y la columna 4, corresponde a la salida de la regresión\n",
    "Y = db[:,4]\n",
    "#G: Toma todas las filas y la columna 0, corresponde a la asociación en grupos del dataset\n",
    "G = db[:,0]"
   ]
  },
  {
   "cell_type": "code",
   "execution_count": 3,
   "metadata": {},
   "outputs": [
    {
     "name": "stdout",
     "output_type": "stream",
     "text": [
      "(5875, 16)\n",
      "(5875,)\n",
      "(5875,)\n"
     ]
    }
   ],
   "source": [
    "print(X.shape)\n",
    "print(Y.shape)\n",
    "print(G.shape)"
   ]
  },
  {
   "cell_type": "markdown",
   "metadata": {},
   "source": [
    "Medidas de error para evaluar los métodos de regresión:"
   ]
  },
  {
   "cell_type": "code",
   "execution_count": 23,
   "metadata": {},
   "outputs": [],
   "source": [
    "#Mean Square Error\n",
    "def MSE(Y_est,Y):\n",
    "    N = np.size(Y)\n",
    "    mse = np.sum((Y_est.reshape(N,1) - Y.reshape(N,1))**2)/N\n",
    "    return mse\n",
    "\n",
    "Mean Percentage Error\n",
    "def MAE(Y_est,Y):\n",
    "    N = np.size(Y)\n",
    "    mae = np.sum(abs(Y_est.reshape(N,1) - Y.reshape(N,1)))/N\n",
    "    return mae\n",
    "\n",
    "#Mean Absolute Percentage Error\n",
    "def MAPE(Y_est,Y):\n",
    "    N = np.size(Y)\n",
    "    mape = np.sum(abs((Y_est.reshape(N,1) - Y.reshape(N,1))/Y.reshape(N,1)))/N\n",
    "    return mape\n",
    "\n",
    "#Root Mean Square Error\n",
    "def RMSE(Y_est,Y):\n",
    "    N = np.size(Y)\n",
    "    rmse = math.sqrt(np.sum((Y_est.reshape(N,1) - Y.reshape(N,1))**2)/N)\n",
    "    return rmse\n",
    "\n",
    "#Coeficiente de determinación\n",
    "def R2(Y_est,Y):\n",
    "    N = np.size(Y)\n",
    "    SST = np.sum((Y_est.reshape(N,1) - Y.reshape(N,1))**2)\n",
    "    average = np.sum(Y.reshape(N,1))/N\n",
    "    SSE = np.sum((average - Y.reshape(N,1))**2)\n",
    "    R2 = 1 - (SSE/SST)\n",
    "    return R2\n"
   ]
  },
  {
   "cell_type": "markdown",
   "metadata": {},
   "source": [
    "#### Regresión Polinomial Múltiple"
   ]
  },
  {
   "cell_type": "code",
   "execution_count": 10,
   "metadata": {},
   "outputs": [],
   "source": [
    "from sklearn.model_selection import GroupShuffleSplit\n",
    "from sklearn.preprocessing import PolynomialFeatures\n",
    "from sklearn.linear_model import LinearRegression\n",
    "\n",
    "def PolynomialRegression(degree):\n",
    "    iterations = 10\n",
    "    random.seed(19680801)\n",
    "    errorMAE = np.zeros(iterations)\n",
    "    errorMAPE = np.zeros(iterations)\n",
    "    errorRMSE = np.zeros(iterations)\n",
    "    errorR2 = np.zeros(iterations)\n",
    "\n",
    "    gss = GroupShuffleSplit(n_splits=iterations, train_size=.7)\n",
    "    j=0\n",
    "    for train_idx, test_idx in gss.split(X, Y, G):\n",
    "        Xtrain = X[train_idx,:]\n",
    "        Ytrain = Y[train_idx]\n",
    "        Xtest = X[test_idx,:]\n",
    "        Ytest = Y[test_idx]\n",
    "\n",
    "        #Normalizamos los datos\n",
    "        media = np.mean(Xtrain)\n",
    "        desvia = np.std(Xtrain)\n",
    "        Xtrain = sc.stats.stats.zscore(Xtrain)\n",
    "        Xtest = (Xtest - np.matlib.repmat(media, Xtest.shape[0], 1))/np.matlib.repmat(desvia, Xtest.shape[0], 1)\n",
    "\n",
    "        #Creación del modelo\n",
    "        polynomial_features = PolynomialFeatures(degree=degree)\n",
    "        Xtrain_poly = polynomial_features.fit_transform(Xtrain) # transforms the existing features to higher degree features.\n",
    "\n",
    "        # fit the transformed features to Linear Regression\n",
    "        model = LinearRegression()\n",
    "        model.fit(Xtrain_poly, Ytrain)\n",
    "\n",
    "        #Validación\n",
    "        Yest = model.predict(polynomial_features.fit_transform(Xtest))\n",
    "        #Uso del modelo previamente entrenado para hacer predicciones con las muestras de test\n",
    "        #Se escalan los datos de acuerdo a como se entrenó el modelo para predecir correctamente\n",
    "\n",
    "        #Evaluamos las predicciones del modelo con los datos de Ytest\n",
    "        errorMAE[j] = MAE(Yest,Ytest)\n",
    "        errorMAPE[j] = MAPE(Yest,Ytest)\n",
    "        errorRMSE[j] = RMSE(Yest,Ytest)\n",
    "        errorR2[j] = R2(Yest,Ytest)\n",
    "        j += 1\n",
    "\n",
    "    mae = np.mean(errorMAE)\n",
    "    std_mae = np.std(errorMAE)\n",
    "    mape = np.mean(errorMAPE)\n",
    "    std_mape = np.std(errorMAPE)\n",
    "    rmse = np.mean(errorRMSE)\n",
    "    std_rmse = np.std(errorRMSE)\n",
    "    r2 = np.mean(errorR2)\n",
    "    std_r2 = np.std(errorR2)\n",
    "    return(mae, std_mae, mape, std_mape, rmse, std_rmse, r2, std_r2)\n"
   ]
  },
  {
   "cell_type": "code",
   "execution_count": null,
   "metadata": {},
   "outputs": [],
   "source": [
    "PolynomialRegression(3)"
   ]
  },
  {
   "cell_type": "markdown",
   "metadata": {},
   "source": [
    "#### Redes Neuronales Artificiales"
   ]
  },
  {
   "cell_type": "code",
   "execution_count": 21,
   "metadata": {},
   "outputs": [],
   "source": [
    "from sklearn.model_selection import GroupShuffleSplit\n",
    "from sklearn.neural_network import MLPRegressor\n",
    "\n",
    "def ANN(layers, neurons, epochs):\n",
    "    iterations = 10\n",
    "    random.seed(19680801)\n",
    "    errorMAE = np.zeros(iterations)\n",
    "    errorMAPE = np.zeros(iterations)\n",
    "    errorRMSE = np.zeros(iterations)\n",
    "    errorR2 = np.zeros(iterations)\n",
    "\n",
    "    gss = GroupShuffleSplit(n_splits=iterations, train_size=.7)\n",
    "    j=0\n",
    "    for train_idx, test_idx in gss.split(X, Y, G):\n",
    "        Xtrain = X[train_idx,:]\n",
    "        Ytrain = Y[train_idx]\n",
    "        Xtest = X[test_idx,:]\n",
    "        Ytest = Y[test_idx]\n",
    "\n",
    "        #Normalizamos los datos\n",
    "        media = np.mean(Xtrain)\n",
    "        desvia = np.std(Xtrain)\n",
    "        Xtrain = sc.stats.stats.zscore(Xtrain)\n",
    "        Xtest = (Xtest - np.matlib.repmat(media, Xtest.shape[0], 1))/np.matlib.repmat(desvia, Xtest.shape[0], 1)\n",
    "\n",
    "        #Creación del modelo         \n",
    "        numberOfNeurons = []\n",
    "        for i in range(layers):\n",
    "            numberOfNeurons.append(neurons)\n",
    "            \n",
    "        mlp = MLPRegressor(hidden_layer_sizes=numberOfNeurons, activation='tanh', max_iter=epochs).fit(Xtrain, Ytrain)\n",
    "\n",
    "        #Validación\n",
    "        Yest = mlp.predict(Xtest)\n",
    "\n",
    "        #Evaluamos las predicciones del modelo con los datos de Ytest\n",
    "        errorMAE[j] = MAE(Yest,Ytest)\n",
    "        errorMAPE[j] = MAPE(Yest,Ytest)\n",
    "        errorRMSE[j] = RMSE(Yest,Ytest)\n",
    "        errorR2[j] = R2(Yest,Ytest)\n",
    "        j += 1\n",
    "\n",
    "    mae = np.mean(errorMAE)\n",
    "    std_mae = np.std(errorMAE)\n",
    "    mape = np.mean(errorMAPE)\n",
    "    std_mape = np.std(errorMAPE)\n",
    "    rmse = np.mean(errorRMSE)\n",
    "    std_rmse = np.std(errorRMSE)\n",
    "    r2 = np.mean(errorR2)\n",
    "    std_r2 = np.std(errorR2)\n",
    "    return(mae, std_mae, mape, std_mape, rmse, std_rmse, r2, std_r2)\n"
   ]
  },
  {
   "cell_type": "code",
   "execution_count": null,
   "metadata": {
    "scrolled": true
   },
   "outputs": [],
   "source": [
    "ANN(3, 28, 500)"
   ]
  }
 ],
 "metadata": {
  "kernelspec": {
   "display_name": "Python 3",
   "language": "python",
   "name": "python3"
  },
  "language_info": {
   "codemirror_mode": {
    "name": "ipython",
    "version": 3
   },
   "file_extension": ".py",
   "mimetype": "text/x-python",
   "name": "python",
   "nbconvert_exporter": "python",
   "pygments_lexer": "ipython3",
   "version": "3.7.4"
  }
 },
 "nbformat": 4,
 "nbformat_minor": 2
}
